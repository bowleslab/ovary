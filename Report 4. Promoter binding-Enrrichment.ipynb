{
 "cells": [
  {
   "cell_type": "code",
   "execution_count": 1,
   "id": "8a196b53",
   "metadata": {},
   "outputs": [
    {
     "name": "stderr",
     "output_type": "stream",
     "text": [
      "Loading required package: BiocGenerics\n",
      "\n",
      "\n",
      "Attaching package: ‘BiocGenerics’\n",
      "\n",
      "\n",
      "The following objects are masked from ‘package:stats’:\n",
      "\n",
      "    IQR, mad, sd, var, xtabs\n",
      "\n",
      "\n",
      "The following objects are masked from ‘package:base’:\n",
      "\n",
      "    anyDuplicated, aperm, append, as.data.frame, basename, cbind,\n",
      "    colnames, dirname, do.call, duplicated, eval, evalq, Filter, Find,\n",
      "    get, grep, grepl, intersect, is.unsorted, lapply, Map, mapply,\n",
      "    match, mget, order, paste, pmax, pmax.int, pmin, pmin.int,\n",
      "    Position, rank, rbind, Reduce, rownames, sapply, setdiff, sort,\n",
      "    table, tapply, union, unique, unsplit, which.max, which.min\n",
      "\n",
      "\n",
      "Loading required package: S4Vectors\n",
      "\n",
      "Loading required package: stats4\n",
      "\n",
      "\n",
      "Attaching package: ‘S4Vectors’\n",
      "\n",
      "\n",
      "The following objects are masked from ‘package:base’:\n",
      "\n",
      "    expand.grid, I, unname\n",
      "\n",
      "\n",
      "Loading required package: IRanges\n",
      "\n",
      "Loading required package: GenomicRanges\n",
      "\n",
      "Loading required package: GenomeInfoDb\n",
      "\n",
      "Loading required package: Biostrings\n",
      "\n",
      "Loading required package: XVector\n",
      "\n",
      "\n",
      "Attaching package: ‘Biostrings’\n",
      "\n",
      "\n",
      "The following object is masked from ‘package:base’:\n",
      "\n",
      "    strsplit\n",
      "\n",
      "\n",
      "See system.file(\"LICENSE\", package=\"MotifDb\") for use restrictions.\n",
      "\n",
      "Loading required package: grid\n",
      "\n",
      "\n",
      "Attaching package: ‘grid’\n",
      "\n",
      "\n",
      "The following object is masked from ‘package:Biostrings’:\n",
      "\n",
      "    pattern\n",
      "\n",
      "\n",
      "\n",
      "\n",
      "Loading required package: AnnotationDbi\n",
      "\n",
      "Loading required package: Biobase\n",
      "\n",
      "Welcome to Bioconductor\n",
      "\n",
      "    Vignettes contain introductory material; view with\n",
      "    'browseVignettes()'. To cite Bioconductor, see\n",
      "    'citation(\"Biobase\")', and for packages 'citation(\"pkgname\")'.\n",
      "\n",
      "\n",
      "\n",
      "Attaching package: ‘igraph’\n",
      "\n",
      "\n",
      "The following object is masked from ‘package:Biostrings’:\n",
      "\n",
      "    union\n",
      "\n",
      "\n",
      "The following object is masked from ‘package:XVector’:\n",
      "\n",
      "    path\n",
      "\n",
      "\n",
      "The following object is masked from ‘package:GenomicRanges’:\n",
      "\n",
      "    union\n",
      "\n",
      "\n",
      "The following object is masked from ‘package:IRanges’:\n",
      "\n",
      "    union\n",
      "\n",
      "\n",
      "The following object is masked from ‘package:S4Vectors’:\n",
      "\n",
      "    union\n",
      "\n",
      "\n",
      "The following objects are masked from ‘package:BiocGenerics’:\n",
      "\n",
      "    normalize, path, union\n",
      "\n",
      "\n",
      "The following objects are masked from ‘package:stats’:\n",
      "\n",
      "    decompose, spectrum\n",
      "\n",
      "\n",
      "The following object is masked from ‘package:base’:\n",
      "\n",
      "    union\n",
      "\n",
      "\n"
     ]
    }
   ],
   "source": [
    "\n",
    "library(MotifDb)\n",
    "library(seqLogo)\n",
    "library(motifStack)\n",
    "library(Biostrings)\n",
    "library(GenomicFeatures)\n",
    "library(igraph)\n",
    "library(stringr)"
   ]
  },
  {
   "cell_type": "code",
   "execution_count": 2,
   "id": "d802cf49",
   "metadata": {},
   "outputs": [
    {
     "name": "stderr",
     "output_type": "stream",
     "text": [
      "\n",
      "\n",
      "Loading required package: BSgenome\n",
      "\n",
      "Loading required package: rtracklayer\n",
      "\n",
      "\n",
      "Attaching package: ‘rtracklayer’\n",
      "\n",
      "\n",
      "The following object is masked from ‘package:igraph’:\n",
      "\n",
      "    blocks\n",
      "\n",
      "\n"
     ]
    }
   ],
   "source": [
    "\n",
    "library(TxDb.Mmusculus.UCSC.mm10.knownGene)\n",
    "library(org.Mm.eg.db)\n",
    "library(AnnotationDbi)\n",
    "library(BSgenome.Mmusculus.UCSC.mm10)"
   ]
  },
  {
   "cell_type": "code",
   "execution_count": 3,
   "id": "c8d69ebf",
   "metadata": {},
   "outputs": [],
   "source": [
    "findHits <- function (TF.gene,pfm,per){\n",
    "    \n",
    "    pcm.nfix.jaspar = pfm\n",
    "\n",
    "\n",
    "    \n",
    "    seqLogo(pcm.nfix.jaspar)\n",
    "\n",
    "    pwm.hits <- sapply(promoter.seqs, \n",
    "                          function(pseq) \n",
    "                             matchPWM(pcm.nfix.jaspar, unlist(pseq), min.score=per))\n",
    "\n",
    "    nfix.jaspar.hits <- sapply(pwm.hits, length)\n",
    "    head(nfix.jaspar.hits)\n",
    "    nfix.jaspar.hits.positive <- nfix.jaspar.hits[nfix.jaspar.hits > 0]\n",
    "    head(nfix.jaspar.hits.positive)\n",
    "    length(nfix.jaspar.hits.positive)\n",
    "    length(nfix.jaspar.hits)\n",
    "\n",
    "    hit.genes =  as.data.frame( genes[ genes %in% names( nfix.jaspar.hits.positive)])\n",
    "    hit.genes$gene = row.names(hit.genes)\n",
    "    colnames(hit.genes) = c(\"ENTREZID\",\"gene\")\n",
    "\n",
    "    nfix.jaspar.hits.dataframe = as.data.frame(nfix.jaspar.hits)\n",
    "    nfix.jaspar.hits.dataframe$ENTREZID = row.names(nfix.jaspar.hits.dataframe)\n",
    "    colnames(nfix.jaspar.hits.dataframe) = c(\"hits\",\"ENTREZID\")\n",
    "    nfix.hits.genes <- merge(hit.genes,nfix.jaspar.hits.dataframe,by=c(\"ENTREZID\"))\n",
    "\n",
    "    nfix.hits.genes$TF <- TF.gene\n",
    "    head(nfix.hits.genes)\n",
    "    dim(nfix.hits.genes)\n",
    "    return (nfix.hits.genes)\n",
    "\n",
    "}"
   ]
  },
  {
   "cell_type": "code",
   "execution_count": 4,
   "id": "28efc9ef",
   "metadata": {},
   "outputs": [],
   "source": [
    "plotAllMotif<- function ( geneName  ) {\n",
    "\n",
    "    #mat = query(MotifDb, geneName)\n",
    "    print(geneName)\n",
    "    pfm.TF = c()\n",
    "    count = 0\n",
    "    print(length (as.list (mat)))\n",
    "    if(length (as.list (mat)) > 1 ){\n",
    "        for (key in c(1: length (as.list (mat)) )) {\n",
    "            count = count + 1\n",
    "            pfm  <- new(\"pfm\", mat=mat[[key]], \n",
    "                                name=paste( names(as.list (mat)[key]),\"--\",count ))\n",
    "\n",
    "            pfm.TF = c(pfm.TF,pfm)\n",
    "        }\n",
    "\n",
    "        plotMotifLogoStack(DNAmotifAlignment( pfm.TF   ))\n",
    "    }else{\n",
    "        if(length (as.list (mat)) == 1 ){\n",
    "            print(geneName)\n",
    "            pfm <- mat[[1]]\n",
    "            seqLogo(pfm)\n",
    "        }\n",
    "        \n",
    "    }\n",
    "    \n",
    "}\n",
    "  "
   ]
  },
  {
   "cell_type": "code",
   "execution_count": 5,
   "id": "a485e4c5",
   "metadata": {},
   "outputs": [],
   "source": [
    "load(\"data/deg_clusteP1_vs_P5_cut.Rdata\")"
   ]
  },
  {
   "cell_type": "code",
   "execution_count": 6,
   "id": "f5876466",
   "metadata": {},
   "outputs": [
    {
     "data": {
      "text/html": [
       "<table class=\"dataframe\">\n",
       "<caption>A data.frame: 6 × 8</caption>\n",
       "<thead>\n",
       "\t<tr><th></th><th scope=col>p_val</th><th scope=col>avg_log2FC</th><th scope=col>pct.1</th><th scope=col>pct.2</th><th scope=col>p_val_adj</th><th scope=col>cluster</th><th scope=col>dir</th><th scope=col>gene</th></tr>\n",
       "\t<tr><th></th><th scope=col>&lt;dbl&gt;</th><th scope=col>&lt;dbl&gt;</th><th scope=col>&lt;dbl&gt;</th><th scope=col>&lt;dbl&gt;</th><th scope=col>&lt;dbl&gt;</th><th scope=col>&lt;chr&gt;</th><th scope=col>&lt;chr&gt;</th><th scope=col>&lt;chr&gt;</th></tr>\n",
       "</thead>\n",
       "<tbody>\n",
       "\t<tr><th scope=row>H19</th><td>1.265503e-233</td><td>-0.6515780</td><td>0.593</td><td>0.936</td><td>3.106683e-229</td><td>P5</td><td>down</td><td>H19    </td></tr>\n",
       "\t<tr><th scope=row>Dlk1</th><td>2.016952e-149</td><td>-0.4980116</td><td>0.766</td><td>0.944</td><td>4.951416e-145</td><td>P5</td><td>down</td><td>Dlk1   </td></tr>\n",
       "\t<tr><th scope=row>Cox7a2l</th><td>2.765188e-133</td><td>-0.2808167</td><td>0.875</td><td>0.967</td><td>6.788260e-129</td><td>P5</td><td>down</td><td>Cox7a2l</td></tr>\n",
       "\t<tr><th scope=row>Meg3</th><td>9.836509e-132</td><td>-0.3025115</td><td>0.975</td><td>0.996</td><td>2.414765e-127</td><td>P5</td><td>down</td><td>Meg3   </td></tr>\n",
       "\t<tr><th scope=row>Hbb-bt</th><td>1.177453e-125</td><td>-0.3450935</td><td>0.719</td><td>0.902</td><td>2.890529e-121</td><td>P5</td><td>down</td><td>Hbb-bt </td></tr>\n",
       "\t<tr><th scope=row>Gas1</th><td>8.630197e-123</td><td>-0.3780728</td><td>0.695</td><td>0.906</td><td>2.118627e-118</td><td>P5</td><td>down</td><td>Gas1   </td></tr>\n",
       "</tbody>\n",
       "</table>\n"
      ],
      "text/latex": [
       "A data.frame: 6 × 8\n",
       "\\begin{tabular}{r|llllllll}\n",
       "  & p\\_val & avg\\_log2FC & pct.1 & pct.2 & p\\_val\\_adj & cluster & dir & gene\\\\\n",
       "  & <dbl> & <dbl> & <dbl> & <dbl> & <dbl> & <chr> & <chr> & <chr>\\\\\n",
       "\\hline\n",
       "\tH19 & 1.265503e-233 & -0.6515780 & 0.593 & 0.936 & 3.106683e-229 & P5 & down & H19    \\\\\n",
       "\tDlk1 & 2.016952e-149 & -0.4980116 & 0.766 & 0.944 & 4.951416e-145 & P5 & down & Dlk1   \\\\\n",
       "\tCox7a2l & 2.765188e-133 & -0.2808167 & 0.875 & 0.967 & 6.788260e-129 & P5 & down & Cox7a2l\\\\\n",
       "\tMeg3 & 9.836509e-132 & -0.3025115 & 0.975 & 0.996 & 2.414765e-127 & P5 & down & Meg3   \\\\\n",
       "\tHbb-bt & 1.177453e-125 & -0.3450935 & 0.719 & 0.902 & 2.890529e-121 & P5 & down & Hbb-bt \\\\\n",
       "\tGas1 & 8.630197e-123 & -0.3780728 & 0.695 & 0.906 & 2.118627e-118 & P5 & down & Gas1   \\\\\n",
       "\\end{tabular}\n"
      ],
      "text/markdown": [
       "\n",
       "A data.frame: 6 × 8\n",
       "\n",
       "| <!--/--> | p_val &lt;dbl&gt; | avg_log2FC &lt;dbl&gt; | pct.1 &lt;dbl&gt; | pct.2 &lt;dbl&gt; | p_val_adj &lt;dbl&gt; | cluster &lt;chr&gt; | dir &lt;chr&gt; | gene &lt;chr&gt; |\n",
       "|---|---|---|---|---|---|---|---|---|\n",
       "| H19 | 1.265503e-233 | -0.6515780 | 0.593 | 0.936 | 3.106683e-229 | P5 | down | H19     |\n",
       "| Dlk1 | 2.016952e-149 | -0.4980116 | 0.766 | 0.944 | 4.951416e-145 | P5 | down | Dlk1    |\n",
       "| Cox7a2l | 2.765188e-133 | -0.2808167 | 0.875 | 0.967 | 6.788260e-129 | P5 | down | Cox7a2l |\n",
       "| Meg3 | 9.836509e-132 | -0.3025115 | 0.975 | 0.996 | 2.414765e-127 | P5 | down | Meg3    |\n",
       "| Hbb-bt | 1.177453e-125 | -0.3450935 | 0.719 | 0.902 | 2.890529e-121 | P5 | down | Hbb-bt  |\n",
       "| Gas1 | 8.630197e-123 | -0.3780728 | 0.695 | 0.906 | 2.118627e-118 | P5 | down | Gas1    |\n",
       "\n"
      ],
      "text/plain": [
       "        p_val         avg_log2FC pct.1 pct.2 p_val_adj     cluster dir  gene   \n",
       "H19     1.265503e-233 -0.6515780 0.593 0.936 3.106683e-229 P5      down H19    \n",
       "Dlk1    2.016952e-149 -0.4980116 0.766 0.944 4.951416e-145 P5      down Dlk1   \n",
       "Cox7a2l 2.765188e-133 -0.2808167 0.875 0.967 6.788260e-129 P5      down Cox7a2l\n",
       "Meg3    9.836509e-132 -0.3025115 0.975 0.996 2.414765e-127 P5      down Meg3   \n",
       "Hbb-bt  1.177453e-125 -0.3450935 0.719 0.902 2.890529e-121 P5      down Hbb-bt \n",
       "Gas1    8.630197e-123 -0.3780728 0.695 0.906 2.118627e-118 P5      down Gas1   "
      ]
     },
     "metadata": {},
     "output_type": "display_data"
    },
    {
     "data": {
      "text/html": [
       "<style>\n",
       ".list-inline {list-style: none; margin:0; padding: 0}\n",
       ".list-inline>li {display: inline-block}\n",
       ".list-inline>li:not(:last-child)::after {content: \"\\00b7\"; padding: 0 .5ex}\n",
       "</style>\n",
       "<ol class=list-inline><li>41</li><li>8</li></ol>\n"
      ],
      "text/latex": [
       "\\begin{enumerate*}\n",
       "\\item 41\n",
       "\\item 8\n",
       "\\end{enumerate*}\n"
      ],
      "text/markdown": [
       "1. 41\n",
       "2. 8\n",
       "\n",
       "\n"
      ],
      "text/plain": [
       "[1] 41  8"
      ]
     },
     "metadata": {},
     "output_type": "display_data"
    }
   ],
   "source": [
    "head(clusterP5.DEG_CUT)\n",
    "dim(clusterP5.DEG_CUT)"
   ]
  },
  {
   "cell_type": "code",
   "execution_count": 7,
   "id": "4ee10b48",
   "metadata": {},
   "outputs": [
    {
     "data": {
      "text/html": [
       "<style>\n",
       ".list-inline {list-style: none; margin:0; padding: 0}\n",
       ".list-inline>li {display: inline-block}\n",
       ".list-inline>li:not(:last-child)::after {content: \"\\00b7\"; padding: 0 .5ex}\n",
       "</style>\n",
       "<ol class=list-inline><li>'H19'</li><li>'Dlk1'</li><li>'Cox7a2l'</li><li>'Meg3'</li><li>'Hbb-bt'</li><li>'Gas1'</li></ol>\n"
      ],
      "text/latex": [
       "\\begin{enumerate*}\n",
       "\\item 'H19'\n",
       "\\item 'Dlk1'\n",
       "\\item 'Cox7a2l'\n",
       "\\item 'Meg3'\n",
       "\\item 'Hbb-bt'\n",
       "\\item 'Gas1'\n",
       "\\end{enumerate*}\n"
      ],
      "text/markdown": [
       "1. 'H19'\n",
       "2. 'Dlk1'\n",
       "3. 'Cox7a2l'\n",
       "4. 'Meg3'\n",
       "5. 'Hbb-bt'\n",
       "6. 'Gas1'\n",
       "\n",
       "\n"
      ],
      "text/plain": [
       "[1] \"H19\"     \"Dlk1\"    \"Cox7a2l\" \"Meg3\"    \"Hbb-bt\"  \"Gas1\"   "
      ]
     },
     "metadata": {},
     "output_type": "display_data"
    },
    {
     "name": "stderr",
     "output_type": "stream",
     "text": [
      "'select()' returned 1:1 mapping between keys and columns\n",
      "\n"
     ]
    },
    {
     "data": {
      "text/html": [
       "<style>\n",
       ".dl-inline {width: auto; margin:0; padding: 0}\n",
       ".dl-inline>dt, .dl-inline>dd {float: none; width: auto; display: inline-block}\n",
       ".dl-inline>dt::after {content: \":\\0020\"; padding-right: .5ex}\n",
       ".dl-inline>dt:not(:first-of-type) {padding-left: .5ex}\n",
       "</style><dl class=dl-inline><dt>H19</dt><dd>'14955'</dd><dt>Dlk1</dt><dd>'13386'</dd><dt>Cox7a2l</dt><dd>'20463'</dd><dt>Meg3</dt><dd>'17263'</dd><dt>Hbb-bt</dt><dd>'101488143'</dd><dt>Gas1</dt><dd>'14451'</dd></dl>\n"
      ],
      "text/latex": [
       "\\begin{description*}\n",
       "\\item[H19] '14955'\n",
       "\\item[Dlk1] '13386'\n",
       "\\item[Cox7a2l] '20463'\n",
       "\\item[Meg3] '17263'\n",
       "\\item[Hbb-bt] '101488143'\n",
       "\\item[Gas1] '14451'\n",
       "\\end{description*}\n"
      ],
      "text/markdown": [
       "H19\n",
       ":   '14955'Dlk1\n",
       ":   '13386'Cox7a2l\n",
       ":   '20463'Meg3\n",
       ":   '17263'Hbb-bt\n",
       ":   '101488143'Gas1\n",
       ":   '14451'\n",
       "\n"
      ],
      "text/plain": [
       "        H19        Dlk1     Cox7a2l        Meg3      Hbb-bt        Gas1 \n",
       "    \"14955\"     \"13386\"     \"20463\"     \"17263\" \"101488143\"     \"14451\" "
      ]
     },
     "metadata": {},
     "output_type": "display_data"
    },
    {
     "data": {
      "text/plain": [
       "DNAStringSetList of length 6\n",
       "[[\"14955\"]] 14955=GAATGGTTCCCTTACACACTGAACCAGAGAACTTGACTCATTCCCTACACAGCCCGAGA...\n",
       "[[\"13386\"]] 13386=GCCACCCTGTAGGGCCTCCAAAAGAGGATTCTGTCTGCTTCCCTCACAGATCCCTCGAG...\n",
       "[[\"20463\"]] 20463=ACACCTCCTAATAGTGCCCCTCTCTAGCCCAAGCATAGACACACTGTCACACAAGTTAA...\n",
       "[[\"17263\"]] 17263=CTTATTTTTGCCTTTATTTTAGGAAGCCAGAAGGACAAACATGTTGCCATGGAGTTCTG...\n",
       "[[\"101488143\"]] 101488143=TAGTGATTGCCATATCCAGGGATCCACCCCATAATCAGCATCCAAACGCTG...\n",
       "[[\"14451\"]] 14451=TGAAAGAGGGGAATGCACACAGCCTGCTGTGGCTGCCTGTTCCTCTGGCCTTCCACGTC..."
      ]
     },
     "metadata": {},
     "output_type": "display_data"
    }
   ],
   "source": [
    "cluste2_3.DEG <- clusterP5.DEG_CUT\n",
    "genesS <- cluste2_3.DEG$gene\n",
    "head(genesS)\n",
    "genes <- mapIds(org.Mm.eg.db, genesS, 'ENTREZID', 'SYMBOL')\n",
    "genes <- genes[!is.na(genes)]\n",
    "genes <- genes[genes %in% keys(TxDb.Mmusculus.UCSC.mm10.knownGene)]\n",
    "head(genes)\n",
    "\n",
    "grl <- transcriptsBy(TxDb.Mmusculus.UCSC.mm10.knownGene, by=\"gene\") [genes]\n",
    "promoter.seqs <- getPromoterSeq(grl, Mmusculus, upstream=2500,\n",
    "                                downstream=500)\n",
    "head(promoter.seqs)"
   ]
  },
  {
   "cell_type": "markdown",
   "id": "3d947e27",
   "metadata": {},
   "source": [
    "<h1>Transcription factors</h1>"
   ]
  },
  {
   "cell_type": "code",
   "execution_count": 8,
   "id": "b6765815",
   "metadata": {},
   "outputs": [],
   "source": [
    "allTF = values (MotifDb)$geneSymbol\n",
    "cluste2_3.DEG.TF = cluste2_3.DEG[toupper(cluste2_3.DEG$gene) %in% toupper(allTF), ]\n",
    "cluste2_3.DEG.TF.up = cluste2_3.DEG.TF[cluste2_3.DEG.TF$avg_log2FC > 0, ]\n",
    "cluste2_3.DEG.TF.down = cluste2_3.DEG.TF[cluste2_3.DEG.TF$avg_log2FC <0, ]"
   ]
  },
  {
   "cell_type": "code",
   "execution_count": 9,
   "id": "23695125",
   "metadata": {},
   "outputs": [],
   "source": [
    "#save TF as csv\n",
    "write.csv(cluste2_3.DEG.TF.up,\"data/TF/mergeP1-P5-TF-up.csv\", row.names = FALSE)\n",
    "write.csv(cluste2_3.DEG.TF.down,\"data/TF/mergeP1-TF-down.csv\", row.names = FALSE)"
   ]
  },
  {
   "cell_type": "code",
   "execution_count": 10,
   "id": "23d069c1",
   "metadata": {},
   "outputs": [],
   "source": [
    "#save DEG as csv\n",
    "cluste2_3.DEG$TF <- ifelse(toupper(cluste2_3.DEG$gene) %in% toupper(allTF),\"yes\",\"no\")\n",
    "cluste2_3.DEG.up = cluste2_3.DEG[cluste2_3.DEG$avg_log2FC > 0, ]\n",
    "cluste2_3.DEG.down = cluste2_3.DEG[cluste2_3.DEG$avg_log2FC < 0, ]\n",
    "write.csv(cluste2_3.DEG.up,\"data/TF/mergeP1-P5-up.csv\", row.names = FALSE)\n",
    "write.csv(cluste2_3.DEG.down,\"data/TF/mergeP1-P5-down.csv\", row.names = FALSE)"
   ]
  },
  {
   "cell_type": "code",
   "execution_count": 11,
   "id": "452298de",
   "metadata": {},
   "outputs": [
    {
     "data": {
      "text/html": [
       "<style>\n",
       ".list-inline {list-style: none; margin:0; padding: 0}\n",
       ".list-inline>li {display: inline-block}\n",
       ".list-inline>li:not(:last-child)::after {content: \"\\00b7\"; padding: 0 .5ex}\n",
       "</style>\n",
       "<ol class=list-inline><li>10</li><li>9</li></ol>\n"
      ],
      "text/latex": [
       "\\begin{enumerate*}\n",
       "\\item 10\n",
       "\\item 9\n",
       "\\end{enumerate*}\n"
      ],
      "text/markdown": [
       "1. 10\n",
       "2. 9\n",
       "\n",
       "\n"
      ],
      "text/plain": [
       "[1] 10  9"
      ]
     },
     "metadata": {},
     "output_type": "display_data"
    },
    {
     "data": {
      "text/html": [
       "<style>\n",
       ".list-inline {list-style: none; margin:0; padding: 0}\n",
       ".list-inline>li {display: inline-block}\n",
       ".list-inline>li:not(:last-child)::after {content: \"\\00b7\"; padding: 0 .5ex}\n",
       "</style>\n",
       "<ol class=list-inline><li>31</li><li>9</li></ol>\n"
      ],
      "text/latex": [
       "\\begin{enumerate*}\n",
       "\\item 31\n",
       "\\item 9\n",
       "\\end{enumerate*}\n"
      ],
      "text/markdown": [
       "1. 31\n",
       "2. 9\n",
       "\n",
       "\n"
      ],
      "text/plain": [
       "[1] 31  9"
      ]
     },
     "metadata": {},
     "output_type": "display_data"
    }
   ],
   "source": [
    "dim(cluste2_3.DEG.up)\n",
    "dim(cluste2_3.DEG.down)"
   ]
  },
  {
   "cell_type": "code",
   "execution_count": 12,
   "id": "956e2c65",
   "metadata": {},
   "outputs": [
    {
     "data": {
      "text/html": [
       "<table class=\"dataframe\">\n",
       "<caption>A data.frame: 1 × 9</caption>\n",
       "<thead>\n",
       "\t<tr><th></th><th scope=col>p_val</th><th scope=col>avg_log2FC</th><th scope=col>pct.1</th><th scope=col>pct.2</th><th scope=col>p_val_adj</th><th scope=col>cluster</th><th scope=col>dir</th><th scope=col>gene</th><th scope=col>TF</th></tr>\n",
       "\t<tr><th></th><th scope=col>&lt;dbl&gt;</th><th scope=col>&lt;dbl&gt;</th><th scope=col>&lt;dbl&gt;</th><th scope=col>&lt;dbl&gt;</th><th scope=col>&lt;dbl&gt;</th><th scope=col>&lt;chr&gt;</th><th scope=col>&lt;chr&gt;</th><th scope=col>&lt;chr&gt;</th><th scope=col>&lt;chr&gt;</th></tr>\n",
       "</thead>\n",
       "<tbody>\n",
       "\t<tr><th scope=row>Foxl2</th><td>7.867274e-61</td><td>0.2804115</td><td>0.539</td><td>0.263</td><td>1.931337e-56</td><td>P5</td><td>up</td><td>Foxl2</td><td>yes</td></tr>\n",
       "</tbody>\n",
       "</table>\n"
      ],
      "text/latex": [
       "A data.frame: 1 × 9\n",
       "\\begin{tabular}{r|lllllllll}\n",
       "  & p\\_val & avg\\_log2FC & pct.1 & pct.2 & p\\_val\\_adj & cluster & dir & gene & TF\\\\\n",
       "  & <dbl> & <dbl> & <dbl> & <dbl> & <dbl> & <chr> & <chr> & <chr> & <chr>\\\\\n",
       "\\hline\n",
       "\tFoxl2 & 7.867274e-61 & 0.2804115 & 0.539 & 0.263 & 1.931337e-56 & P5 & up & Foxl2 & yes\\\\\n",
       "\\end{tabular}\n"
      ],
      "text/markdown": [
       "\n",
       "A data.frame: 1 × 9\n",
       "\n",
       "| <!--/--> | p_val &lt;dbl&gt; | avg_log2FC &lt;dbl&gt; | pct.1 &lt;dbl&gt; | pct.2 &lt;dbl&gt; | p_val_adj &lt;dbl&gt; | cluster &lt;chr&gt; | dir &lt;chr&gt; | gene &lt;chr&gt; | TF &lt;chr&gt; |\n",
       "|---|---|---|---|---|---|---|---|---|---|\n",
       "| Foxl2 | 7.867274e-61 | 0.2804115 | 0.539 | 0.263 | 1.931337e-56 | P5 | up | Foxl2 | yes |\n",
       "\n"
      ],
      "text/plain": [
       "      p_val        avg_log2FC pct.1 pct.2 p_val_adj    cluster dir gene  TF \n",
       "Foxl2 7.867274e-61 0.2804115  0.539 0.263 1.931337e-56 P5      up  Foxl2 yes"
      ]
     },
     "metadata": {},
     "output_type": "display_data"
    },
    {
     "data": {
      "text/html": [
       "<style>\n",
       ".list-inline {list-style: none; margin:0; padding: 0}\n",
       ".list-inline>li {display: inline-block}\n",
       ".list-inline>li:not(:last-child)::after {content: \"\\00b7\"; padding: 0 .5ex}\n",
       "</style>\n",
       "<ol class=list-inline><li>1</li><li>9</li></ol>\n"
      ],
      "text/latex": [
       "\\begin{enumerate*}\n",
       "\\item 1\n",
       "\\item 9\n",
       "\\end{enumerate*}\n"
      ],
      "text/markdown": [
       "1. 1\n",
       "2. 9\n",
       "\n",
       "\n"
      ],
      "text/plain": [
       "[1] 1 9"
      ]
     },
     "metadata": {},
     "output_type": "display_data"
    }
   ],
   "source": [
    "cluste2_3.DEG.TF = cluste2_3.DEG[toupper(cluste2_3.DEG$gene) %in% toupper(allTF), ]\n",
    "cluste2_3.DEG.TF = cluste2_3.DEG.TF[cluste2_3.DEG.TF$avg_log2FC > 0, ]\n",
    "cluste2_3.DEG.TF\n",
    "dim(cluste2_3.DEG.TF)"
   ]
  },
  {
   "cell_type": "code",
   "execution_count": 13,
   "id": "c0ff4f26",
   "metadata": {},
   "outputs": [
    {
     "name": "stdout",
     "output_type": "stream",
     "text": [
      "[1] \"Foxl2\"\n",
      "[1] 1\n",
      "[1] \"Foxl2\"\n"
     ]
    },
    {
     "data": {
      "text/plain": [
       "MotifDb object of length 1\n",
       "| Created from downloaded public sources, last update: 2022-Mar-04\n",
       "| 1 position frequency matrices from 1 source:\n",
       "|         jaspar2022:    1\n",
       "| 1 organism/s\n",
       "|          Mmusculus:    1\n",
       "Mmusculus-jaspar2022-Foxl2-MA1607.1 "
      ]
     },
     "metadata": {},
     "output_type": "display_data"
    },
    {
     "data": {
      "image/png": "[encoded data removed]",
      "text/plain": [
       "plot without title"
      ]
     },
     "metadata": {
      "image/png": {
       "height": 420,
       "width": 420
      }
     },
     "output_type": "display_data"
    }
   ],
   "source": [
    "TF.gene = cluste2_3.DEG.TF$gene[1]\n",
    "mat = subset (MotifDb, organism=='Mmusculus' & \n",
    "                        dataSource=='jaspar2022' & \n",
    "                        geneSymbol==TF.gene)\n",
    "plotAllMotif(TF.gene)\n",
    "mat"
   ]
  },
  {
   "cell_type": "code",
   "execution_count": 14,
   "id": "681d8bfe",
   "metadata": {},
   "outputs": [
    {
     "data": {
      "text/html": [
       "<style>\n",
       ".list-inline {list-style: none; margin:0; padding: 0}\n",
       ".list-inline>li {display: inline-block}\n",
       ".list-inline>li:not(:last-child)::after {content: \"\\00b7\"; padding: 0 .5ex}\n",
       "</style>\n",
       "<ol class=list-inline><li>24</li><li>5</li></ol>\n"
      ],
      "text/latex": [
       "\\begin{enumerate*}\n",
       "\\item 24\n",
       "\\item 5\n",
       "\\end{enumerate*}\n"
      ],
      "text/markdown": [
       "1. 24\n",
       "2. 5\n",
       "\n",
       "\n"
      ],
      "text/plain": [
       "[1] 24  5"
      ]
     },
     "metadata": {},
     "output_type": "display_data"
    },
    {
     "data": {
      "image/png": "[encoded data removed]",
      "text/plain": [
       "plot without title"
      ]
     },
     "metadata": {
      "image/png": {
       "height": 420,
       "width": 420
      }
     },
     "output_type": "display_data"
    }
   ],
   "source": [
    "hits.tf <- findHits (TF.gene,pfm = mat[[1]],\"85%\" )\n",
    "hits.tf$source = \"jaspar2022\"\n",
    "#### dataframe with TF hits \n",
    "dim(hits.tf)\n",
    "TF.hits <- hits.tf\n"
   ]
  },
  {
   "cell_type": "code",
   "execution_count": 15,
   "id": "37ff2748",
   "metadata": {},
   "outputs": [
    {
     "data": {
      "text/html": [
       "<table class=\"dataframe\">\n",
       "<caption>A data.frame: 24 × 5</caption>\n",
       "<thead>\n",
       "\t<tr><th scope=col>ENTREZID</th><th scope=col>gene</th><th scope=col>hits</th><th scope=col>TF</th><th scope=col>source</th></tr>\n",
       "\t<tr><th scope=col>&lt;chr&gt;</th><th scope=col>&lt;chr&gt;</th><th scope=col>&lt;int&gt;</th><th scope=col>&lt;chr&gt;</th><th scope=col>&lt;chr&gt;</th></tr>\n",
       "</thead>\n",
       "<tbody>\n",
       "\t<tr><td>103172</td><td>Chchd10</td><td> 1</td><td>Foxl2</td><td>jaspar2022</td></tr>\n",
       "\t<tr><td>11475 </td><td>Acta2  </td><td> 1</td><td>Foxl2</td><td>jaspar2022</td></tr>\n",
       "\t<tr><td>11658 </td><td>Alcam  </td><td> 3</td><td>Foxl2</td><td>jaspar2022</td></tr>\n",
       "\t<tr><td>12577 </td><td>Cdkn1c </td><td> 1</td><td>Foxl2</td><td>jaspar2022</td></tr>\n",
       "\t<tr><td>12628 </td><td>Cfh    </td><td> 1</td><td>Foxl2</td><td>jaspar2022</td></tr>\n",
       "\t<tr><td>12829 </td><td>Col4a4 </td><td> 2</td><td>Foxl2</td><td>jaspar2022</td></tr>\n",
       "\t<tr><td>13717 </td><td>Eln    </td><td> 3</td><td>Foxl2</td><td>jaspar2022</td></tr>\n",
       "\t<tr><td>14114 </td><td>Fbln1  </td><td> 1</td><td>Foxl2</td><td>jaspar2022</td></tr>\n",
       "\t<tr><td>14456 </td><td>Gas6   </td><td> 1</td><td>Foxl2</td><td>jaspar2022</td></tr>\n",
       "\t<tr><td>15122 </td><td>Hba-a1 </td><td> 3</td><td>Foxl2</td><td>jaspar2022</td></tr>\n",
       "\t<tr><td>16526 </td><td>Kcnk2  </td><td> 4</td><td>Foxl2</td><td>jaspar2022</td></tr>\n",
       "\t<tr><td>16985 </td><td>Lsp1   </td><td> 5</td><td>Foxl2</td><td>jaspar2022</td></tr>\n",
       "\t<tr><td>17263 </td><td>Meg3   </td><td> 2</td><td>Foxl2</td><td>jaspar2022</td></tr>\n",
       "\t<tr><td>17294 </td><td>Mest   </td><td>10</td><td>Foxl2</td><td>jaspar2022</td></tr>\n",
       "\t<tr><td>17967 </td><td>Ncam1  </td><td> 6</td><td>Foxl2</td><td>jaspar2022</td></tr>\n",
       "\t<tr><td>20377 </td><td>Sfrp1  </td><td> 1</td><td>Foxl2</td><td>jaspar2022</td></tr>\n",
       "\t<tr><td>20463 </td><td>Cox7a2l</td><td> 3</td><td>Foxl2</td><td>jaspar2022</td></tr>\n",
       "\t<tr><td>20563 </td><td>Slit2  </td><td>15</td><td>Foxl2</td><td>jaspar2022</td></tr>\n",
       "\t<tr><td>21808 </td><td>Tgfb2  </td><td> 5</td><td>Foxl2</td><td>jaspar2022</td></tr>\n",
       "\t<tr><td>244059</td><td>Chd2   </td><td>12</td><td>Foxl2</td><td>jaspar2022</td></tr>\n",
       "\t<tr><td>56490 </td><td>Zbtb20 </td><td>27</td><td>Foxl2</td><td>jaspar2022</td></tr>\n",
       "\t<tr><td>67109 </td><td>Zfp787 </td><td> 3</td><td>Foxl2</td><td>jaspar2022</td></tr>\n",
       "\t<tr><td>67963 </td><td>Npc2   </td><td> 5</td><td>Foxl2</td><td>jaspar2022</td></tr>\n",
       "\t<tr><td>68797 </td><td>Pdgfrl </td><td> 2</td><td>Foxl2</td><td>jaspar2022</td></tr>\n",
       "</tbody>\n",
       "</table>\n"
      ],
      "text/latex": [
       "A data.frame: 24 × 5\n",
       "\\begin{tabular}{lllll}\n",
       " ENTREZID & gene & hits & TF & source\\\\\n",
       " <chr> & <chr> & <int> & <chr> & <chr>\\\\\n",
       "\\hline\n",
       "\t 103172 & Chchd10 &  1 & Foxl2 & jaspar2022\\\\\n",
       "\t 11475  & Acta2   &  1 & Foxl2 & jaspar2022\\\\\n",
       "\t 11658  & Alcam   &  3 & Foxl2 & jaspar2022\\\\\n",
       "\t 12577  & Cdkn1c  &  1 & Foxl2 & jaspar2022\\\\\n",
       "\t 12628  & Cfh     &  1 & Foxl2 & jaspar2022\\\\\n",
       "\t 12829  & Col4a4  &  2 & Foxl2 & jaspar2022\\\\\n",
       "\t 13717  & Eln     &  3 & Foxl2 & jaspar2022\\\\\n",
       "\t 14114  & Fbln1   &  1 & Foxl2 & jaspar2022\\\\\n",
       "\t 14456  & Gas6    &  1 & Foxl2 & jaspar2022\\\\\n",
       "\t 15122  & Hba-a1  &  3 & Foxl2 & jaspar2022\\\\\n",
       "\t 16526  & Kcnk2   &  4 & Foxl2 & jaspar2022\\\\\n",
       "\t 16985  & Lsp1    &  5 & Foxl2 & jaspar2022\\\\\n",
       "\t 17263  & Meg3    &  2 & Foxl2 & jaspar2022\\\\\n",
       "\t 17294  & Mest    & 10 & Foxl2 & jaspar2022\\\\\n",
       "\t 17967  & Ncam1   &  6 & Foxl2 & jaspar2022\\\\\n",
       "\t 20377  & Sfrp1   &  1 & Foxl2 & jaspar2022\\\\\n",
       "\t 20463  & Cox7a2l &  3 & Foxl2 & jaspar2022\\\\\n",
       "\t 20563  & Slit2   & 15 & Foxl2 & jaspar2022\\\\\n",
       "\t 21808  & Tgfb2   &  5 & Foxl2 & jaspar2022\\\\\n",
       "\t 244059 & Chd2    & 12 & Foxl2 & jaspar2022\\\\\n",
       "\t 56490  & Zbtb20  & 27 & Foxl2 & jaspar2022\\\\\n",
       "\t 67109  & Zfp787  &  3 & Foxl2 & jaspar2022\\\\\n",
       "\t 67963  & Npc2    &  5 & Foxl2 & jaspar2022\\\\\n",
       "\t 68797  & Pdgfrl  &  2 & Foxl2 & jaspar2022\\\\\n",
       "\\end{tabular}\n"
      ],
      "text/markdown": [
       "\n",
       "A data.frame: 24 × 5\n",
       "\n",
       "| ENTREZID &lt;chr&gt; | gene &lt;chr&gt; | hits &lt;int&gt; | TF &lt;chr&gt; | source &lt;chr&gt; |\n",
       "|---|---|---|---|---|\n",
       "| 103172 | Chchd10 |  1 | Foxl2 | jaspar2022 |\n",
       "| 11475  | Acta2   |  1 | Foxl2 | jaspar2022 |\n",
       "| 11658  | Alcam   |  3 | Foxl2 | jaspar2022 |\n",
       "| 12577  | Cdkn1c  |  1 | Foxl2 | jaspar2022 |\n",
       "| 12628  | Cfh     |  1 | Foxl2 | jaspar2022 |\n",
       "| 12829  | Col4a4  |  2 | Foxl2 | jaspar2022 |\n",
       "| 13717  | Eln     |  3 | Foxl2 | jaspar2022 |\n",
       "| 14114  | Fbln1   |  1 | Foxl2 | jaspar2022 |\n",
       "| 14456  | Gas6    |  1 | Foxl2 | jaspar2022 |\n",
       "| 15122  | Hba-a1  |  3 | Foxl2 | jaspar2022 |\n",
       "| 16526  | Kcnk2   |  4 | Foxl2 | jaspar2022 |\n",
       "| 16985  | Lsp1    |  5 | Foxl2 | jaspar2022 |\n",
       "| 17263  | Meg3    |  2 | Foxl2 | jaspar2022 |\n",
       "| 17294  | Mest    | 10 | Foxl2 | jaspar2022 |\n",
       "| 17967  | Ncam1   |  6 | Foxl2 | jaspar2022 |\n",
       "| 20377  | Sfrp1   |  1 | Foxl2 | jaspar2022 |\n",
       "| 20463  | Cox7a2l |  3 | Foxl2 | jaspar2022 |\n",
       "| 20563  | Slit2   | 15 | Foxl2 | jaspar2022 |\n",
       "| 21808  | Tgfb2   |  5 | Foxl2 | jaspar2022 |\n",
       "| 244059 | Chd2    | 12 | Foxl2 | jaspar2022 |\n",
       "| 56490  | Zbtb20  | 27 | Foxl2 | jaspar2022 |\n",
       "| 67109  | Zfp787  |  3 | Foxl2 | jaspar2022 |\n",
       "| 67963  | Npc2    |  5 | Foxl2 | jaspar2022 |\n",
       "| 68797  | Pdgfrl  |  2 | Foxl2 | jaspar2022 |\n",
       "\n"
      ],
      "text/plain": [
       "   ENTREZID gene    hits TF    source    \n",
       "1  103172   Chchd10  1   Foxl2 jaspar2022\n",
       "2  11475    Acta2    1   Foxl2 jaspar2022\n",
       "3  11658    Alcam    3   Foxl2 jaspar2022\n",
       "4  12577    Cdkn1c   1   Foxl2 jaspar2022\n",
       "5  12628    Cfh      1   Foxl2 jaspar2022\n",
       "6  12829    Col4a4   2   Foxl2 jaspar2022\n",
       "7  13717    Eln      3   Foxl2 jaspar2022\n",
       "8  14114    Fbln1    1   Foxl2 jaspar2022\n",
       "9  14456    Gas6     1   Foxl2 jaspar2022\n",
       "10 15122    Hba-a1   3   Foxl2 jaspar2022\n",
       "11 16526    Kcnk2    4   Foxl2 jaspar2022\n",
       "12 16985    Lsp1     5   Foxl2 jaspar2022\n",
       "13 17263    Meg3     2   Foxl2 jaspar2022\n",
       "14 17294    Mest    10   Foxl2 jaspar2022\n",
       "15 17967    Ncam1    6   Foxl2 jaspar2022\n",
       "16 20377    Sfrp1    1   Foxl2 jaspar2022\n",
       "17 20463    Cox7a2l  3   Foxl2 jaspar2022\n",
       "18 20563    Slit2   15   Foxl2 jaspar2022\n",
       "19 21808    Tgfb2    5   Foxl2 jaspar2022\n",
       "20 244059   Chd2    12   Foxl2 jaspar2022\n",
       "21 56490    Zbtb20  27   Foxl2 jaspar2022\n",
       "22 67109    Zfp787   3   Foxl2 jaspar2022\n",
       "23 67963    Npc2     5   Foxl2 jaspar2022\n",
       "24 68797    Pdgfrl   2   Foxl2 jaspar2022"
      ]
     },
     "metadata": {},
     "output_type": "display_data"
    }
   ],
   "source": [
    "TF.hits"
   ]
  },
  {
   "cell_type": "code",
   "execution_count": 16,
   "id": "769bc4dd",
   "metadata": {},
   "outputs": [
    {
     "data": {
      "text/html": [
       "39"
      ],
      "text/latex": [
       "39"
      ],
      "text/markdown": [
       "39"
      ],
      "text/plain": [
       "[1] 39"
      ]
     },
     "metadata": {},
     "output_type": "display_data"
    }
   ],
   "source": [
    "length(promoter.seqs)"
   ]
  },
  {
   "cell_type": "code",
   "execution_count": 17,
   "id": "ee64e7d9",
   "metadata": {},
   "outputs": [],
   "source": [
    "TF.hits$TF <- str_to_title (TF.hits$TF)"
   ]
  },
  {
   "cell_type": "code",
   "execution_count": 18,
   "id": "10c14ded",
   "metadata": {},
   "outputs": [
    {
     "data": {
      "text/html": [
       "<table class=\"dataframe\">\n",
       "<caption>A data.frame: 6 × 5</caption>\n",
       "<thead>\n",
       "\t<tr><th></th><th scope=col>ENTREZID</th><th scope=col>gene</th><th scope=col>hits</th><th scope=col>TF</th><th scope=col>source</th></tr>\n",
       "\t<tr><th></th><th scope=col>&lt;chr&gt;</th><th scope=col>&lt;chr&gt;</th><th scope=col>&lt;int&gt;</th><th scope=col>&lt;chr&gt;</th><th scope=col>&lt;chr&gt;</th></tr>\n",
       "</thead>\n",
       "<tbody>\n",
       "\t<tr><th scope=row>1</th><td>103172</td><td>Chchd10</td><td>1</td><td>Foxl2</td><td>jaspar2022</td></tr>\n",
       "\t<tr><th scope=row>2</th><td>11475 </td><td>Acta2  </td><td>1</td><td>Foxl2</td><td>jaspar2022</td></tr>\n",
       "\t<tr><th scope=row>3</th><td>11658 </td><td>Alcam  </td><td>3</td><td>Foxl2</td><td>jaspar2022</td></tr>\n",
       "\t<tr><th scope=row>4</th><td>12577 </td><td>Cdkn1c </td><td>1</td><td>Foxl2</td><td>jaspar2022</td></tr>\n",
       "\t<tr><th scope=row>5</th><td>12628 </td><td>Cfh    </td><td>1</td><td>Foxl2</td><td>jaspar2022</td></tr>\n",
       "\t<tr><th scope=row>6</th><td>12829 </td><td>Col4a4 </td><td>2</td><td>Foxl2</td><td>jaspar2022</td></tr>\n",
       "</tbody>\n",
       "</table>\n"
      ],
      "text/latex": [
       "A data.frame: 6 × 5\n",
       "\\begin{tabular}{r|lllll}\n",
       "  & ENTREZID & gene & hits & TF & source\\\\\n",
       "  & <chr> & <chr> & <int> & <chr> & <chr>\\\\\n",
       "\\hline\n",
       "\t1 & 103172 & Chchd10 & 1 & Foxl2 & jaspar2022\\\\\n",
       "\t2 & 11475  & Acta2   & 1 & Foxl2 & jaspar2022\\\\\n",
       "\t3 & 11658  & Alcam   & 3 & Foxl2 & jaspar2022\\\\\n",
       "\t4 & 12577  & Cdkn1c  & 1 & Foxl2 & jaspar2022\\\\\n",
       "\t5 & 12628  & Cfh     & 1 & Foxl2 & jaspar2022\\\\\n",
       "\t6 & 12829  & Col4a4  & 2 & Foxl2 & jaspar2022\\\\\n",
       "\\end{tabular}\n"
      ],
      "text/markdown": [
       "\n",
       "A data.frame: 6 × 5\n",
       "\n",
       "| <!--/--> | ENTREZID &lt;chr&gt; | gene &lt;chr&gt; | hits &lt;int&gt; | TF &lt;chr&gt; | source &lt;chr&gt; |\n",
       "|---|---|---|---|---|---|\n",
       "| 1 | 103172 | Chchd10 | 1 | Foxl2 | jaspar2022 |\n",
       "| 2 | 11475  | Acta2   | 1 | Foxl2 | jaspar2022 |\n",
       "| 3 | 11658  | Alcam   | 3 | Foxl2 | jaspar2022 |\n",
       "| 4 | 12577  | Cdkn1c  | 1 | Foxl2 | jaspar2022 |\n",
       "| 5 | 12628  | Cfh     | 1 | Foxl2 | jaspar2022 |\n",
       "| 6 | 12829  | Col4a4  | 2 | Foxl2 | jaspar2022 |\n",
       "\n"
      ],
      "text/plain": [
       "  ENTREZID gene    hits TF    source    \n",
       "1 103172   Chchd10 1    Foxl2 jaspar2022\n",
       "2 11475    Acta2   1    Foxl2 jaspar2022\n",
       "3 11658    Alcam   3    Foxl2 jaspar2022\n",
       "4 12577    Cdkn1c  1    Foxl2 jaspar2022\n",
       "5 12628    Cfh     1    Foxl2 jaspar2022\n",
       "6 12829    Col4a4  2    Foxl2 jaspar2022"
      ]
     },
     "metadata": {},
     "output_type": "display_data"
    }
   ],
   "source": [
    "head(TF.hits)"
   ]
  },
  {
   "cell_type": "code",
   "execution_count": 19,
   "id": "c91addff",
   "metadata": {},
   "outputs": [],
   "source": [
    "hitsGeneCsv <- function(gene) {\n",
    "    \n",
    "    hits.tmp <- TF.hits[TF.hits$TF == gene,]\n",
    "    DEG.tmp <- cluste2_3.DEG[ cluste2_3.DEG$gene %in% TF.hits$gene,]\n",
    "    hits.tmp <- merge(hits.tmp,DEG.tmp,by = \"gene\")\n",
    "    write.csv(hits.tmp,paste(\"data/TF/\",gene,\"Merge-P5-V1-hits.csv\"), row.names = FALSE)\n",
    "}"
   ]
  },
  {
   "cell_type": "code",
   "execution_count": 20,
   "id": "19b3703e",
   "metadata": {},
   "outputs": [
    {
     "data": {
      "text/html": [
       "<ol>\n",
       "\t<li>NULL</li>\n",
       "</ol>\n"
      ],
      "text/latex": [
       "\\begin{enumerate}\n",
       "\\item NULL\n",
       "\\end{enumerate}\n"
      ],
      "text/markdown": [
       "1. NULL\n",
       "\n",
       "\n"
      ],
      "text/plain": [
       "[[1]]\n",
       "NULL\n"
      ]
     },
     "metadata": {},
     "output_type": "display_data"
    }
   ],
   "source": [
    "lapply( cluste2_3.DEG.TF$gene, hitsGeneCsv)"
   ]
  },
  {
   "cell_type": "code",
   "execution_count": 21,
   "id": "56c90ad8",
   "metadata": {},
   "outputs": [],
   "source": [
    "write.csv(TF.hits,\"data/merge-P5vsP1-TF.hits.csv\", row.names = FALSE)\n",
    "save(TF.hits, file = \"data/merge-P5vsP1-TF.hits.Rdata\")"
   ]
  },
  {
   "cell_type": "code",
   "execution_count": 22,
   "id": "700ea8d1",
   "metadata": {},
   "outputs": [
    {
     "data": {
      "text/html": [
       "<table class=\"dataframe\">\n",
       "<caption>A data.frame: 6 × 8</caption>\n",
       "<thead>\n",
       "\t<tr><th></th><th scope=col>p_val</th><th scope=col>avg_log2FC</th><th scope=col>pct.1</th><th scope=col>pct.2</th><th scope=col>p_val_adj</th><th scope=col>cluster</th><th scope=col>dir</th><th scope=col>gene</th></tr>\n",
       "\t<tr><th></th><th scope=col>&lt;dbl&gt;</th><th scope=col>&lt;dbl&gt;</th><th scope=col>&lt;dbl&gt;</th><th scope=col>&lt;dbl&gt;</th><th scope=col>&lt;dbl&gt;</th><th scope=col>&lt;chr&gt;</th><th scope=col>&lt;chr&gt;</th><th scope=col>&lt;chr&gt;</th></tr>\n",
       "</thead>\n",
       "<tbody>\n",
       "\t<tr><th scope=row>H19</th><td>1.265503e-233</td><td>-0.6515780</td><td>0.593</td><td>0.936</td><td>3.106683e-229</td><td>P5</td><td>down</td><td>H19    </td></tr>\n",
       "\t<tr><th scope=row>Dlk1</th><td>2.016952e-149</td><td>-0.4980116</td><td>0.766</td><td>0.944</td><td>4.951416e-145</td><td>P5</td><td>down</td><td>Dlk1   </td></tr>\n",
       "\t<tr><th scope=row>Cox7a2l</th><td>2.765188e-133</td><td>-0.2808167</td><td>0.875</td><td>0.967</td><td>6.788260e-129</td><td>P5</td><td>down</td><td>Cox7a2l</td></tr>\n",
       "\t<tr><th scope=row>Meg3</th><td>9.836509e-132</td><td>-0.3025115</td><td>0.975</td><td>0.996</td><td>2.414765e-127</td><td>P5</td><td>down</td><td>Meg3   </td></tr>\n",
       "\t<tr><th scope=row>Hbb-bt</th><td>1.177453e-125</td><td>-0.3450935</td><td>0.719</td><td>0.902</td><td>2.890529e-121</td><td>P5</td><td>down</td><td>Hbb-bt </td></tr>\n",
       "\t<tr><th scope=row>Gas1</th><td>8.630197e-123</td><td>-0.3780728</td><td>0.695</td><td>0.906</td><td>2.118627e-118</td><td>P5</td><td>down</td><td>Gas1   </td></tr>\n",
       "</tbody>\n",
       "</table>\n"
      ],
      "text/latex": [
       "A data.frame: 6 × 8\n",
       "\\begin{tabular}{r|llllllll}\n",
       "  & p\\_val & avg\\_log2FC & pct.1 & pct.2 & p\\_val\\_adj & cluster & dir & gene\\\\\n",
       "  & <dbl> & <dbl> & <dbl> & <dbl> & <dbl> & <chr> & <chr> & <chr>\\\\\n",
       "\\hline\n",
       "\tH19 & 1.265503e-233 & -0.6515780 & 0.593 & 0.936 & 3.106683e-229 & P5 & down & H19    \\\\\n",
       "\tDlk1 & 2.016952e-149 & -0.4980116 & 0.766 & 0.944 & 4.951416e-145 & P5 & down & Dlk1   \\\\\n",
       "\tCox7a2l & 2.765188e-133 & -0.2808167 & 0.875 & 0.967 & 6.788260e-129 & P5 & down & Cox7a2l\\\\\n",
       "\tMeg3 & 9.836509e-132 & -0.3025115 & 0.975 & 0.996 & 2.414765e-127 & P5 & down & Meg3   \\\\\n",
       "\tHbb-bt & 1.177453e-125 & -0.3450935 & 0.719 & 0.902 & 2.890529e-121 & P5 & down & Hbb-bt \\\\\n",
       "\tGas1 & 8.630197e-123 & -0.3780728 & 0.695 & 0.906 & 2.118627e-118 & P5 & down & Gas1   \\\\\n",
       "\\end{tabular}\n"
      ],
      "text/markdown": [
       "\n",
       "A data.frame: 6 × 8\n",
       "\n",
       "| <!--/--> | p_val &lt;dbl&gt; | avg_log2FC &lt;dbl&gt; | pct.1 &lt;dbl&gt; | pct.2 &lt;dbl&gt; | p_val_adj &lt;dbl&gt; | cluster &lt;chr&gt; | dir &lt;chr&gt; | gene &lt;chr&gt; |\n",
       "|---|---|---|---|---|---|---|---|---|\n",
       "| H19 | 1.265503e-233 | -0.6515780 | 0.593 | 0.936 | 3.106683e-229 | P5 | down | H19     |\n",
       "| Dlk1 | 2.016952e-149 | -0.4980116 | 0.766 | 0.944 | 4.951416e-145 | P5 | down | Dlk1    |\n",
       "| Cox7a2l | 2.765188e-133 | -0.2808167 | 0.875 | 0.967 | 6.788260e-129 | P5 | down | Cox7a2l |\n",
       "| Meg3 | 9.836509e-132 | -0.3025115 | 0.975 | 0.996 | 2.414765e-127 | P5 | down | Meg3    |\n",
       "| Hbb-bt | 1.177453e-125 | -0.3450935 | 0.719 | 0.902 | 2.890529e-121 | P5 | down | Hbb-bt  |\n",
       "| Gas1 | 8.630197e-123 | -0.3780728 | 0.695 | 0.906 | 2.118627e-118 | P5 | down | Gas1    |\n",
       "\n"
      ],
      "text/plain": [
       "        p_val         avg_log2FC pct.1 pct.2 p_val_adj     cluster dir  gene   \n",
       "H19     1.265503e-233 -0.6515780 0.593 0.936 3.106683e-229 P5      down H19    \n",
       "Dlk1    2.016952e-149 -0.4980116 0.766 0.944 4.951416e-145 P5      down Dlk1   \n",
       "Cox7a2l 2.765188e-133 -0.2808167 0.875 0.967 6.788260e-129 P5      down Cox7a2l\n",
       "Meg3    9.836509e-132 -0.3025115 0.975 0.996 2.414765e-127 P5      down Meg3   \n",
       "Hbb-bt  1.177453e-125 -0.3450935 0.719 0.902 2.890529e-121 P5      down Hbb-bt \n",
       "Gas1    8.630197e-123 -0.3780728 0.695 0.906 2.118627e-118 P5      down Gas1   "
      ]
     },
     "metadata": {},
     "output_type": "display_data"
    }
   ],
   "source": [
    "head(clusterP5.DEG_CUT)"
   ]
  },
  {
   "cell_type": "code",
   "execution_count": 23,
   "id": "3bece69e",
   "metadata": {},
   "outputs": [],
   "source": [
    "TF.hits <- clusterP5.DEG_CUT[ toupper( clusterP5.DEG_CUT$gene) %in% toupper(TF.hits$gene),]\n",
    "TF.hits.up <- TF.hits[TF.hits$dir == \"up\",]\n",
    "TF.hits.down <- TF.hits[TF.hits$dir == \"down\",]"
   ]
  },
  {
   "cell_type": "code",
   "execution_count": 24,
   "id": "a1faba2c",
   "metadata": {},
   "outputs": [
    {
     "data": {
      "text/html": [
       "<table class=\"dataframe\">\n",
       "<caption>A data.frame: 6 × 8</caption>\n",
       "<thead>\n",
       "\t<tr><th></th><th scope=col>p_val</th><th scope=col>avg_log2FC</th><th scope=col>pct.1</th><th scope=col>pct.2</th><th scope=col>p_val_adj</th><th scope=col>cluster</th><th scope=col>dir</th><th scope=col>gene</th></tr>\n",
       "\t<tr><th></th><th scope=col>&lt;dbl&gt;</th><th scope=col>&lt;dbl&gt;</th><th scope=col>&lt;dbl&gt;</th><th scope=col>&lt;dbl&gt;</th><th scope=col>&lt;dbl&gt;</th><th scope=col>&lt;chr&gt;</th><th scope=col>&lt;chr&gt;</th><th scope=col>&lt;chr&gt;</th></tr>\n",
       "</thead>\n",
       "<tbody>\n",
       "\t<tr><th scope=row>Col4a4</th><td>1.020874e-97</td><td>0.3313315</td><td>0.477</td><td>0.146</td><td>2.506144e-93</td><td>P5</td><td>up</td><td>Col4a4 </td></tr>\n",
       "\t<tr><th scope=row>Lsp1</th><td>8.052254e-85</td><td>0.3238667</td><td>0.925</td><td>0.751</td><td>1.976748e-80</td><td>P5</td><td>up</td><td>Lsp1   </td></tr>\n",
       "\t<tr><th scope=row>Kcnk2</th><td>8.515339e-85</td><td>0.3323284</td><td>0.625</td><td>0.307</td><td>2.090431e-80</td><td>P5</td><td>up</td><td>Kcnk2  </td></tr>\n",
       "\t<tr><th scope=row>Cfh</th><td>6.493384e-83</td><td>0.3019830</td><td>0.742</td><td>0.480</td><td>1.594061e-78</td><td>P5</td><td>up</td><td>Cfh    </td></tr>\n",
       "\t<tr><th scope=row>Zbtb20</th><td>6.323274e-61</td><td>0.2549843</td><td>0.793</td><td>0.579</td><td>1.552301e-56</td><td>P5</td><td>up</td><td>Zbtb20 </td></tr>\n",
       "\t<tr><th scope=row>Chchd10</th><td>7.787840e-58</td><td>0.2840069</td><td>0.521</td><td>0.274</td><td>1.911837e-53</td><td>P5</td><td>up</td><td>Chchd10</td></tr>\n",
       "</tbody>\n",
       "</table>\n"
      ],
      "text/latex": [
       "A data.frame: 6 × 8\n",
       "\\begin{tabular}{r|llllllll}\n",
       "  & p\\_val & avg\\_log2FC & pct.1 & pct.2 & p\\_val\\_adj & cluster & dir & gene\\\\\n",
       "  & <dbl> & <dbl> & <dbl> & <dbl> & <dbl> & <chr> & <chr> & <chr>\\\\\n",
       "\\hline\n",
       "\tCol4a4 & 1.020874e-97 & 0.3313315 & 0.477 & 0.146 & 2.506144e-93 & P5 & up & Col4a4 \\\\\n",
       "\tLsp1 & 8.052254e-85 & 0.3238667 & 0.925 & 0.751 & 1.976748e-80 & P5 & up & Lsp1   \\\\\n",
       "\tKcnk2 & 8.515339e-85 & 0.3323284 & 0.625 & 0.307 & 2.090431e-80 & P5 & up & Kcnk2  \\\\\n",
       "\tCfh & 6.493384e-83 & 0.3019830 & 0.742 & 0.480 & 1.594061e-78 & P5 & up & Cfh    \\\\\n",
       "\tZbtb20 & 6.323274e-61 & 0.2549843 & 0.793 & 0.579 & 1.552301e-56 & P5 & up & Zbtb20 \\\\\n",
       "\tChchd10 & 7.787840e-58 & 0.2840069 & 0.521 & 0.274 & 1.911837e-53 & P5 & up & Chchd10\\\\\n",
       "\\end{tabular}\n"
      ],
      "text/markdown": [
       "\n",
       "A data.frame: 6 × 8\n",
       "\n",
       "| <!--/--> | p_val &lt;dbl&gt; | avg_log2FC &lt;dbl&gt; | pct.1 &lt;dbl&gt; | pct.2 &lt;dbl&gt; | p_val_adj &lt;dbl&gt; | cluster &lt;chr&gt; | dir &lt;chr&gt; | gene &lt;chr&gt; |\n",
       "|---|---|---|---|---|---|---|---|---|\n",
       "| Col4a4 | 1.020874e-97 | 0.3313315 | 0.477 | 0.146 | 2.506144e-93 | P5 | up | Col4a4  |\n",
       "| Lsp1 | 8.052254e-85 | 0.3238667 | 0.925 | 0.751 | 1.976748e-80 | P5 | up | Lsp1    |\n",
       "| Kcnk2 | 8.515339e-85 | 0.3323284 | 0.625 | 0.307 | 2.090431e-80 | P5 | up | Kcnk2   |\n",
       "| Cfh | 6.493384e-83 | 0.3019830 | 0.742 | 0.480 | 1.594061e-78 | P5 | up | Cfh     |\n",
       "| Zbtb20 | 6.323274e-61 | 0.2549843 | 0.793 | 0.579 | 1.552301e-56 | P5 | up | Zbtb20  |\n",
       "| Chchd10 | 7.787840e-58 | 0.2840069 | 0.521 | 0.274 | 1.911837e-53 | P5 | up | Chchd10 |\n",
       "\n"
      ],
      "text/plain": [
       "        p_val        avg_log2FC pct.1 pct.2 p_val_adj    cluster dir gene   \n",
       "Col4a4  1.020874e-97 0.3313315  0.477 0.146 2.506144e-93 P5      up  Col4a4 \n",
       "Lsp1    8.052254e-85 0.3238667  0.925 0.751 1.976748e-80 P5      up  Lsp1   \n",
       "Kcnk2   8.515339e-85 0.3323284  0.625 0.307 2.090431e-80 P5      up  Kcnk2  \n",
       "Cfh     6.493384e-83 0.3019830  0.742 0.480 1.594061e-78 P5      up  Cfh    \n",
       "Zbtb20  6.323274e-61 0.2549843  0.793 0.579 1.552301e-56 P5      up  Zbtb20 \n",
       "Chchd10 7.787840e-58 0.2840069  0.521 0.274 1.911837e-53 P5      up  Chchd10"
      ]
     },
     "metadata": {},
     "output_type": "display_data"
    },
    {
     "data": {
      "text/html": [
       "<table class=\"dataframe\">\n",
       "<caption>A data.frame: 6 × 8</caption>\n",
       "<thead>\n",
       "\t<tr><th></th><th scope=col>p_val</th><th scope=col>avg_log2FC</th><th scope=col>pct.1</th><th scope=col>pct.2</th><th scope=col>p_val_adj</th><th scope=col>cluster</th><th scope=col>dir</th><th scope=col>gene</th></tr>\n",
       "\t<tr><th></th><th scope=col>&lt;dbl&gt;</th><th scope=col>&lt;dbl&gt;</th><th scope=col>&lt;dbl&gt;</th><th scope=col>&lt;dbl&gt;</th><th scope=col>&lt;dbl&gt;</th><th scope=col>&lt;chr&gt;</th><th scope=col>&lt;chr&gt;</th><th scope=col>&lt;chr&gt;</th></tr>\n",
       "</thead>\n",
       "<tbody>\n",
       "\t<tr><th scope=row>Cox7a2l</th><td>2.765188e-133</td><td>-0.2808167</td><td>0.875</td><td>0.967</td><td>6.788260e-129</td><td>P5</td><td>down</td><td>Cox7a2l</td></tr>\n",
       "\t<tr><th scope=row>Meg3</th><td>9.836509e-132</td><td>-0.3025115</td><td>0.975</td><td>0.996</td><td>2.414765e-127</td><td>P5</td><td>down</td><td>Meg3   </td></tr>\n",
       "\t<tr><th scope=row>Hba-a1</th><td>5.901884e-116</td><td>-0.2715348</td><td>0.918</td><td>0.980</td><td>1.448853e-111</td><td>P5</td><td>down</td><td>Hba-a1 </td></tr>\n",
       "\t<tr><th scope=row>Alcam</th><td> 2.960251e-96</td><td>-0.4142805</td><td>0.225</td><td>0.548</td><td> 7.267120e-92</td><td>P5</td><td>down</td><td>Alcam  </td></tr>\n",
       "\t<tr><th scope=row>Npc2</th><td> 1.909844e-92</td><td>-0.2555322</td><td>0.757</td><td>0.918</td><td> 4.688476e-88</td><td>P5</td><td>down</td><td>Npc2   </td></tr>\n",
       "\t<tr><th scope=row>Pdgfrl</th><td> 9.736947e-76</td><td>-0.3418937</td><td>0.315</td><td>0.610</td><td> 2.390323e-71</td><td>P5</td><td>down</td><td>Pdgfrl </td></tr>\n",
       "</tbody>\n",
       "</table>\n"
      ],
      "text/latex": [
       "A data.frame: 6 × 8\n",
       "\\begin{tabular}{r|llllllll}\n",
       "  & p\\_val & avg\\_log2FC & pct.1 & pct.2 & p\\_val\\_adj & cluster & dir & gene\\\\\n",
       "  & <dbl> & <dbl> & <dbl> & <dbl> & <dbl> & <chr> & <chr> & <chr>\\\\\n",
       "\\hline\n",
       "\tCox7a2l & 2.765188e-133 & -0.2808167 & 0.875 & 0.967 & 6.788260e-129 & P5 & down & Cox7a2l\\\\\n",
       "\tMeg3 & 9.836509e-132 & -0.3025115 & 0.975 & 0.996 & 2.414765e-127 & P5 & down & Meg3   \\\\\n",
       "\tHba-a1 & 5.901884e-116 & -0.2715348 & 0.918 & 0.980 & 1.448853e-111 & P5 & down & Hba-a1 \\\\\n",
       "\tAlcam &  2.960251e-96 & -0.4142805 & 0.225 & 0.548 &  7.267120e-92 & P5 & down & Alcam  \\\\\n",
       "\tNpc2 &  1.909844e-92 & -0.2555322 & 0.757 & 0.918 &  4.688476e-88 & P5 & down & Npc2   \\\\\n",
       "\tPdgfrl &  9.736947e-76 & -0.3418937 & 0.315 & 0.610 &  2.390323e-71 & P5 & down & Pdgfrl \\\\\n",
       "\\end{tabular}\n"
      ],
      "text/markdown": [
       "\n",
       "A data.frame: 6 × 8\n",
       "\n",
       "| <!--/--> | p_val &lt;dbl&gt; | avg_log2FC &lt;dbl&gt; | pct.1 &lt;dbl&gt; | pct.2 &lt;dbl&gt; | p_val_adj &lt;dbl&gt; | cluster &lt;chr&gt; | dir &lt;chr&gt; | gene &lt;chr&gt; |\n",
       "|---|---|---|---|---|---|---|---|---|\n",
       "| Cox7a2l | 2.765188e-133 | -0.2808167 | 0.875 | 0.967 | 6.788260e-129 | P5 | down | Cox7a2l |\n",
       "| Meg3 | 9.836509e-132 | -0.3025115 | 0.975 | 0.996 | 2.414765e-127 | P5 | down | Meg3    |\n",
       "| Hba-a1 | 5.901884e-116 | -0.2715348 | 0.918 | 0.980 | 1.448853e-111 | P5 | down | Hba-a1  |\n",
       "| Alcam |  2.960251e-96 | -0.4142805 | 0.225 | 0.548 |  7.267120e-92 | P5 | down | Alcam   |\n",
       "| Npc2 |  1.909844e-92 | -0.2555322 | 0.757 | 0.918 |  4.688476e-88 | P5 | down | Npc2    |\n",
       "| Pdgfrl |  9.736947e-76 | -0.3418937 | 0.315 | 0.610 |  2.390323e-71 | P5 | down | Pdgfrl  |\n",
       "\n"
      ],
      "text/plain": [
       "        p_val         avg_log2FC pct.1 pct.2 p_val_adj     cluster dir  gene   \n",
       "Cox7a2l 2.765188e-133 -0.2808167 0.875 0.967 6.788260e-129 P5      down Cox7a2l\n",
       "Meg3    9.836509e-132 -0.3025115 0.975 0.996 2.414765e-127 P5      down Meg3   \n",
       "Hba-a1  5.901884e-116 -0.2715348 0.918 0.980 1.448853e-111 P5      down Hba-a1 \n",
       "Alcam    2.960251e-96 -0.4142805 0.225 0.548  7.267120e-92 P5      down Alcam  \n",
       "Npc2     1.909844e-92 -0.2555322 0.757 0.918  4.688476e-88 P5      down Npc2   \n",
       "Pdgfrl   9.736947e-76 -0.3418937 0.315 0.610  2.390323e-71 P5      down Pdgfrl "
      ]
     },
     "metadata": {},
     "output_type": "display_data"
    }
   ],
   "source": [
    "head(TF.hits.up)\n",
    "head(TF.hits.down)"
   ]
  },
  {
   "cell_type": "markdown",
   "id": "15f251fe",
   "metadata": {},
   "source": [
    "<h1> Enrichment analysis </h1>"
   ]
  },
  {
   "cell_type": "code",
   "execution_count": 25,
   "id": "07246ba3",
   "metadata": {},
   "outputs": [
    {
     "name": "stderr",
     "output_type": "stream",
     "text": [
      "clusterProfiler v4.6.2  For help: https://yulab-smu.top/biomedical-knowledge-mining-book/\n",
      "\n",
      "If you use clusterProfiler in published research, please cite:\n",
      "T Wu, E Hu, S Xu, M Chen, P Guo, Z Dai, T Feng, L Zhou, W Tang, L Zhan, X Fu, S Liu, X Bo, and G Yu. clusterProfiler 4.0: A universal enrichment tool for interpreting omics data. The Innovation. 2021, 2(3):100141\n",
      "\n",
      "\n",
      "Attaching package: ‘clusterProfiler’\n",
      "\n",
      "\n",
      "The following object is masked from ‘package:igraph’:\n",
      "\n",
      "    simplify\n",
      "\n",
      "\n",
      "The following object is masked from ‘package:AnnotationDbi’:\n",
      "\n",
      "    select\n",
      "\n",
      "\n",
      "The following object is masked from ‘package:XVector’:\n",
      "\n",
      "    slice\n",
      "\n",
      "\n",
      "The following object is masked from ‘package:IRanges’:\n",
      "\n",
      "    slice\n",
      "\n",
      "\n",
      "The following object is masked from ‘package:S4Vectors’:\n",
      "\n",
      "    rename\n",
      "\n",
      "\n",
      "The following object is masked from ‘package:stats’:\n",
      "\n",
      "    filter\n",
      "\n",
      "\n"
     ]
    }
   ],
   "source": [
    "library(org.Mm.eg.db)\n",
    "library(AnnotationDbi)\n",
    "library(\"clusterProfiler\")"
   ]
  },
  {
   "cell_type": "code",
   "execution_count": 26,
   "id": "d73a6f50",
   "metadata": {},
   "outputs": [
    {
     "data": {
      "text/html": [
       "<style>\n",
       ".list-inline {list-style: none; margin:0; padding: 0}\n",
       ".list-inline>li {display: inline-block}\n",
       ".list-inline>li:not(:last-child)::after {content: \"\\00b7\"; padding: 0 .5ex}\n",
       "</style>\n",
       "<ol class=list-inline><li>'Col4a4'</li><li>'Lsp1'</li><li>'Kcnk2'</li><li>'Cfh'</li><li>'Zbtb20'</li><li>'Chchd10'</li><li>'Gas6'</li></ol>\n"
      ],
      "text/latex": [
       "\\begin{enumerate*}\n",
       "\\item 'Col4a4'\n",
       "\\item 'Lsp1'\n",
       "\\item 'Kcnk2'\n",
       "\\item 'Cfh'\n",
       "\\item 'Zbtb20'\n",
       "\\item 'Chchd10'\n",
       "\\item 'Gas6'\n",
       "\\end{enumerate*}\n"
      ],
      "text/markdown": [
       "1. 'Col4a4'\n",
       "2. 'Lsp1'\n",
       "3. 'Kcnk2'\n",
       "4. 'Cfh'\n",
       "5. 'Zbtb20'\n",
       "6. 'Chchd10'\n",
       "7. 'Gas6'\n",
       "\n",
       "\n"
      ],
      "text/plain": [
       "[1] \"Col4a4\"  \"Lsp1\"    \"Kcnk2\"   \"Cfh\"     \"Zbtb20\"  \"Chchd10\" \"Gas6\"   "
      ]
     },
     "metadata": {},
     "output_type": "display_data"
    }
   ],
   "source": [
    "TF.hits.up$gene"
   ]
  },
  {
   "cell_type": "code",
   "execution_count": 30,
   "id": "74b5194c",
   "metadata": {},
   "outputs": [
    {
     "data": {
      "text/html": [
       "<table class=\"dataframe\">\n",
       "<caption>A data.frame: 196 × 9</caption>\n",
       "<thead>\n",
       "\t<tr><th></th><th scope=col>ID</th><th scope=col>Description</th><th scope=col>GeneRatio</th><th scope=col>BgRatio</th><th scope=col>pvalue</th><th scope=col>p.adjust</th><th scope=col>qvalue</th><th scope=col>geneID</th><th scope=col>Count</th></tr>\n",
       "\t<tr><th></th><th scope=col>&lt;chr&gt;</th><th scope=col>&lt;chr&gt;</th><th scope=col>&lt;chr&gt;</th><th scope=col>&lt;chr&gt;</th><th scope=col>&lt;dbl&gt;</th><th scope=col>&lt;dbl&gt;</th><th scope=col>&lt;dbl&gt;</th><th scope=col>&lt;chr&gt;</th><th scope=col>&lt;int&gt;</th></tr>\n",
       "</thead>\n",
       "<tbody>\n",
       "\t<tr><th scope=row>GO:0030322</th><td>GO:0030322</td><td>stabilization of membrane potential                                </td><td>2/7</td><td>16/28943 </td><td>6.007006e-06</td><td>0.002420823</td><td>0.0006386396</td><td>Kcnk2/Chchd10</td><td>2</td></tr>\n",
       "\t<tr><th scope=row>GO:0032835</th><td>GO:0032835</td><td>glomerulus development                                             </td><td>2/7</td><td>66/28943 </td><td>1.067583e-04</td><td>0.018715446</td><td>0.0049373385</td><td>Col4a4/Cfh   </td><td>2</td></tr>\n",
       "\t<tr><th scope=row>GO:0071333</th><td>GO:0071333</td><td>cellular response to glucose stimulus                              </td><td>2/7</td><td>153/28943</td><td>5.729572e-04</td><td>0.018715446</td><td>0.0049373385</td><td>Zbtb20/Gas6  </td><td>2</td></tr>\n",
       "\t<tr><th scope=row>GO:0071331</th><td>GO:0071331</td><td>cellular response to hexose stimulus                               </td><td>2/7</td><td>155/28943</td><td>5.879486e-04</td><td>0.018715446</td><td>0.0049373385</td><td>Zbtb20/Gas6  </td><td>2</td></tr>\n",
       "\t<tr><th scope=row>GO:0071326</th><td>GO:0071326</td><td>cellular response to monosaccharide stimulus                       </td><td>2/7</td><td>156/28943</td><td>5.955156e-04</td><td>0.018715446</td><td>0.0049373385</td><td>Zbtb20/Gas6  </td><td>2</td></tr>\n",
       "\t<tr><th scope=row>GO:0072006</th><td>GO:0072006</td><td>nephron development                                                </td><td>2/7</td><td>161/28943</td><td>6.340626e-04</td><td>0.018715446</td><td>0.0049373385</td><td>Col4a4/Cfh   </td><td>2</td></tr>\n",
       "\t<tr><th scope=row>GO:0071322</th><td>GO:0071322</td><td>cellular response to carbohydrate stimulus                         </td><td>2/7</td><td>164/28943</td><td>6.577598e-04</td><td>0.018715446</td><td>0.0049373385</td><td>Zbtb20/Gas6  </td><td>2</td></tr>\n",
       "\t<tr><th scope=row>GO:0140053</th><td>GO:0140053</td><td>mitochondrial gene expression                                      </td><td>2/7</td><td>164/28943</td><td>6.577598e-04</td><td>0.018715446</td><td>0.0049373385</td><td>Cfh/Chchd10  </td><td>2</td></tr>\n",
       "\t<tr><th scope=row>GO:0032675</th><td>GO:0032675</td><td>regulation of interleukin-6 production                             </td><td>2/7</td><td>167/28943</td><td>6.818834e-04</td><td>0.018715446</td><td>0.0049373385</td><td>Zbtb20/Gas6  </td><td>2</td></tr>\n",
       "\t<tr><th scope=row>GO:0001678</th><td>GO:0001678</td><td>cellular glucose homeostasis                                       </td><td>2/7</td><td>173/28943</td><td>7.314075e-04</td><td>0.018715446</td><td>0.0049373385</td><td>Zbtb20/Gas6  </td><td>2</td></tr>\n",
       "\t<tr><th scope=row>GO:0032635</th><td>GO:0032635</td><td>interleukin-6 production                                           </td><td>2/7</td><td>176/28943</td><td>7.568071e-04</td><td>0.018715446</td><td>0.0049373385</td><td>Zbtb20/Gas6  </td><td>2</td></tr>\n",
       "\t<tr><th scope=row>GO:0007596</th><td>GO:0007596</td><td>blood coagulation                                                  </td><td>2/7</td><td>177/28943</td><td>7.653680e-04</td><td>0.018715446</td><td>0.0049373385</td><td>Cfh/Gas6     </td><td>2</td></tr>\n",
       "\t<tr><th scope=row>GO:0007599</th><td>GO:0007599</td><td>hemostasis                                                         </td><td>2/7</td><td>180/28943</td><td>7.913334e-04</td><td>0.018715446</td><td>0.0049373385</td><td>Cfh/Gas6     </td><td>2</td></tr>\n",
       "\t<tr><th scope=row>GO:0050817</th><td>GO:0050817</td><td>coagulation                                                        </td><td>2/7</td><td>180/28943</td><td>7.913334e-04</td><td>0.018715446</td><td>0.0049373385</td><td>Cfh/Gas6     </td><td>2</td></tr>\n",
       "\t<tr><th scope=row>GO:0032680</th><td>GO:0032680</td><td>regulation of tumor necrosis factor production                     </td><td>2/7</td><td>186/28943</td><td>8.445355e-04</td><td>0.018715446</td><td>0.0049373385</td><td>Zbtb20/Gas6  </td><td>2</td></tr>\n",
       "\t<tr><th scope=row>GO:1903555</th><td>GO:1903555</td><td>regulation of tumor necrosis factor superfamily cytokine production</td><td>2/7</td><td>189/28943</td><td>8.717711e-04</td><td>0.018715446</td><td>0.0049373385</td><td>Zbtb20/Gas6  </td><td>2</td></tr>\n",
       "\t<tr><th scope=row>GO:0032640</th><td>GO:0032640</td><td>tumor necrosis factor production                                   </td><td>2/7</td><td>193/28943</td><td>9.087425e-04</td><td>0.018715446</td><td>0.0049373385</td><td>Zbtb20/Gas6  </td><td>2</td></tr>\n",
       "\t<tr><th scope=row>GO:0009749</th><td>GO:0009749</td><td>response to glucose                                                </td><td>2/7</td><td>194/28943</td><td>9.181026e-04</td><td>0.018715446</td><td>0.0049373385</td><td>Zbtb20/Gas6  </td><td>2</td></tr>\n",
       "\t<tr><th scope=row>GO:0071706</th><td>GO:0071706</td><td>tumor necrosis factor superfamily cytokine production              </td><td>2/7</td><td>196/28943</td><td>9.369633e-04</td><td>0.018715446</td><td>0.0049373385</td><td>Zbtb20/Gas6  </td><td>2</td></tr>\n",
       "\t<tr><th scope=row>GO:0009746</th><td>GO:0009746</td><td>response to hexose                                                 </td><td>2/7</td><td>197/28943</td><td>9.464639e-04</td><td>0.018715446</td><td>0.0049373385</td><td>Zbtb20/Gas6  </td><td>2</td></tr>\n",
       "\t<tr><th scope=row>GO:0034284</th><td>GO:0034284</td><td>response to monosaccharide                                         </td><td>2/7</td><td>200/28943</td><td>9.752466e-04</td><td>0.018715446</td><td>0.0049373385</td><td>Zbtb20/Gas6  </td><td>2</td></tr>\n",
       "\t<tr><th scope=row>GO:0009743</th><td>GO:0009743</td><td>response to carbohydrate                                           </td><td>2/7</td><td>214/28943</td><td>1.115123e-03</td><td>0.020427025</td><td>0.0053888718</td><td>Zbtb20/Gas6  </td><td>2</td></tr>\n",
       "\t<tr><th scope=row>GO:0046034</th><td>GO:0046034</td><td>ATP metabolic process                                              </td><td>2/7</td><td>224/28943</td><td>1.220621e-03</td><td>0.021387401</td><td>0.0056422292</td><td>Cfh/Zbtb20   </td><td>2</td></tr>\n",
       "\t<tr><th scope=row>GO:0009205</th><td>GO:0009205</td><td>purine ribonucleoside triphosphate metabolic process               </td><td>2/7</td><td>251/28943</td><td>1.528577e-03</td><td>0.024824324</td><td>0.0065489271</td><td>Cfh/Zbtb20   </td><td>2</td></tr>\n",
       "\t<tr><th scope=row>GO:0009144</th><td>GO:0009144</td><td>purine nucleoside triphosphate metabolic process                   </td><td>2/7</td><td>257/28943</td><td>1.601569e-03</td><td>0.024824324</td><td>0.0065489271</td><td>Cfh/Zbtb20   </td><td>2</td></tr>\n",
       "\t<tr><th scope=row>GO:0009199</th><td>GO:0009199</td><td>ribonucleoside triphosphate metabolic process                      </td><td>2/7</td><td>257/28943</td><td>1.601569e-03</td><td>0.024824324</td><td>0.0065489271</td><td>Cfh/Zbtb20   </td><td>2</td></tr>\n",
       "\t<tr><th scope=row>GO:0009141</th><td>GO:0009141</td><td>nucleoside triphosphate metabolic process                          </td><td>2/7</td><td>275/28943</td><td>1.830428e-03</td><td>0.026835552</td><td>0.0070795109</td><td>Cfh/Zbtb20   </td><td>2</td></tr>\n",
       "\t<tr><th scope=row>GO:0042593</th><td>GO:0042593</td><td>glucose homeostasis                                                </td><td>2/7</td><td>294/28943</td><td>2.088002e-03</td><td>0.026835552</td><td>0.0070795109</td><td>Zbtb20/Gas6  </td><td>2</td></tr>\n",
       "\t<tr><th scope=row>GO:0033500</th><td>GO:0033500</td><td>carbohydrate homeostasis                                           </td><td>2/7</td><td>295/28943</td><td>2.102012e-03</td><td>0.026835552</td><td>0.0070795109</td><td>Zbtb20/Gas6  </td><td>2</td></tr>\n",
       "\t<tr><th scope=row>GO:0032836</th><td>GO:0032836</td><td>glomerular basement membrane development                           </td><td>1/7</td><td>10/28943 </td><td>2.416292e-03</td><td>0.026835552</td><td>0.0070795109</td><td>Col4a4       </td><td>1</td></tr>\n",
       "\t<tr><th scope=row>⋮</th><td>⋮</td><td>⋮</td><td>⋮</td><td>⋮</td><td>⋮</td><td>⋮</td><td>⋮</td><td>⋮</td><td>⋮</td></tr>\n",
       "\t<tr><th scope=row>GO:0043954</th><td>GO:0043954</td><td>cellular component maintenance                                                           </td><td>1/7</td><td>75/28943 </td><td>0.01800055</td><td>0.04317989</td><td>0.01139132</td><td>Chchd10</td><td>1</td></tr>\n",
       "\t<tr><th scope=row>GO:1903578</th><td>GO:1903578</td><td>regulation of ATP metabolic process                                                      </td><td>1/7</td><td>75/28943 </td><td>0.01800055</td><td>0.04317989</td><td>0.01139132</td><td>Zbtb20 </td><td>1</td></tr>\n",
       "\t<tr><th scope=row>GO:0010822</th><td>GO:0010822</td><td>positive regulation of mitochondrion organization                                        </td><td>1/7</td><td>77/28943 </td><td>0.01847674</td><td>0.04380073</td><td>0.01155511</td><td>Chchd10</td><td>1</td></tr>\n",
       "\t<tr><th scope=row>GO:0048146</th><td>GO:0048146</td><td>positive regulation of fibroblast proliferation                                          </td><td>1/7</td><td>77/28943 </td><td>0.01847674</td><td>0.04380073</td><td>0.01155511</td><td>Gas6   </td><td>1</td></tr>\n",
       "\t<tr><th scope=row>GO:0061097</th><td>GO:0061097</td><td>regulation of protein tyrosine kinase activity                                           </td><td>1/7</td><td>78/28943 </td><td>0.01871475</td><td>0.04410553</td><td>0.01163552</td><td>Gas6   </td><td>1</td></tr>\n",
       "\t<tr><th scope=row>GO:2000107</th><td>GO:2000107</td><td>negative regulation of leukocyte apoptotic process                                       </td><td>1/7</td><td>80/28943 </td><td>0.01919064</td><td>0.04496413</td><td>0.01186203</td><td>Gas6   </td><td>1</td></tr>\n",
       "\t<tr><th scope=row>GO:0033209</th><td>GO:0033209</td><td>tumor necrosis factor-mediated signaling pathway                                         </td><td>1/7</td><td>81/28943 </td><td>0.01942852</td><td>0.04499823</td><td>0.01187102</td><td>Gas6   </td><td>1</td></tr>\n",
       "\t<tr><th scope=row>GO:0051145</th><td>GO:0051145</td><td>smooth muscle cell differentiation                                                       </td><td>1/7</td><td>81/28943 </td><td>0.01942852</td><td>0.04499823</td><td>0.01187102</td><td>Cfh    </td><td>1</td></tr>\n",
       "\t<tr><th scope=row>GO:0055021</th><td>GO:0055021</td><td>regulation of cardiac muscle tissue growth                                               </td><td>1/7</td><td>83/28943 </td><td>0.01990411</td><td>0.04512604</td><td>0.01190474</td><td>Kcnk2  </td><td>1</td></tr>\n",
       "\t<tr><th scope=row>GO:0034109</th><td>GO:0034109</td><td>homotypic cell-cell adhesion                                                             </td><td>1/7</td><td>84/28943 </td><td>0.02014183</td><td>0.04512604</td><td>0.01190474</td><td>Cfh    </td><td>1</td></tr>\n",
       "\t<tr><th scope=row>GO:0043154</th><td>GO:0043154</td><td>negative regulation of cysteine-type endopeptidase activity involved in apoptotic process</td><td>1/7</td><td>84/28943 </td><td>0.02014183</td><td>0.04512604</td><td>0.01190474</td><td>Gas6   </td><td>1</td></tr>\n",
       "\t<tr><th scope=row>GO:0045913</th><td>GO:0045913</td><td>positive regulation of carbohydrate metabolic process                                    </td><td>1/7</td><td>84/28943 </td><td>0.02014183</td><td>0.04512604</td><td>0.01190474</td><td>Zbtb20 </td><td>1</td></tr>\n",
       "\t<tr><th scope=row>GO:0060042</th><td>GO:0060042</td><td>retina morphogenesis in camera-type eye                                                  </td><td>1/7</td><td>84/28943 </td><td>0.02014183</td><td>0.04512604</td><td>0.01190474</td><td>Cfh    </td><td>1</td></tr>\n",
       "\t<tr><th scope=row>GO:0002251</th><td>GO:0002251</td><td>organ or tissue specific immune response                                                 </td><td>1/7</td><td>85/28943 </td><td>0.02037950</td><td>0.04512604</td><td>0.01190474</td><td>Cfh    </td><td>1</td></tr>\n",
       "\t<tr><th scope=row>GO:0014855</th><td>GO:0014855</td><td>striated muscle cell proliferation                                                       </td><td>1/7</td><td>85/28943 </td><td>0.02037950</td><td>0.04512604</td><td>0.01190474</td><td>Kcnk2  </td><td>1</td></tr>\n",
       "\t<tr><th scope=row>GO:0046530</th><td>GO:0046530</td><td>photoreceptor cell differentiation                                                       </td><td>1/7</td><td>85/28943 </td><td>0.02037950</td><td>0.04512604</td><td>0.01190474</td><td>Cfh    </td><td>1</td></tr>\n",
       "\t<tr><th scope=row>GO:0003407</th><td>GO:0003407</td><td>neural retina development                                                                </td><td>1/7</td><td>87/28943 </td><td>0.02085470</td><td>0.04592593</td><td>0.01211576</td><td>Cfh    </td><td>1</td></tr>\n",
       "\t<tr><th scope=row>GO:1900542</th><td>GO:1900542</td><td>regulation of purine nucleotide metabolic process                                        </td><td>1/7</td><td>89/28943 </td><td>0.02132970</td><td>0.04671668</td><td>0.01232437</td><td>Zbtb20 </td><td>1</td></tr>\n",
       "\t<tr><th scope=row>GO:0050766</th><td>GO:0050766</td><td>positive regulation of phagocytosis                                                      </td><td>1/7</td><td>91/28943 </td><td>0.02180451</td><td>0.04724309</td><td>0.01246324</td><td>Gas6   </td><td>1</td></tr>\n",
       "\t<tr><th scope=row>GO:0060420</th><td>GO:0060420</td><td>regulation of heart growth                                                               </td><td>1/7</td><td>91/28943 </td><td>0.02180451</td><td>0.04724309</td><td>0.01246324</td><td>Kcnk2  </td><td>1</td></tr>\n",
       "\t<tr><th scope=row>GO:0006096</th><td>GO:0006096</td><td>glycolytic process                                                                       </td><td>1/7</td><td>92/28943 </td><td>0.02204183</td><td>0.04750192</td><td>0.01253152</td><td>Zbtb20 </td><td>1</td></tr>\n",
       "\t<tr><th scope=row>GO:0006757</th><td>GO:0006757</td><td>ATP generation from ADP                                                                  </td><td>1/7</td><td>93/28943 </td><td>0.02227911</td><td>0.04775788</td><td>0.01259905</td><td>Zbtb20 </td><td>1</td></tr>\n",
       "\t<tr><th scope=row>GO:0006140</th><td>GO:0006140</td><td>regulation of nucleotide metabolic process                                               </td><td>1/7</td><td>95/28943 </td><td>0.02275352</td><td>0.04826141</td><td>0.01273189</td><td>Zbtb20 </td><td>1</td></tr>\n",
       "\t<tr><th scope=row>GO:0030168</th><td>GO:0030168</td><td>platelet activation                                                                      </td><td>1/7</td><td>95/28943 </td><td>0.02275352</td><td>0.04826141</td><td>0.01273189</td><td>Cfh    </td><td>1</td></tr>\n",
       "\t<tr><th scope=row>GO:2000117</th><td>GO:2000117</td><td>negative regulation of cysteine-type endopeptidase activity                              </td><td>1/7</td><td>96/28943 </td><td>0.02299065</td><td>0.04850906</td><td>0.01279722</td><td>Gas6   </td><td>1</td></tr>\n",
       "\t<tr><th scope=row>GO:0090559</th><td>GO:0090559</td><td>regulation of membrane permeability                                                      </td><td>1/7</td><td>98/28943 </td><td>0.02346476</td><td>0.04925155</td><td>0.01299310</td><td>Chchd10</td><td>1</td></tr>\n",
       "\t<tr><th scope=row>GO:0002690</th><td>GO:0002690</td><td>positive regulation of leukocyte chemotaxis                                              </td><td>1/7</td><td>99/28943 </td><td>0.02370174</td><td>0.04949120</td><td>0.01305632</td><td>Gas6   </td><td>1</td></tr>\n",
       "\t<tr><th scope=row>GO:0032147</th><td>GO:0032147</td><td>activation of protein kinase activity                                                    </td><td>1/7</td><td>101/28943</td><td>0.02417556</td><td>0.04970791</td><td>0.01311349</td><td>Gas6   </td><td>1</td></tr>\n",
       "\t<tr><th scope=row>GO:0045185</th><td>GO:0045185</td><td>maintenance of protein location                                                          </td><td>1/7</td><td>101/28943</td><td>0.02417556</td><td>0.04970791</td><td>0.01311349</td><td>Chchd10</td><td>1</td></tr>\n",
       "\t<tr><th scope=row>GO:0046031</th><td>GO:0046031</td><td>ADP metabolic process                                                                    </td><td>1/7</td><td>101/28943</td><td>0.02417556</td><td>0.04970791</td><td>0.01311349</td><td>Zbtb20 </td><td>1</td></tr>\n",
       "</tbody>\n",
       "</table>\n"
      ],
      "text/latex": [
       "A data.frame: 196 × 9\n",
       "\\begin{tabular}{r|lllllllll}\n",
       "  & ID & Description & GeneRatio & BgRatio & pvalue & p.adjust & qvalue & geneID & Count\\\\\n",
       "  & <chr> & <chr> & <chr> & <chr> & <dbl> & <dbl> & <dbl> & <chr> & <int>\\\\\n",
       "\\hline\n",
       "\tGO:0030322 & GO:0030322 & stabilization of membrane potential                                 & 2/7 & 16/28943  & 6.007006e-06 & 0.002420823 & 0.0006386396 & Kcnk2/Chchd10 & 2\\\\\n",
       "\tGO:0032835 & GO:0032835 & glomerulus development                                              & 2/7 & 66/28943  & 1.067583e-04 & 0.018715446 & 0.0049373385 & Col4a4/Cfh    & 2\\\\\n",
       "\tGO:0071333 & GO:0071333 & cellular response to glucose stimulus                               & 2/7 & 153/28943 & 5.729572e-04 & 0.018715446 & 0.0049373385 & Zbtb20/Gas6   & 2\\\\\n",
       "\tGO:0071331 & GO:0071331 & cellular response to hexose stimulus                                & 2/7 & 155/28943 & 5.879486e-04 & 0.018715446 & 0.0049373385 & Zbtb20/Gas6   & 2\\\\\n",
       "\tGO:0071326 & GO:0071326 & cellular response to monosaccharide stimulus                        & 2/7 & 156/28943 & 5.955156e-04 & 0.018715446 & 0.0049373385 & Zbtb20/Gas6   & 2\\\\\n",
       "\tGO:0072006 & GO:0072006 & nephron development                                                 & 2/7 & 161/28943 & 6.340626e-04 & 0.018715446 & 0.0049373385 & Col4a4/Cfh    & 2\\\\\n",
       "\tGO:0071322 & GO:0071322 & cellular response to carbohydrate stimulus                          & 2/7 & 164/28943 & 6.577598e-04 & 0.018715446 & 0.0049373385 & Zbtb20/Gas6   & 2\\\\\n",
       "\tGO:0140053 & GO:0140053 & mitochondrial gene expression                                       & 2/7 & 164/28943 & 6.577598e-04 & 0.018715446 & 0.0049373385 & Cfh/Chchd10   & 2\\\\\n",
       "\tGO:0032675 & GO:0032675 & regulation of interleukin-6 production                              & 2/7 & 167/28943 & 6.818834e-04 & 0.018715446 & 0.0049373385 & Zbtb20/Gas6   & 2\\\\\n",
       "\tGO:0001678 & GO:0001678 & cellular glucose homeostasis                                        & 2/7 & 173/28943 & 7.314075e-04 & 0.018715446 & 0.0049373385 & Zbtb20/Gas6   & 2\\\\\n",
       "\tGO:0032635 & GO:0032635 & interleukin-6 production                                            & 2/7 & 176/28943 & 7.568071e-04 & 0.018715446 & 0.0049373385 & Zbtb20/Gas6   & 2\\\\\n",
       "\tGO:0007596 & GO:0007596 & blood coagulation                                                   & 2/7 & 177/28943 & 7.653680e-04 & 0.018715446 & 0.0049373385 & Cfh/Gas6      & 2\\\\\n",
       "\tGO:0007599 & GO:0007599 & hemostasis                                                          & 2/7 & 180/28943 & 7.913334e-04 & 0.018715446 & 0.0049373385 & Cfh/Gas6      & 2\\\\\n",
       "\tGO:0050817 & GO:0050817 & coagulation                                                         & 2/7 & 180/28943 & 7.913334e-04 & 0.018715446 & 0.0049373385 & Cfh/Gas6      & 2\\\\\n",
       "\tGO:0032680 & GO:0032680 & regulation of tumor necrosis factor production                      & 2/7 & 186/28943 & 8.445355e-04 & 0.018715446 & 0.0049373385 & Zbtb20/Gas6   & 2\\\\\n",
       "\tGO:1903555 & GO:1903555 & regulation of tumor necrosis factor superfamily cytokine production & 2/7 & 189/28943 & 8.717711e-04 & 0.018715446 & 0.0049373385 & Zbtb20/Gas6   & 2\\\\\n",
       "\tGO:0032640 & GO:0032640 & tumor necrosis factor production                                    & 2/7 & 193/28943 & 9.087425e-04 & 0.018715446 & 0.0049373385 & Zbtb20/Gas6   & 2\\\\\n",
       "\tGO:0009749 & GO:0009749 & response to glucose                                                 & 2/7 & 194/28943 & 9.181026e-04 & 0.018715446 & 0.0049373385 & Zbtb20/Gas6   & 2\\\\\n",
       "\tGO:0071706 & GO:0071706 & tumor necrosis factor superfamily cytokine production               & 2/7 & 196/28943 & 9.369633e-04 & 0.018715446 & 0.0049373385 & Zbtb20/Gas6   & 2\\\\\n",
       "\tGO:0009746 & GO:0009746 & response to hexose                                                  & 2/7 & 197/28943 & 9.464639e-04 & 0.018715446 & 0.0049373385 & Zbtb20/Gas6   & 2\\\\\n",
       "\tGO:0034284 & GO:0034284 & response to monosaccharide                                          & 2/7 & 200/28943 & 9.752466e-04 & 0.018715446 & 0.0049373385 & Zbtb20/Gas6   & 2\\\\\n",
       "\tGO:0009743 & GO:0009743 & response to carbohydrate                                            & 2/7 & 214/28943 & 1.115123e-03 & 0.020427025 & 0.0053888718 & Zbtb20/Gas6   & 2\\\\\n",
       "\tGO:0046034 & GO:0046034 & ATP metabolic process                                               & 2/7 & 224/28943 & 1.220621e-03 & 0.021387401 & 0.0056422292 & Cfh/Zbtb20    & 2\\\\\n",
       "\tGO:0009205 & GO:0009205 & purine ribonucleoside triphosphate metabolic process                & 2/7 & 251/28943 & 1.528577e-03 & 0.024824324 & 0.0065489271 & Cfh/Zbtb20    & 2\\\\\n",
       "\tGO:0009144 & GO:0009144 & purine nucleoside triphosphate metabolic process                    & 2/7 & 257/28943 & 1.601569e-03 & 0.024824324 & 0.0065489271 & Cfh/Zbtb20    & 2\\\\\n",
       "\tGO:0009199 & GO:0009199 & ribonucleoside triphosphate metabolic process                       & 2/7 & 257/28943 & 1.601569e-03 & 0.024824324 & 0.0065489271 & Cfh/Zbtb20    & 2\\\\\n",
       "\tGO:0009141 & GO:0009141 & nucleoside triphosphate metabolic process                           & 2/7 & 275/28943 & 1.830428e-03 & 0.026835552 & 0.0070795109 & Cfh/Zbtb20    & 2\\\\\n",
       "\tGO:0042593 & GO:0042593 & glucose homeostasis                                                 & 2/7 & 294/28943 & 2.088002e-03 & 0.026835552 & 0.0070795109 & Zbtb20/Gas6   & 2\\\\\n",
       "\tGO:0033500 & GO:0033500 & carbohydrate homeostasis                                            & 2/7 & 295/28943 & 2.102012e-03 & 0.026835552 & 0.0070795109 & Zbtb20/Gas6   & 2\\\\\n",
       "\tGO:0032836 & GO:0032836 & glomerular basement membrane development                            & 1/7 & 10/28943  & 2.416292e-03 & 0.026835552 & 0.0070795109 & Col4a4        & 1\\\\\n",
       "\t⋮ & ⋮ & ⋮ & ⋮ & ⋮ & ⋮ & ⋮ & ⋮ & ⋮ & ⋮\\\\\n",
       "\tGO:0043954 & GO:0043954 & cellular component maintenance                                                            & 1/7 & 75/28943  & 0.01800055 & 0.04317989 & 0.01139132 & Chchd10 & 1\\\\\n",
       "\tGO:1903578 & GO:1903578 & regulation of ATP metabolic process                                                       & 1/7 & 75/28943  & 0.01800055 & 0.04317989 & 0.01139132 & Zbtb20  & 1\\\\\n",
       "\tGO:0010822 & GO:0010822 & positive regulation of mitochondrion organization                                         & 1/7 & 77/28943  & 0.01847674 & 0.04380073 & 0.01155511 & Chchd10 & 1\\\\\n",
       "\tGO:0048146 & GO:0048146 & positive regulation of fibroblast proliferation                                           & 1/7 & 77/28943  & 0.01847674 & 0.04380073 & 0.01155511 & Gas6    & 1\\\\\n",
       "\tGO:0061097 & GO:0061097 & regulation of protein tyrosine kinase activity                                            & 1/7 & 78/28943  & 0.01871475 & 0.04410553 & 0.01163552 & Gas6    & 1\\\\\n",
       "\tGO:2000107 & GO:2000107 & negative regulation of leukocyte apoptotic process                                        & 1/7 & 80/28943  & 0.01919064 & 0.04496413 & 0.01186203 & Gas6    & 1\\\\\n",
       "\tGO:0033209 & GO:0033209 & tumor necrosis factor-mediated signaling pathway                                          & 1/7 & 81/28943  & 0.01942852 & 0.04499823 & 0.01187102 & Gas6    & 1\\\\\n",
       "\tGO:0051145 & GO:0051145 & smooth muscle cell differentiation                                                        & 1/7 & 81/28943  & 0.01942852 & 0.04499823 & 0.01187102 & Cfh     & 1\\\\\n",
       "\tGO:0055021 & GO:0055021 & regulation of cardiac muscle tissue growth                                                & 1/7 & 83/28943  & 0.01990411 & 0.04512604 & 0.01190474 & Kcnk2   & 1\\\\\n",
       "\tGO:0034109 & GO:0034109 & homotypic cell-cell adhesion                                                              & 1/7 & 84/28943  & 0.02014183 & 0.04512604 & 0.01190474 & Cfh     & 1\\\\\n",
       "\tGO:0043154 & GO:0043154 & negative regulation of cysteine-type endopeptidase activity involved in apoptotic process & 1/7 & 84/28943  & 0.02014183 & 0.04512604 & 0.01190474 & Gas6    & 1\\\\\n",
       "\tGO:0045913 & GO:0045913 & positive regulation of carbohydrate metabolic process                                     & 1/7 & 84/28943  & 0.02014183 & 0.04512604 & 0.01190474 & Zbtb20  & 1\\\\\n",
       "\tGO:0060042 & GO:0060042 & retina morphogenesis in camera-type eye                                                   & 1/7 & 84/28943  & 0.02014183 & 0.04512604 & 0.01190474 & Cfh     & 1\\\\\n",
       "\tGO:0002251 & GO:0002251 & organ or tissue specific immune response                                                  & 1/7 & 85/28943  & 0.02037950 & 0.04512604 & 0.01190474 & Cfh     & 1\\\\\n",
       "\tGO:0014855 & GO:0014855 & striated muscle cell proliferation                                                        & 1/7 & 85/28943  & 0.02037950 & 0.04512604 & 0.01190474 & Kcnk2   & 1\\\\\n",
       "\tGO:0046530 & GO:0046530 & photoreceptor cell differentiation                                                        & 1/7 & 85/28943  & 0.02037950 & 0.04512604 & 0.01190474 & Cfh     & 1\\\\\n",
       "\tGO:0003407 & GO:0003407 & neural retina development                                                                 & 1/7 & 87/28943  & 0.02085470 & 0.04592593 & 0.01211576 & Cfh     & 1\\\\\n",
       "\tGO:1900542 & GO:1900542 & regulation of purine nucleotide metabolic process                                         & 1/7 & 89/28943  & 0.02132970 & 0.04671668 & 0.01232437 & Zbtb20  & 1\\\\\n",
       "\tGO:0050766 & GO:0050766 & positive regulation of phagocytosis                                                       & 1/7 & 91/28943  & 0.02180451 & 0.04724309 & 0.01246324 & Gas6    & 1\\\\\n",
       "\tGO:0060420 & GO:0060420 & regulation of heart growth                                                                & 1/7 & 91/28943  & 0.02180451 & 0.04724309 & 0.01246324 & Kcnk2   & 1\\\\\n",
       "\tGO:0006096 & GO:0006096 & glycolytic process                                                                        & 1/7 & 92/28943  & 0.02204183 & 0.04750192 & 0.01253152 & Zbtb20  & 1\\\\\n",
       "\tGO:0006757 & GO:0006757 & ATP generation from ADP                                                                   & 1/7 & 93/28943  & 0.02227911 & 0.04775788 & 0.01259905 & Zbtb20  & 1\\\\\n",
       "\tGO:0006140 & GO:0006140 & regulation of nucleotide metabolic process                                                & 1/7 & 95/28943  & 0.02275352 & 0.04826141 & 0.01273189 & Zbtb20  & 1\\\\\n",
       "\tGO:0030168 & GO:0030168 & platelet activation                                                                       & 1/7 & 95/28943  & 0.02275352 & 0.04826141 & 0.01273189 & Cfh     & 1\\\\\n",
       "\tGO:2000117 & GO:2000117 & negative regulation of cysteine-type endopeptidase activity                               & 1/7 & 96/28943  & 0.02299065 & 0.04850906 & 0.01279722 & Gas6    & 1\\\\\n",
       "\tGO:0090559 & GO:0090559 & regulation of membrane permeability                                                       & 1/7 & 98/28943  & 0.02346476 & 0.04925155 & 0.01299310 & Chchd10 & 1\\\\\n",
       "\tGO:0002690 & GO:0002690 & positive regulation of leukocyte chemotaxis                                               & 1/7 & 99/28943  & 0.02370174 & 0.04949120 & 0.01305632 & Gas6    & 1\\\\\n",
       "\tGO:0032147 & GO:0032147 & activation of protein kinase activity                                                     & 1/7 & 101/28943 & 0.02417556 & 0.04970791 & 0.01311349 & Gas6    & 1\\\\\n",
       "\tGO:0045185 & GO:0045185 & maintenance of protein location                                                           & 1/7 & 101/28943 & 0.02417556 & 0.04970791 & 0.01311349 & Chchd10 & 1\\\\\n",
       "\tGO:0046031 & GO:0046031 & ADP metabolic process                                                                     & 1/7 & 101/28943 & 0.02417556 & 0.04970791 & 0.01311349 & Zbtb20  & 1\\\\\n",
       "\\end{tabular}\n"
      ],
      "text/markdown": [
       "\n",
       "A data.frame: 196 × 9\n",
       "\n",
       "| <!--/--> | ID &lt;chr&gt; | Description &lt;chr&gt; | GeneRatio &lt;chr&gt; | BgRatio &lt;chr&gt; | pvalue &lt;dbl&gt; | p.adjust &lt;dbl&gt; | qvalue &lt;dbl&gt; | geneID &lt;chr&gt; | Count &lt;int&gt; |\n",
       "|---|---|---|---|---|---|---|---|---|---|\n",
       "| GO:0030322 | GO:0030322 | stabilization of membrane potential                                 | 2/7 | 16/28943  | 6.007006e-06 | 0.002420823 | 0.0006386396 | Kcnk2/Chchd10 | 2 |\n",
       "| GO:0032835 | GO:0032835 | glomerulus development                                              | 2/7 | 66/28943  | 1.067583e-04 | 0.018715446 | 0.0049373385 | Col4a4/Cfh    | 2 |\n",
       "| GO:0071333 | GO:0071333 | cellular response to glucose stimulus                               | 2/7 | 153/28943 | 5.729572e-04 | 0.018715446 | 0.0049373385 | Zbtb20/Gas6   | 2 |\n",
       "| GO:0071331 | GO:0071331 | cellular response to hexose stimulus                                | 2/7 | 155/28943 | 5.879486e-04 | 0.018715446 | 0.0049373385 | Zbtb20/Gas6   | 2 |\n",
       "| GO:0071326 | GO:0071326 | cellular response to monosaccharide stimulus                        | 2/7 | 156/28943 | 5.955156e-04 | 0.018715446 | 0.0049373385 | Zbtb20/Gas6   | 2 |\n",
       "| GO:0072006 | GO:0072006 | nephron development                                                 | 2/7 | 161/28943 | 6.340626e-04 | 0.018715446 | 0.0049373385 | Col4a4/Cfh    | 2 |\n",
       "| GO:0071322 | GO:0071322 | cellular response to carbohydrate stimulus                          | 2/7 | 164/28943 | 6.577598e-04 | 0.018715446 | 0.0049373385 | Zbtb20/Gas6   | 2 |\n",
       "| GO:0140053 | GO:0140053 | mitochondrial gene expression                                       | 2/7 | 164/28943 | 6.577598e-04 | 0.018715446 | 0.0049373385 | Cfh/Chchd10   | 2 |\n",
       "| GO:0032675 | GO:0032675 | regulation of interleukin-6 production                              | 2/7 | 167/28943 | 6.818834e-04 | 0.018715446 | 0.0049373385 | Zbtb20/Gas6   | 2 |\n",
       "| GO:0001678 | GO:0001678 | cellular glucose homeostasis                                        | 2/7 | 173/28943 | 7.314075e-04 | 0.018715446 | 0.0049373385 | Zbtb20/Gas6   | 2 |\n",
       "| GO:0032635 | GO:0032635 | interleukin-6 production                                            | 2/7 | 176/28943 | 7.568071e-04 | 0.018715446 | 0.0049373385 | Zbtb20/Gas6   | 2 |\n",
       "| GO:0007596 | GO:0007596 | blood coagulation                                                   | 2/7 | 177/28943 | 7.653680e-04 | 0.018715446 | 0.0049373385 | Cfh/Gas6      | 2 |\n",
       "| GO:0007599 | GO:0007599 | hemostasis                                                          | 2/7 | 180/28943 | 7.913334e-04 | 0.018715446 | 0.0049373385 | Cfh/Gas6      | 2 |\n",
       "| GO:0050817 | GO:0050817 | coagulation                                                         | 2/7 | 180/28943 | 7.913334e-04 | 0.018715446 | 0.0049373385 | Cfh/Gas6      | 2 |\n",
       "| GO:0032680 | GO:0032680 | regulation of tumor necrosis factor production                      | 2/7 | 186/28943 | 8.445355e-04 | 0.018715446 | 0.0049373385 | Zbtb20/Gas6   | 2 |\n",
       "| GO:1903555 | GO:1903555 | regulation of tumor necrosis factor superfamily cytokine production | 2/7 | 189/28943 | 8.717711e-04 | 0.018715446 | 0.0049373385 | Zbtb20/Gas6   | 2 |\n",
       "| GO:0032640 | GO:0032640 | tumor necrosis factor production                                    | 2/7 | 193/28943 | 9.087425e-04 | 0.018715446 | 0.0049373385 | Zbtb20/Gas6   | 2 |\n",
       "| GO:0009749 | GO:0009749 | response to glucose                                                 | 2/7 | 194/28943 | 9.181026e-04 | 0.018715446 | 0.0049373385 | Zbtb20/Gas6   | 2 |\n",
       "| GO:0071706 | GO:0071706 | tumor necrosis factor superfamily cytokine production               | 2/7 | 196/28943 | 9.369633e-04 | 0.018715446 | 0.0049373385 | Zbtb20/Gas6   | 2 |\n",
       "| GO:0009746 | GO:0009746 | response to hexose                                                  | 2/7 | 197/28943 | 9.464639e-04 | 0.018715446 | 0.0049373385 | Zbtb20/Gas6   | 2 |\n",
       "| GO:0034284 | GO:0034284 | response to monosaccharide                                          | 2/7 | 200/28943 | 9.752466e-04 | 0.018715446 | 0.0049373385 | Zbtb20/Gas6   | 2 |\n",
       "| GO:0009743 | GO:0009743 | response to carbohydrate                                            | 2/7 | 214/28943 | 1.115123e-03 | 0.020427025 | 0.0053888718 | Zbtb20/Gas6   | 2 |\n",
       "| GO:0046034 | GO:0046034 | ATP metabolic process                                               | 2/7 | 224/28943 | 1.220621e-03 | 0.021387401 | 0.0056422292 | Cfh/Zbtb20    | 2 |\n",
       "| GO:0009205 | GO:0009205 | purine ribonucleoside triphosphate metabolic process                | 2/7 | 251/28943 | 1.528577e-03 | 0.024824324 | 0.0065489271 | Cfh/Zbtb20    | 2 |\n",
       "| GO:0009144 | GO:0009144 | purine nucleoside triphosphate metabolic process                    | 2/7 | 257/28943 | 1.601569e-03 | 0.024824324 | 0.0065489271 | Cfh/Zbtb20    | 2 |\n",
       "| GO:0009199 | GO:0009199 | ribonucleoside triphosphate metabolic process                       | 2/7 | 257/28943 | 1.601569e-03 | 0.024824324 | 0.0065489271 | Cfh/Zbtb20    | 2 |\n",
       "| GO:0009141 | GO:0009141 | nucleoside triphosphate metabolic process                           | 2/7 | 275/28943 | 1.830428e-03 | 0.026835552 | 0.0070795109 | Cfh/Zbtb20    | 2 |\n",
       "| GO:0042593 | GO:0042593 | glucose homeostasis                                                 | 2/7 | 294/28943 | 2.088002e-03 | 0.026835552 | 0.0070795109 | Zbtb20/Gas6   | 2 |\n",
       "| GO:0033500 | GO:0033500 | carbohydrate homeostasis                                            | 2/7 | 295/28943 | 2.102012e-03 | 0.026835552 | 0.0070795109 | Zbtb20/Gas6   | 2 |\n",
       "| GO:0032836 | GO:0032836 | glomerular basement membrane development                            | 1/7 | 10/28943  | 2.416292e-03 | 0.026835552 | 0.0070795109 | Col4a4        | 1 |\n",
       "| ⋮ | ⋮ | ⋮ | ⋮ | ⋮ | ⋮ | ⋮ | ⋮ | ⋮ | ⋮ |\n",
       "| GO:0043954 | GO:0043954 | cellular component maintenance                                                            | 1/7 | 75/28943  | 0.01800055 | 0.04317989 | 0.01139132 | Chchd10 | 1 |\n",
       "| GO:1903578 | GO:1903578 | regulation of ATP metabolic process                                                       | 1/7 | 75/28943  | 0.01800055 | 0.04317989 | 0.01139132 | Zbtb20  | 1 |\n",
       "| GO:0010822 | GO:0010822 | positive regulation of mitochondrion organization                                         | 1/7 | 77/28943  | 0.01847674 | 0.04380073 | 0.01155511 | Chchd10 | 1 |\n",
       "| GO:0048146 | GO:0048146 | positive regulation of fibroblast proliferation                                           | 1/7 | 77/28943  | 0.01847674 | 0.04380073 | 0.01155511 | Gas6    | 1 |\n",
       "| GO:0061097 | GO:0061097 | regulation of protein tyrosine kinase activity                                            | 1/7 | 78/28943  | 0.01871475 | 0.04410553 | 0.01163552 | Gas6    | 1 |\n",
       "| GO:2000107 | GO:2000107 | negative regulation of leukocyte apoptotic process                                        | 1/7 | 80/28943  | 0.01919064 | 0.04496413 | 0.01186203 | Gas6    | 1 |\n",
       "| GO:0033209 | GO:0033209 | tumor necrosis factor-mediated signaling pathway                                          | 1/7 | 81/28943  | 0.01942852 | 0.04499823 | 0.01187102 | Gas6    | 1 |\n",
       "| GO:0051145 | GO:0051145 | smooth muscle cell differentiation                                                        | 1/7 | 81/28943  | 0.01942852 | 0.04499823 | 0.01187102 | Cfh     | 1 |\n",
       "| GO:0055021 | GO:0055021 | regulation of cardiac muscle tissue growth                                                | 1/7 | 83/28943  | 0.01990411 | 0.04512604 | 0.01190474 | Kcnk2   | 1 |\n",
       "| GO:0034109 | GO:0034109 | homotypic cell-cell adhesion                                                              | 1/7 | 84/28943  | 0.02014183 | 0.04512604 | 0.01190474 | Cfh     | 1 |\n",
       "| GO:0043154 | GO:0043154 | negative regulation of cysteine-type endopeptidase activity involved in apoptotic process | 1/7 | 84/28943  | 0.02014183 | 0.04512604 | 0.01190474 | Gas6    | 1 |\n",
       "| GO:0045913 | GO:0045913 | positive regulation of carbohydrate metabolic process                                     | 1/7 | 84/28943  | 0.02014183 | 0.04512604 | 0.01190474 | Zbtb20  | 1 |\n",
       "| GO:0060042 | GO:0060042 | retina morphogenesis in camera-type eye                                                   | 1/7 | 84/28943  | 0.02014183 | 0.04512604 | 0.01190474 | Cfh     | 1 |\n",
       "| GO:0002251 | GO:0002251 | organ or tissue specific immune response                                                  | 1/7 | 85/28943  | 0.02037950 | 0.04512604 | 0.01190474 | Cfh     | 1 |\n",
       "| GO:0014855 | GO:0014855 | striated muscle cell proliferation                                                        | 1/7 | 85/28943  | 0.02037950 | 0.04512604 | 0.01190474 | Kcnk2   | 1 |\n",
       "| GO:0046530 | GO:0046530 | photoreceptor cell differentiation                                                        | 1/7 | 85/28943  | 0.02037950 | 0.04512604 | 0.01190474 | Cfh     | 1 |\n",
       "| GO:0003407 | GO:0003407 | neural retina development                                                                 | 1/7 | 87/28943  | 0.02085470 | 0.04592593 | 0.01211576 | Cfh     | 1 |\n",
       "| GO:1900542 | GO:1900542 | regulation of purine nucleotide metabolic process                                         | 1/7 | 89/28943  | 0.02132970 | 0.04671668 | 0.01232437 | Zbtb20  | 1 |\n",
       "| GO:0050766 | GO:0050766 | positive regulation of phagocytosis                                                       | 1/7 | 91/28943  | 0.02180451 | 0.04724309 | 0.01246324 | Gas6    | 1 |\n",
       "| GO:0060420 | GO:0060420 | regulation of heart growth                                                                | 1/7 | 91/28943  | 0.02180451 | 0.04724309 | 0.01246324 | Kcnk2   | 1 |\n",
       "| GO:0006096 | GO:0006096 | glycolytic process                                                                        | 1/7 | 92/28943  | 0.02204183 | 0.04750192 | 0.01253152 | Zbtb20  | 1 |\n",
       "| GO:0006757 | GO:0006757 | ATP generation from ADP                                                                   | 1/7 | 93/28943  | 0.02227911 | 0.04775788 | 0.01259905 | Zbtb20  | 1 |\n",
       "| GO:0006140 | GO:0006140 | regulation of nucleotide metabolic process                                                | 1/7 | 95/28943  | 0.02275352 | 0.04826141 | 0.01273189 | Zbtb20  | 1 |\n",
       "| GO:0030168 | GO:0030168 | platelet activation                                                                       | 1/7 | 95/28943  | 0.02275352 | 0.04826141 | 0.01273189 | Cfh     | 1 |\n",
       "| GO:2000117 | GO:2000117 | negative regulation of cysteine-type endopeptidase activity                               | 1/7 | 96/28943  | 0.02299065 | 0.04850906 | 0.01279722 | Gas6    | 1 |\n",
       "| GO:0090559 | GO:0090559 | regulation of membrane permeability                                                       | 1/7 | 98/28943  | 0.02346476 | 0.04925155 | 0.01299310 | Chchd10 | 1 |\n",
       "| GO:0002690 | GO:0002690 | positive regulation of leukocyte chemotaxis                                               | 1/7 | 99/28943  | 0.02370174 | 0.04949120 | 0.01305632 | Gas6    | 1 |\n",
       "| GO:0032147 | GO:0032147 | activation of protein kinase activity                                                     | 1/7 | 101/28943 | 0.02417556 | 0.04970791 | 0.01311349 | Gas6    | 1 |\n",
       "| GO:0045185 | GO:0045185 | maintenance of protein location                                                           | 1/7 | 101/28943 | 0.02417556 | 0.04970791 | 0.01311349 | Chchd10 | 1 |\n",
       "| GO:0046031 | GO:0046031 | ADP metabolic process                                                                     | 1/7 | 101/28943 | 0.02417556 | 0.04970791 | 0.01311349 | Zbtb20  | 1 |\n",
       "\n"
      ],
      "text/plain": [
       "           ID        \n",
       "GO:0030322 GO:0030322\n",
       "GO:0032835 GO:0032835\n",
       "GO:0071333 GO:0071333\n",
       "GO:0071331 GO:0071331\n",
       "GO:0071326 GO:0071326\n",
       "GO:0072006 GO:0072006\n",
       "GO:0071322 GO:0071322\n",
       "GO:0140053 GO:0140053\n",
       "GO:0032675 GO:0032675\n",
       "GO:0001678 GO:0001678\n",
       "GO:0032635 GO:0032635\n",
       "GO:0007596 GO:0007596\n",
       "GO:0007599 GO:0007599\n",
       "GO:0050817 GO:0050817\n",
       "GO:0032680 GO:0032680\n",
       "GO:1903555 GO:1903555\n",
       "GO:0032640 GO:0032640\n",
       "GO:0009749 GO:0009749\n",
       "GO:0071706 GO:0071706\n",
       "GO:0009746 GO:0009746\n",
       "GO:0034284 GO:0034284\n",
       "GO:0009743 GO:0009743\n",
       "GO:0046034 GO:0046034\n",
       "GO:0009205 GO:0009205\n",
       "GO:0009144 GO:0009144\n",
       "GO:0009199 GO:0009199\n",
       "GO:0009141 GO:0009141\n",
       "GO:0042593 GO:0042593\n",
       "GO:0033500 GO:0033500\n",
       "GO:0032836 GO:0032836\n",
       "⋮          ⋮         \n",
       "GO:0043954 GO:0043954\n",
       "GO:1903578 GO:1903578\n",
       "GO:0010822 GO:0010822\n",
       "GO:0048146 GO:0048146\n",
       "GO:0061097 GO:0061097\n",
       "GO:2000107 GO:2000107\n",
       "GO:0033209 GO:0033209\n",
       "GO:0051145 GO:0051145\n",
       "GO:0055021 GO:0055021\n",
       "GO:0034109 GO:0034109\n",
       "GO:0043154 GO:0043154\n",
       "GO:0045913 GO:0045913\n",
       "GO:0060042 GO:0060042\n",
       "GO:0002251 GO:0002251\n",
       "GO:0014855 GO:0014855\n",
       "GO:0046530 GO:0046530\n",
       "GO:0003407 GO:0003407\n",
       "GO:1900542 GO:1900542\n",
       "GO:0050766 GO:0050766\n",
       "GO:0060420 GO:0060420\n",
       "GO:0006096 GO:0006096\n",
       "GO:0006757 GO:0006757\n",
       "GO:0006140 GO:0006140\n",
       "GO:0030168 GO:0030168\n",
       "GO:2000117 GO:2000117\n",
       "GO:0090559 GO:0090559\n",
       "GO:0002690 GO:0002690\n",
       "GO:0032147 GO:0032147\n",
       "GO:0045185 GO:0045185\n",
       "GO:0046031 GO:0046031\n",
       "           Description                                                                              \n",
       "GO:0030322 stabilization of membrane potential                                                      \n",
       "GO:0032835 glomerulus development                                                                   \n",
       "GO:0071333 cellular response to glucose stimulus                                                    \n",
       "GO:0071331 cellular response to hexose stimulus                                                     \n",
       "GO:0071326 cellular response to monosaccharide stimulus                                             \n",
       "GO:0072006 nephron development                                                                      \n",
       "GO:0071322 cellular response to carbohydrate stimulus                                               \n",
       "GO:0140053 mitochondrial gene expression                                                            \n",
       "GO:0032675 regulation of interleukin-6 production                                                   \n",
       "GO:0001678 cellular glucose homeostasis                                                             \n",
       "GO:0032635 interleukin-6 production                                                                 \n",
       "GO:0007596 blood coagulation                                                                        \n",
       "GO:0007599 hemostasis                                                                               \n",
       "GO:0050817 coagulation                                                                              \n",
       "GO:0032680 regulation of tumor necrosis factor production                                           \n",
       "GO:1903555 regulation of tumor necrosis factor superfamily cytokine production                      \n",
       "GO:0032640 tumor necrosis factor production                                                         \n",
       "GO:0009749 response to glucose                                                                      \n",
       "GO:0071706 tumor necrosis factor superfamily cytokine production                                    \n",
       "GO:0009746 response to hexose                                                                       \n",
       "GO:0034284 response to monosaccharide                                                               \n",
       "GO:0009743 response to carbohydrate                                                                 \n",
       "GO:0046034 ATP metabolic process                                                                    \n",
       "GO:0009205 purine ribonucleoside triphosphate metabolic process                                     \n",
       "GO:0009144 purine nucleoside triphosphate metabolic process                                         \n",
       "GO:0009199 ribonucleoside triphosphate metabolic process                                            \n",
       "GO:0009141 nucleoside triphosphate metabolic process                                                \n",
       "GO:0042593 glucose homeostasis                                                                      \n",
       "GO:0033500 carbohydrate homeostasis                                                                 \n",
       "GO:0032836 glomerular basement membrane development                                                 \n",
       "⋮          ⋮                                                                                        \n",
       "GO:0043954 cellular component maintenance                                                           \n",
       "GO:1903578 regulation of ATP metabolic process                                                      \n",
       "GO:0010822 positive regulation of mitochondrion organization                                        \n",
       "GO:0048146 positive regulation of fibroblast proliferation                                          \n",
       "GO:0061097 regulation of protein tyrosine kinase activity                                           \n",
       "GO:2000107 negative regulation of leukocyte apoptotic process                                       \n",
       "GO:0033209 tumor necrosis factor-mediated signaling pathway                                         \n",
       "GO:0051145 smooth muscle cell differentiation                                                       \n",
       "GO:0055021 regulation of cardiac muscle tissue growth                                               \n",
       "GO:0034109 homotypic cell-cell adhesion                                                             \n",
       "GO:0043154 negative regulation of cysteine-type endopeptidase activity involved in apoptotic process\n",
       "GO:0045913 positive regulation of carbohydrate metabolic process                                    \n",
       "GO:0060042 retina morphogenesis in camera-type eye                                                  \n",
       "GO:0002251 organ or tissue specific immune response                                                 \n",
       "GO:0014855 striated muscle cell proliferation                                                       \n",
       "GO:0046530 photoreceptor cell differentiation                                                       \n",
       "GO:0003407 neural retina development                                                                \n",
       "GO:1900542 regulation of purine nucleotide metabolic process                                        \n",
       "GO:0050766 positive regulation of phagocytosis                                                      \n",
       "GO:0060420 regulation of heart growth                                                               \n",
       "GO:0006096 glycolytic process                                                                       \n",
       "GO:0006757 ATP generation from ADP                                                                  \n",
       "GO:0006140 regulation of nucleotide metabolic process                                               \n",
       "GO:0030168 platelet activation                                                                      \n",
       "GO:2000117 negative regulation of cysteine-type endopeptidase activity                              \n",
       "GO:0090559 regulation of membrane permeability                                                      \n",
       "GO:0002690 positive regulation of leukocyte chemotaxis                                              \n",
       "GO:0032147 activation of protein kinase activity                                                    \n",
       "GO:0045185 maintenance of protein location                                                          \n",
       "GO:0046031 ADP metabolic process                                                                    \n",
       "           GeneRatio BgRatio   pvalue       p.adjust    qvalue      \n",
       "GO:0030322 2/7       16/28943  6.007006e-06 0.002420823 0.0006386396\n",
       "GO:0032835 2/7       66/28943  1.067583e-04 0.018715446 0.0049373385\n",
       "GO:0071333 2/7       153/28943 5.729572e-04 0.018715446 0.0049373385\n",
       "GO:0071331 2/7       155/28943 5.879486e-04 0.018715446 0.0049373385\n",
       "GO:0071326 2/7       156/28943 5.955156e-04 0.018715446 0.0049373385\n",
       "GO:0072006 2/7       161/28943 6.340626e-04 0.018715446 0.0049373385\n",
       "GO:0071322 2/7       164/28943 6.577598e-04 0.018715446 0.0049373385\n",
       "GO:0140053 2/7       164/28943 6.577598e-04 0.018715446 0.0049373385\n",
       "GO:0032675 2/7       167/28943 6.818834e-04 0.018715446 0.0049373385\n",
       "GO:0001678 2/7       173/28943 7.314075e-04 0.018715446 0.0049373385\n",
       "GO:0032635 2/7       176/28943 7.568071e-04 0.018715446 0.0049373385\n",
       "GO:0007596 2/7       177/28943 7.653680e-04 0.018715446 0.0049373385\n",
       "GO:0007599 2/7       180/28943 7.913334e-04 0.018715446 0.0049373385\n",
       "GO:0050817 2/7       180/28943 7.913334e-04 0.018715446 0.0049373385\n",
       "GO:0032680 2/7       186/28943 8.445355e-04 0.018715446 0.0049373385\n",
       "GO:1903555 2/7       189/28943 8.717711e-04 0.018715446 0.0049373385\n",
       "GO:0032640 2/7       193/28943 9.087425e-04 0.018715446 0.0049373385\n",
       "GO:0009749 2/7       194/28943 9.181026e-04 0.018715446 0.0049373385\n",
       "GO:0071706 2/7       196/28943 9.369633e-04 0.018715446 0.0049373385\n",
       "GO:0009746 2/7       197/28943 9.464639e-04 0.018715446 0.0049373385\n",
       "GO:0034284 2/7       200/28943 9.752466e-04 0.018715446 0.0049373385\n",
       "GO:0009743 2/7       214/28943 1.115123e-03 0.020427025 0.0053888718\n",
       "GO:0046034 2/7       224/28943 1.220621e-03 0.021387401 0.0056422292\n",
       "GO:0009205 2/7       251/28943 1.528577e-03 0.024824324 0.0065489271\n",
       "GO:0009144 2/7       257/28943 1.601569e-03 0.024824324 0.0065489271\n",
       "GO:0009199 2/7       257/28943 1.601569e-03 0.024824324 0.0065489271\n",
       "GO:0009141 2/7       275/28943 1.830428e-03 0.026835552 0.0070795109\n",
       "GO:0042593 2/7       294/28943 2.088002e-03 0.026835552 0.0070795109\n",
       "GO:0033500 2/7       295/28943 2.102012e-03 0.026835552 0.0070795109\n",
       "GO:0032836 1/7       10/28943  2.416292e-03 0.026835552 0.0070795109\n",
       "⋮          ⋮         ⋮         ⋮            ⋮           ⋮           \n",
       "GO:0043954 1/7       75/28943  0.01800055   0.04317989  0.01139132  \n",
       "GO:1903578 1/7       75/28943  0.01800055   0.04317989  0.01139132  \n",
       "GO:0010822 1/7       77/28943  0.01847674   0.04380073  0.01155511  \n",
       "GO:0048146 1/7       77/28943  0.01847674   0.04380073  0.01155511  \n",
       "GO:0061097 1/7       78/28943  0.01871475   0.04410553  0.01163552  \n",
       "GO:2000107 1/7       80/28943  0.01919064   0.04496413  0.01186203  \n",
       "GO:0033209 1/7       81/28943  0.01942852   0.04499823  0.01187102  \n",
       "GO:0051145 1/7       81/28943  0.01942852   0.04499823  0.01187102  \n",
       "GO:0055021 1/7       83/28943  0.01990411   0.04512604  0.01190474  \n",
       "GO:0034109 1/7       84/28943  0.02014183   0.04512604  0.01190474  \n",
       "GO:0043154 1/7       84/28943  0.02014183   0.04512604  0.01190474  \n",
       "GO:0045913 1/7       84/28943  0.02014183   0.04512604  0.01190474  \n",
       "GO:0060042 1/7       84/28943  0.02014183   0.04512604  0.01190474  \n",
       "GO:0002251 1/7       85/28943  0.02037950   0.04512604  0.01190474  \n",
       "GO:0014855 1/7       85/28943  0.02037950   0.04512604  0.01190474  \n",
       "GO:0046530 1/7       85/28943  0.02037950   0.04512604  0.01190474  \n",
       "GO:0003407 1/7       87/28943  0.02085470   0.04592593  0.01211576  \n",
       "GO:1900542 1/7       89/28943  0.02132970   0.04671668  0.01232437  \n",
       "GO:0050766 1/7       91/28943  0.02180451   0.04724309  0.01246324  \n",
       "GO:0060420 1/7       91/28943  0.02180451   0.04724309  0.01246324  \n",
       "GO:0006096 1/7       92/28943  0.02204183   0.04750192  0.01253152  \n",
       "GO:0006757 1/7       93/28943  0.02227911   0.04775788  0.01259905  \n",
       "GO:0006140 1/7       95/28943  0.02275352   0.04826141  0.01273189  \n",
       "GO:0030168 1/7       95/28943  0.02275352   0.04826141  0.01273189  \n",
       "GO:2000117 1/7       96/28943  0.02299065   0.04850906  0.01279722  \n",
       "GO:0090559 1/7       98/28943  0.02346476   0.04925155  0.01299310  \n",
       "GO:0002690 1/7       99/28943  0.02370174   0.04949120  0.01305632  \n",
       "GO:0032147 1/7       101/28943 0.02417556   0.04970791  0.01311349  \n",
       "GO:0045185 1/7       101/28943 0.02417556   0.04970791  0.01311349  \n",
       "GO:0046031 1/7       101/28943 0.02417556   0.04970791  0.01311349  \n",
       "           geneID        Count\n",
       "GO:0030322 Kcnk2/Chchd10 2    \n",
       "GO:0032835 Col4a4/Cfh    2    \n",
       "GO:0071333 Zbtb20/Gas6   2    \n",
       "GO:0071331 Zbtb20/Gas6   2    \n",
       "GO:0071326 Zbtb20/Gas6   2    \n",
       "GO:0072006 Col4a4/Cfh    2    \n",
       "GO:0071322 Zbtb20/Gas6   2    \n",
       "GO:0140053 Cfh/Chchd10   2    \n",
       "GO:0032675 Zbtb20/Gas6   2    \n",
       "GO:0001678 Zbtb20/Gas6   2    \n",
       "GO:0032635 Zbtb20/Gas6   2    \n",
       "GO:0007596 Cfh/Gas6      2    \n",
       "GO:0007599 Cfh/Gas6      2    \n",
       "GO:0050817 Cfh/Gas6      2    \n",
       "GO:0032680 Zbtb20/Gas6   2    \n",
       "GO:1903555 Zbtb20/Gas6   2    \n",
       "GO:0032640 Zbtb20/Gas6   2    \n",
       "GO:0009749 Zbtb20/Gas6   2    \n",
       "GO:0071706 Zbtb20/Gas6   2    \n",
       "GO:0009746 Zbtb20/Gas6   2    \n",
       "GO:0034284 Zbtb20/Gas6   2    \n",
       "GO:0009743 Zbtb20/Gas6   2    \n",
       "GO:0046034 Cfh/Zbtb20    2    \n",
       "GO:0009205 Cfh/Zbtb20    2    \n",
       "GO:0009144 Cfh/Zbtb20    2    \n",
       "GO:0009199 Cfh/Zbtb20    2    \n",
       "GO:0009141 Cfh/Zbtb20    2    \n",
       "GO:0042593 Zbtb20/Gas6   2    \n",
       "GO:0033500 Zbtb20/Gas6   2    \n",
       "GO:0032836 Col4a4        1    \n",
       "⋮          ⋮             ⋮    \n",
       "GO:0043954 Chchd10       1    \n",
       "GO:1903578 Zbtb20        1    \n",
       "GO:0010822 Chchd10       1    \n",
       "GO:0048146 Gas6          1    \n",
       "GO:0061097 Gas6          1    \n",
       "GO:2000107 Gas6          1    \n",
       "GO:0033209 Gas6          1    \n",
       "GO:0051145 Cfh           1    \n",
       "GO:0055021 Kcnk2         1    \n",
       "GO:0034109 Cfh           1    \n",
       "GO:0043154 Gas6          1    \n",
       "GO:0045913 Zbtb20        1    \n",
       "GO:0060042 Cfh           1    \n",
       "GO:0002251 Cfh           1    \n",
       "GO:0014855 Kcnk2         1    \n",
       "GO:0046530 Cfh           1    \n",
       "GO:0003407 Cfh           1    \n",
       "GO:1900542 Zbtb20        1    \n",
       "GO:0050766 Gas6          1    \n",
       "GO:0060420 Kcnk2         1    \n",
       "GO:0006096 Zbtb20        1    \n",
       "GO:0006757 Zbtb20        1    \n",
       "GO:0006140 Zbtb20        1    \n",
       "GO:0030168 Cfh           1    \n",
       "GO:2000117 Gas6          1    \n",
       "GO:0090559 Chchd10       1    \n",
       "GO:0002690 Gas6          1    \n",
       "GO:0032147 Gas6          1    \n",
       "GO:0045185 Chchd10       1    \n",
       "GO:0046031 Zbtb20        1    "
      ]
     },
     "metadata": {},
     "output_type": "display_data"
    }
   ],
   "source": [
    "#BP MF CC\n",
    "GO_results <- enrichGO(gene = TF.hits.up$gene, \n",
    "                       OrgDb = \"org.Mm.eg.db\", keyType = \"SYMBOL\", ont = \"BP\")\n",
    "as.data.frame(GO_results)"
   ]
  },
  {
   "cell_type": "code",
   "execution_count": 31,
   "id": "0e28550a",
   "metadata": {},
   "outputs": [
    {
     "data": {
      "text/html": [
       "<strong>pdf:</strong> 2"
      ],
      "text/latex": [
       "\\textbf{pdf:} 2"
      ],
      "text/markdown": [
       "**pdf:** 2"
      ],
      "text/plain": [
       "pdf \n",
       "  2 "
      ]
     },
     "metadata": {},
     "output_type": "display_data"
    },
    {
     "data": {
      "image/png": "[encoded data removed]",
      "text/plain": [
       "plot without title"
      ]
     },
     "metadata": {
      "image/png": {
       "height": 420,
       "width": 420
      }
     },
     "output_type": "display_data"
    }
   ],
   "source": [
    "fit <- plot(barplot(GO_results, showCategory = 5, font.size=8))\n",
    "png(\"data/TF/P5vsP1_DEG_Foxl2_BP.png\", res = 600, width = 2400, height = 1800)\n",
    "print(fit)\n",
    "dev.off()"
   ]
  },
  {
   "cell_type": "code",
   "execution_count": 32,
   "id": "27315892",
   "metadata": {},
   "outputs": [
    {
     "data": {
      "text/html": [
       "<table class=\"dataframe\">\n",
       "<caption>A data.frame: 236 × 9</caption>\n",
       "<thead>\n",
       "\t<tr><th></th><th scope=col>ID</th><th scope=col>Description</th><th scope=col>GeneRatio</th><th scope=col>BgRatio</th><th scope=col>pvalue</th><th scope=col>p.adjust</th><th scope=col>qvalue</th><th scope=col>geneID</th><th scope=col>Count</th></tr>\n",
       "\t<tr><th></th><th scope=col>&lt;chr&gt;</th><th scope=col>&lt;chr&gt;</th><th scope=col>&lt;chr&gt;</th><th scope=col>&lt;chr&gt;</th><th scope=col>&lt;dbl&gt;</th><th scope=col>&lt;dbl&gt;</th><th scope=col>&lt;dbl&gt;</th><th scope=col>&lt;chr&gt;</th><th scope=col>&lt;int&gt;</th></tr>\n",
       "</thead>\n",
       "<tbody>\n",
       "\t<tr><th scope=row>GO:0010563</th><td>GO:0010563</td><td>negative regulation of phosphorus metabolic process                     </td><td>5/17</td><td>453/28943</td><td>4.867574e-06</td><td>0.002187975</td><td>0.0009863242</td><td>Tgfb2/Fbln1/Cdkn1c/Sfrp1/Slit2</td><td>5</td></tr>\n",
       "\t<tr><th scope=row>GO:0045936</th><td>GO:0045936</td><td>negative regulation of phosphate metabolic process                      </td><td>5/17</td><td>453/28943</td><td>4.867574e-06</td><td>0.002187975</td><td>0.0009863242</td><td>Tgfb2/Fbln1/Cdkn1c/Sfrp1/Slit2</td><td>5</td></tr>\n",
       "\t<tr><th scope=row>GO:0007411</th><td>GO:0007411</td><td>axon guidance                                                           </td><td>4/17</td><td>259/28943</td><td>1.360536e-05</td><td>0.003104462</td><td>0.0013994705</td><td>Alcam/Tgfb2/Ncam1/Slit2       </td><td>4</td></tr>\n",
       "\t<tr><th scope=row>GO:0097485</th><td>GO:0097485</td><td>neuron projection guidance                                              </td><td>4/17</td><td>260/28943</td><td>1.381296e-05</td><td>0.003104462</td><td>0.0013994705</td><td>Alcam/Tgfb2/Ncam1/Slit2       </td><td>4</td></tr>\n",
       "\t<tr><th scope=row>GO:0001822</th><td>GO:0001822</td><td>kidney development                                                      </td><td>4/17</td><td>334/28943</td><td>3.681459e-05</td><td>0.004837483</td><td>0.0021807049</td><td>Tgfb2/Cdkn1c/Sfrp1/Slit2      </td><td>4</td></tr>\n",
       "\t<tr><th scope=row>GO:0001933</th><td>GO:0001933</td><td>negative regulation of protein phosphorylation                          </td><td>4/17</td><td>346/28943</td><td>4.224052e-05</td><td>0.004837483</td><td>0.0021807049</td><td>Fbln1/Cdkn1c/Sfrp1/Slit2      </td><td>4</td></tr>\n",
       "\t<tr><th scope=row>GO:0072001</th><td>GO:0072001</td><td>renal system development                                                </td><td>4/17</td><td>348/28943</td><td>4.319880e-05</td><td>0.004837483</td><td>0.0021807049</td><td>Tgfb2/Cdkn1c/Sfrp1/Slit2      </td><td>4</td></tr>\n",
       "\t<tr><th scope=row>GO:0003184</th><td>GO:0003184</td><td>pulmonary valve morphogenesis                                           </td><td>2/17</td><td>17/28943 </td><td>4.393238e-05</td><td>0.004837483</td><td>0.0021807049</td><td>Tgfb2/Slit2                   </td><td>2</td></tr>\n",
       "\t<tr><th scope=row>GO:0071514</th><td>GO:0071514</td><td>genomic imprinting                                                      </td><td>2/17</td><td>19/28943 </td><td>5.520034e-05</td><td>0.004837483</td><td>0.0021807049</td><td>Meg3/Cdkn1c                   </td><td>2</td></tr>\n",
       "\t<tr><th scope=row>GO:0007517</th><td>GO:0007517</td><td>muscle organ development                                                </td><td>4/17</td><td>371/28943</td><td>5.540003e-05</td><td>0.004837483</td><td>0.0021807049</td><td>Meg3/Eln/Tgfb2/Chd2           </td><td>4</td></tr>\n",
       "\t<tr><th scope=row>GO:0003177</th><td>GO:0003177</td><td>pulmonary valve development                                             </td><td>2/17</td><td>21/28943 </td><td>6.774307e-05</td><td>0.004837483</td><td>0.0021807049</td><td>Tgfb2/Slit2                   </td><td>2</td></tr>\n",
       "\t<tr><th scope=row>GO:0001655</th><td>GO:0001655</td><td>urogenital system development                                           </td><td>4/17</td><td>391/28943</td><td>6.791176e-05</td><td>0.004837483</td><td>0.0021807049</td><td>Tgfb2/Cdkn1c/Sfrp1/Slit2      </td><td>4</td></tr>\n",
       "\t<tr><th scope=row>GO:0042326</th><td>GO:0042326</td><td>negative regulation of phosphorylation                                  </td><td>4/17</td><td>394/28943</td><td>6.995248e-05</td><td>0.004837483</td><td>0.0021807049</td><td>Fbln1/Cdkn1c/Sfrp1/Slit2      </td><td>4</td></tr>\n",
       "\t<tr><th scope=row>GO:0007178</th><td>GO:0007178</td><td>transmembrane receptor protein serine/threonine kinase signaling pathway</td><td>4/17</td><td>407/28943</td><td>7.931735e-05</td><td>0.005093307</td><td>0.0022960285</td><td>Meg3/Tgfb2/Cdkn1c/Sfrp1       </td><td>4</td></tr>\n",
       "\t<tr><th scope=row>GO:0032970</th><td>GO:0032970</td><td>regulation of actin filament-based process                              </td><td>4/17</td><td>416/28943</td><td>8.631585e-05</td><td>0.005173197</td><td>0.0023320422</td><td>Eln/Tgfb2/Slit2/Acta2         </td><td>4</td></tr>\n",
       "\t<tr><th scope=row>GO:0060065</th><td>GO:0060065</td><td>uterus development                                                      </td><td>2/17</td><td>26/28943 </td><td>1.046595e-04</td><td>0.005880557</td><td>0.0026509158</td><td>Tgfb2/Cdkn1c                  </td><td>2</td></tr>\n",
       "\t<tr><th scope=row>GO:0006929</th><td>GO:0006929</td><td>substrate-dependent cell migration                                      </td><td>2/17</td><td>30/28943 </td><td>1.398893e-04</td><td>0.007230257</td><td>0.0032593511</td><td>Fbln1/Slit2                   </td><td>2</td></tr>\n",
       "\t<tr><th scope=row>GO:0048732</th><td>GO:0048732</td><td>gland development                                                       </td><td>4/17</td><td>483/28943</td><td>1.534115e-04</td><td>0.007230257</td><td>0.0032593511</td><td>Meg3/Cdkn1c/Sfrp1/Slit2       </td><td>4</td></tr>\n",
       "\t<tr><th scope=row>GO:0007409</th><td>GO:0007409</td><td>axonogenesis                                                            </td><td>4/17</td><td>493/28943</td><td>1.659571e-04</td><td>0.007230257</td><td>0.0032593511</td><td>Alcam/Tgfb2/Ncam1/Slit2       </td><td>4</td></tr>\n",
       "\t<tr><th scope=row>GO:0060537</th><td>GO:0060537</td><td>muscle tissue development                                               </td><td>4/17</td><td>494/28943</td><td>1.672513e-04</td><td>0.007230257</td><td>0.0032593511</td><td>Meg3/Eln/Tgfb2/Ncam1          </td><td>4</td></tr>\n",
       "\t<tr><th scope=row>GO:1905314</th><td>GO:1905314</td><td>semi-lunar valve development                                            </td><td>2/17</td><td>33/28943 </td><td>1.696208e-04</td><td>0.007230257</td><td>0.0032593511</td><td>Tgfb2/Slit2                   </td><td>2</td></tr>\n",
       "\t<tr><th scope=row>GO:0050680</th><td>GO:0050680</td><td>negative regulation of epithelial cell proliferation                    </td><td>3/17</td><td>190/28943</td><td>1.769362e-04</td><td>0.007230257</td><td>0.0032593511</td><td>Tgfb2/Cdkn1c/Sfrp1            </td><td>3</td></tr>\n",
       "\t<tr><th scope=row>GO:0008045</th><td>GO:0008045</td><td>motor neuron axon guidance                                              </td><td>2/17</td><td>36/28943 </td><td>2.021789e-04</td><td>0.007400047</td><td>0.0033358914</td><td>Alcam/Slit2                   </td><td>2</td></tr>\n",
       "\t<tr><th scope=row>GO:0010719</th><td>GO:0010719</td><td>negative regulation of epithelial to mesenchymal transition             </td><td>2/17</td><td>36/28943 </td><td>2.021789e-04</td><td>0.007400047</td><td>0.0033358914</td><td>Tgfb2/Sfrp1                   </td><td>2</td></tr>\n",
       "\t<tr><th scope=row>GO:0030308</th><td>GO:0030308</td><td>negative regulation of cell growth                                      </td><td>3/17</td><td>200/28943</td><td>2.057855e-04</td><td>0.007400047</td><td>0.0033358914</td><td>Tgfb2/Sfrp1/Slit2             </td><td>3</td></tr>\n",
       "\t<tr><th scope=row>GO:0048771</th><td>GO:0048771</td><td>tissue remodeling                                                       </td><td>3/17</td><td>203/28943</td><td>2.149992e-04</td><td>0.007434012</td><td>0.0033512025</td><td>Eln/Tgfb2/Sfrp1               </td><td>3</td></tr>\n",
       "\t<tr><th scope=row>GO:0071634</th><td>GO:0071634</td><td>regulation of transforming growth factor beta production                </td><td>2/17</td><td>38/28943 </td><td>2.254502e-04</td><td>0.007506657</td><td>0.0033839503</td><td>Tgfb2/Fbln1                   </td><td>2</td></tr>\n",
       "\t<tr><th scope=row>GO:0071604</th><td>GO:0071604</td><td>transforming growth factor beta production                              </td><td>2/17</td><td>40/28943 </td><td>2.499712e-04</td><td>0.008025860</td><td>0.0036180037</td><td>Tgfb2/Fbln1                   </td><td>2</td></tr>\n",
       "\t<tr><th scope=row>GO:0060218</th><td>GO:0060218</td><td>hematopoietic stem cell differentiation                                 </td><td>2/17</td><td>42/28943 </td><td>2.757392e-04</td><td>0.008547915</td><td>0.0038533425</td><td>Chd2/Sfrp1                    </td><td>2</td></tr>\n",
       "\t<tr><th scope=row>GO:0003179</th><td>GO:0003179</td><td>heart valve morphogenesis                                               </td><td>2/17</td><td>47/28943 </td><td>3.455979e-04</td><td>0.010356418</td><td>0.0046686037</td><td>Tgfb2/Slit2                   </td><td>2</td></tr>\n",
       "\t<tr><th scope=row>⋮</th><td>⋮</td><td>⋮</td><td>⋮</td><td>⋮</td><td>⋮</td><td>⋮</td><td>⋮</td><td>⋮</td><td>⋮</td></tr>\n",
       "\t<tr><th scope=row>GO:0042249</th><td>GO:0042249</td><td>establishment of planar polarity of embryonic epithelium</td><td>1/17</td><td>18/28943 </td><td>0.01052296</td><td>0.04526384</td><td>0.02040463</td><td>Sfrp1       </td><td>1</td></tr>\n",
       "\t<tr><th scope=row>GO:0061430</th><td>GO:0061430</td><td>bone trabecula morphogenesis                            </td><td>1/17</td><td>18/28943 </td><td>0.01052296</td><td>0.04526384</td><td>0.02040463</td><td>Sfrp1       </td><td>1</td></tr>\n",
       "\t<tr><th scope=row>GO:1904424</th><td>GO:1904424</td><td>regulation of GTP binding                               </td><td>1/17</td><td>18/28943 </td><td>0.01052296</td><td>0.04526384</td><td>0.02040463</td><td>Tgfb2       </td><td>1</td></tr>\n",
       "\t<tr><th scope=row>GO:0048738</th><td>GO:0048738</td><td>cardiac muscle tissue development                       </td><td>2/17</td><td>271/28943</td><td>0.01082737</td><td>0.04621735</td><td>0.02083447</td><td>Tgfb2/Ncam1 </td><td>2</td></tr>\n",
       "\t<tr><th scope=row>GO:0051258</th><td>GO:0051258</td><td>protein polymerization                                  </td><td>2/17</td><td>274/28943</td><td>0.01105746</td><td>0.04621735</td><td>0.02083447</td><td>Eln/Slit2   </td><td>2</td></tr>\n",
       "\t<tr><th scope=row>GO:0002689</th><td>GO:0002689</td><td>negative regulation of leukocyte chemotaxis             </td><td>1/17</td><td>19/28943 </td><td>0.01110450</td><td>0.04621735</td><td>0.02083447</td><td>Slit2       </td><td>1</td></tr>\n",
       "\t<tr><th scope=row>GO:0015669</th><td>GO:0015669</td><td>gas transport                                           </td><td>1/17</td><td>19/28943 </td><td>0.01110450</td><td>0.04621735</td><td>0.02083447</td><td>Hba-a1      </td><td>1</td></tr>\n",
       "\t<tr><th scope=row>GO:0032570</th><td>GO:0032570</td><td>response to progesterone                                </td><td>1/17</td><td>19/28943 </td><td>0.01110450</td><td>0.04621735</td><td>0.02083447</td><td>Tgfb2       </td><td>1</td></tr>\n",
       "\t<tr><th scope=row>GO:0072537</th><td>GO:0072537</td><td>fibroblast activation                                   </td><td>1/17</td><td>19/28943 </td><td>0.01110450</td><td>0.04621735</td><td>0.02083447</td><td>Acta2       </td><td>1</td></tr>\n",
       "\t<tr><th scope=row>GO:1905209</th><td>GO:1905209</td><td>positive regulation of cardiocyte differentiation       </td><td>1/17</td><td>19/28943 </td><td>0.01110450</td><td>0.04621735</td><td>0.02083447</td><td>Tgfb2       </td><td>1</td></tr>\n",
       "\t<tr><th scope=row>GO:0060560</th><td>GO:0060560</td><td>developmental growth involved in morphogenesis          </td><td>2/17</td><td>278/28943</td><td>0.01136761</td><td>0.04709440</td><td>0.02122984</td><td>Sfrp1/Slit2 </td><td>2</td></tr>\n",
       "\t<tr><th scope=row>GO:0110053</th><td>GO:0110053</td><td>regulation of actin filament organization               </td><td>2/17</td><td>279/28943</td><td>0.01144575</td><td>0.04720061</td><td>0.02127772</td><td>Eln/Slit2   </td><td>2</td></tr>\n",
       "\t<tr><th scope=row>GO:0003214</th><td>GO:0003214</td><td>cardiac left ventricle morphogenesis                    </td><td>1/17</td><td>20/28943 </td><td>0.01168572</td><td>0.04753604</td><td>0.02142893</td><td>Tgfb2       </td><td>1</td></tr>\n",
       "\t<tr><th scope=row>GO:0003215</th><td>GO:0003215</td><td>cardiac right ventricle morphogenesis                   </td><td>1/17</td><td>20/28943 </td><td>0.01168572</td><td>0.04753604</td><td>0.02142893</td><td>Tgfb2       </td><td>1</td></tr>\n",
       "\t<tr><th scope=row>GO:0043116</th><td>GO:0043116</td><td>negative regulation of vascular permeability            </td><td>1/17</td><td>20/28943 </td><td>0.01168572</td><td>0.04753604</td><td>0.02142893</td><td>Slit2       </td><td>1</td></tr>\n",
       "\t<tr><th scope=row>GO:0001502</th><td>GO:0001502</td><td>cartilage condensation                                  </td><td>1/17</td><td>21/28943 </td><td>0.01226662</td><td>0.04836708</td><td>0.02180355</td><td>Tgfb2       </td><td>1</td></tr>\n",
       "\t<tr><th scope=row>GO:0046851</th><td>GO:0046851</td><td>negative regulation of bone remodeling                  </td><td>1/17</td><td>21/28943 </td><td>0.01226662</td><td>0.04836708</td><td>0.02180355</td><td>Sfrp1       </td><td>1</td></tr>\n",
       "\t<tr><th scope=row>GO:0051797</th><td>GO:0051797</td><td>regulation of hair follicle development                 </td><td>1/17</td><td>21/28943 </td><td>0.01226662</td><td>0.04836708</td><td>0.02180355</td><td>Tgfb2       </td><td>1</td></tr>\n",
       "\t<tr><th scope=row>GO:0061469</th><td>GO:0061469</td><td>regulation of type B pancreatic cell proliferation      </td><td>1/17</td><td>21/28943 </td><td>0.01226662</td><td>0.04836708</td><td>0.02180355</td><td>Sfrp1       </td><td>1</td></tr>\n",
       "\t<tr><th scope=row>GO:0070230</th><td>GO:0070230</td><td>positive regulation of lymphocyte apoptotic process     </td><td>1/17</td><td>21/28943 </td><td>0.01226662</td><td>0.04836708</td><td>0.02180355</td><td>Tgfb2       </td><td>1</td></tr>\n",
       "\t<tr><th scope=row>GO:0071676</th><td>GO:0071676</td><td>negative regulation of mononuclear cell migration       </td><td>1/17</td><td>21/28943 </td><td>0.01226662</td><td>0.04836708</td><td>0.02180355</td><td>Slit2       </td><td>1</td></tr>\n",
       "\t<tr><th scope=row>GO:0072378</th><td>GO:0072378</td><td>blood coagulation, fibrin clot formation                </td><td>1/17</td><td>21/28943 </td><td>0.01226662</td><td>0.04836708</td><td>0.02180355</td><td>Fbln1       </td><td>1</td></tr>\n",
       "\t<tr><th scope=row>GO:0014706</th><td>GO:0014706</td><td>striated muscle tissue development                      </td><td>2/17</td><td>291/28943</td><td>0.01240208</td><td>0.04868765</td><td>0.02194807</td><td>Tgfb2/Ncam1 </td><td>2</td></tr>\n",
       "\t<tr><th scope=row>GO:0003180</th><td>GO:0003180</td><td>aortic valve morphogenesis                              </td><td>1/17</td><td>22/28943 </td><td>0.01284720</td><td>0.04953360</td><td>0.02232941</td><td>Slit2       </td><td>1</td></tr>\n",
       "\t<tr><th scope=row>GO:0031290</th><td>GO:0031290</td><td>retinal ganglion cell axon guidance                     </td><td>1/17</td><td>22/28943 </td><td>0.01284720</td><td>0.04953360</td><td>0.02232941</td><td>Slit2       </td><td>1</td></tr>\n",
       "\t<tr><th scope=row>GO:0035634</th><td>GO:0035634</td><td>response to stilbenoid                                  </td><td>1/17</td><td>22/28943 </td><td>0.01284720</td><td>0.04953360</td><td>0.02232941</td><td>Hba-a1      </td><td>1</td></tr>\n",
       "\t<tr><th scope=row>GO:0044851</th><td>GO:0044851</td><td>hair cycle phase                                        </td><td>1/17</td><td>22/28943 </td><td>0.01284720</td><td>0.04953360</td><td>0.02232941</td><td>Tgfb2       </td><td>1</td></tr>\n",
       "\t<tr><th scope=row>GO:0001818</th><td>GO:0001818</td><td>negative regulation of cytokine production              </td><td>2/17</td><td>297/28943</td><td>0.01289306</td><td>0.04953360</td><td>0.02232941</td><td>Tgfb2/Fbln1 </td><td>2</td></tr>\n",
       "\t<tr><th scope=row>GO:0045165</th><td>GO:0045165</td><td>cell fate commitment                                    </td><td>2/17</td><td>298/28943</td><td>0.01297572</td><td>0.04963902</td><td>0.02237693</td><td>Tgfb2/Sfrp1 </td><td>2</td></tr>\n",
       "\t<tr><th scope=row>GO:0071695</th><td>GO:0071695</td><td>anatomical structure maturation                         </td><td>2/17</td><td>299/28943</td><td>0.01305861</td><td>0.04974443</td><td>0.02242446</td><td>Tgfb2/Cdkn1c</td><td>2</td></tr>\n",
       "</tbody>\n",
       "</table>\n"
      ],
      "text/latex": [
       "A data.frame: 236 × 9\n",
       "\\begin{tabular}{r|lllllllll}\n",
       "  & ID & Description & GeneRatio & BgRatio & pvalue & p.adjust & qvalue & geneID & Count\\\\\n",
       "  & <chr> & <chr> & <chr> & <chr> & <dbl> & <dbl> & <dbl> & <chr> & <int>\\\\\n",
       "\\hline\n",
       "\tGO:0010563 & GO:0010563 & negative regulation of phosphorus metabolic process                      & 5/17 & 453/28943 & 4.867574e-06 & 0.002187975 & 0.0009863242 & Tgfb2/Fbln1/Cdkn1c/Sfrp1/Slit2 & 5\\\\\n",
       "\tGO:0045936 & GO:0045936 & negative regulation of phosphate metabolic process                       & 5/17 & 453/28943 & 4.867574e-06 & 0.002187975 & 0.0009863242 & Tgfb2/Fbln1/Cdkn1c/Sfrp1/Slit2 & 5\\\\\n",
       "\tGO:0007411 & GO:0007411 & axon guidance                                                            & 4/17 & 259/28943 & 1.360536e-05 & 0.003104462 & 0.0013994705 & Alcam/Tgfb2/Ncam1/Slit2        & 4\\\\\n",
       "\tGO:0097485 & GO:0097485 & neuron projection guidance                                               & 4/17 & 260/28943 & 1.381296e-05 & 0.003104462 & 0.0013994705 & Alcam/Tgfb2/Ncam1/Slit2        & 4\\\\\n",
       "\tGO:0001822 & GO:0001822 & kidney development                                                       & 4/17 & 334/28943 & 3.681459e-05 & 0.004837483 & 0.0021807049 & Tgfb2/Cdkn1c/Sfrp1/Slit2       & 4\\\\\n",
       "\tGO:0001933 & GO:0001933 & negative regulation of protein phosphorylation                           & 4/17 & 346/28943 & 4.224052e-05 & 0.004837483 & 0.0021807049 & Fbln1/Cdkn1c/Sfrp1/Slit2       & 4\\\\\n",
       "\tGO:0072001 & GO:0072001 & renal system development                                                 & 4/17 & 348/28943 & 4.319880e-05 & 0.004837483 & 0.0021807049 & Tgfb2/Cdkn1c/Sfrp1/Slit2       & 4\\\\\n",
       "\tGO:0003184 & GO:0003184 & pulmonary valve morphogenesis                                            & 2/17 & 17/28943  & 4.393238e-05 & 0.004837483 & 0.0021807049 & Tgfb2/Slit2                    & 2\\\\\n",
       "\tGO:0071514 & GO:0071514 & genomic imprinting                                                       & 2/17 & 19/28943  & 5.520034e-05 & 0.004837483 & 0.0021807049 & Meg3/Cdkn1c                    & 2\\\\\n",
       "\tGO:0007517 & GO:0007517 & muscle organ development                                                 & 4/17 & 371/28943 & 5.540003e-05 & 0.004837483 & 0.0021807049 & Meg3/Eln/Tgfb2/Chd2            & 4\\\\\n",
       "\tGO:0003177 & GO:0003177 & pulmonary valve development                                              & 2/17 & 21/28943  & 6.774307e-05 & 0.004837483 & 0.0021807049 & Tgfb2/Slit2                    & 2\\\\\n",
       "\tGO:0001655 & GO:0001655 & urogenital system development                                            & 4/17 & 391/28943 & 6.791176e-05 & 0.004837483 & 0.0021807049 & Tgfb2/Cdkn1c/Sfrp1/Slit2       & 4\\\\\n",
       "\tGO:0042326 & GO:0042326 & negative regulation of phosphorylation                                   & 4/17 & 394/28943 & 6.995248e-05 & 0.004837483 & 0.0021807049 & Fbln1/Cdkn1c/Sfrp1/Slit2       & 4\\\\\n",
       "\tGO:0007178 & GO:0007178 & transmembrane receptor protein serine/threonine kinase signaling pathway & 4/17 & 407/28943 & 7.931735e-05 & 0.005093307 & 0.0022960285 & Meg3/Tgfb2/Cdkn1c/Sfrp1        & 4\\\\\n",
       "\tGO:0032970 & GO:0032970 & regulation of actin filament-based process                               & 4/17 & 416/28943 & 8.631585e-05 & 0.005173197 & 0.0023320422 & Eln/Tgfb2/Slit2/Acta2          & 4\\\\\n",
       "\tGO:0060065 & GO:0060065 & uterus development                                                       & 2/17 & 26/28943  & 1.046595e-04 & 0.005880557 & 0.0026509158 & Tgfb2/Cdkn1c                   & 2\\\\\n",
       "\tGO:0006929 & GO:0006929 & substrate-dependent cell migration                                       & 2/17 & 30/28943  & 1.398893e-04 & 0.007230257 & 0.0032593511 & Fbln1/Slit2                    & 2\\\\\n",
       "\tGO:0048732 & GO:0048732 & gland development                                                        & 4/17 & 483/28943 & 1.534115e-04 & 0.007230257 & 0.0032593511 & Meg3/Cdkn1c/Sfrp1/Slit2        & 4\\\\\n",
       "\tGO:0007409 & GO:0007409 & axonogenesis                                                             & 4/17 & 493/28943 & 1.659571e-04 & 0.007230257 & 0.0032593511 & Alcam/Tgfb2/Ncam1/Slit2        & 4\\\\\n",
       "\tGO:0060537 & GO:0060537 & muscle tissue development                                                & 4/17 & 494/28943 & 1.672513e-04 & 0.007230257 & 0.0032593511 & Meg3/Eln/Tgfb2/Ncam1           & 4\\\\\n",
       "\tGO:1905314 & GO:1905314 & semi-lunar valve development                                             & 2/17 & 33/28943  & 1.696208e-04 & 0.007230257 & 0.0032593511 & Tgfb2/Slit2                    & 2\\\\\n",
       "\tGO:0050680 & GO:0050680 & negative regulation of epithelial cell proliferation                     & 3/17 & 190/28943 & 1.769362e-04 & 0.007230257 & 0.0032593511 & Tgfb2/Cdkn1c/Sfrp1             & 3\\\\\n",
       "\tGO:0008045 & GO:0008045 & motor neuron axon guidance                                               & 2/17 & 36/28943  & 2.021789e-04 & 0.007400047 & 0.0033358914 & Alcam/Slit2                    & 2\\\\\n",
       "\tGO:0010719 & GO:0010719 & negative regulation of epithelial to mesenchymal transition              & 2/17 & 36/28943  & 2.021789e-04 & 0.007400047 & 0.0033358914 & Tgfb2/Sfrp1                    & 2\\\\\n",
       "\tGO:0030308 & GO:0030308 & negative regulation of cell growth                                       & 3/17 & 200/28943 & 2.057855e-04 & 0.007400047 & 0.0033358914 & Tgfb2/Sfrp1/Slit2              & 3\\\\\n",
       "\tGO:0048771 & GO:0048771 & tissue remodeling                                                        & 3/17 & 203/28943 & 2.149992e-04 & 0.007434012 & 0.0033512025 & Eln/Tgfb2/Sfrp1                & 3\\\\\n",
       "\tGO:0071634 & GO:0071634 & regulation of transforming growth factor beta production                 & 2/17 & 38/28943  & 2.254502e-04 & 0.007506657 & 0.0033839503 & Tgfb2/Fbln1                    & 2\\\\\n",
       "\tGO:0071604 & GO:0071604 & transforming growth factor beta production                               & 2/17 & 40/28943  & 2.499712e-04 & 0.008025860 & 0.0036180037 & Tgfb2/Fbln1                    & 2\\\\\n",
       "\tGO:0060218 & GO:0060218 & hematopoietic stem cell differentiation                                  & 2/17 & 42/28943  & 2.757392e-04 & 0.008547915 & 0.0038533425 & Chd2/Sfrp1                     & 2\\\\\n",
       "\tGO:0003179 & GO:0003179 & heart valve morphogenesis                                                & 2/17 & 47/28943  & 3.455979e-04 & 0.010356418 & 0.0046686037 & Tgfb2/Slit2                    & 2\\\\\n",
       "\t⋮ & ⋮ & ⋮ & ⋮ & ⋮ & ⋮ & ⋮ & ⋮ & ⋮ & ⋮\\\\\n",
       "\tGO:0042249 & GO:0042249 & establishment of planar polarity of embryonic epithelium & 1/17 & 18/28943  & 0.01052296 & 0.04526384 & 0.02040463 & Sfrp1        & 1\\\\\n",
       "\tGO:0061430 & GO:0061430 & bone trabecula morphogenesis                             & 1/17 & 18/28943  & 0.01052296 & 0.04526384 & 0.02040463 & Sfrp1        & 1\\\\\n",
       "\tGO:1904424 & GO:1904424 & regulation of GTP binding                                & 1/17 & 18/28943  & 0.01052296 & 0.04526384 & 0.02040463 & Tgfb2        & 1\\\\\n",
       "\tGO:0048738 & GO:0048738 & cardiac muscle tissue development                        & 2/17 & 271/28943 & 0.01082737 & 0.04621735 & 0.02083447 & Tgfb2/Ncam1  & 2\\\\\n",
       "\tGO:0051258 & GO:0051258 & protein polymerization                                   & 2/17 & 274/28943 & 0.01105746 & 0.04621735 & 0.02083447 & Eln/Slit2    & 2\\\\\n",
       "\tGO:0002689 & GO:0002689 & negative regulation of leukocyte chemotaxis              & 1/17 & 19/28943  & 0.01110450 & 0.04621735 & 0.02083447 & Slit2        & 1\\\\\n",
       "\tGO:0015669 & GO:0015669 & gas transport                                            & 1/17 & 19/28943  & 0.01110450 & 0.04621735 & 0.02083447 & Hba-a1       & 1\\\\\n",
       "\tGO:0032570 & GO:0032570 & response to progesterone                                 & 1/17 & 19/28943  & 0.01110450 & 0.04621735 & 0.02083447 & Tgfb2        & 1\\\\\n",
       "\tGO:0072537 & GO:0072537 & fibroblast activation                                    & 1/17 & 19/28943  & 0.01110450 & 0.04621735 & 0.02083447 & Acta2        & 1\\\\\n",
       "\tGO:1905209 & GO:1905209 & positive regulation of cardiocyte differentiation        & 1/17 & 19/28943  & 0.01110450 & 0.04621735 & 0.02083447 & Tgfb2        & 1\\\\\n",
       "\tGO:0060560 & GO:0060560 & developmental growth involved in morphogenesis           & 2/17 & 278/28943 & 0.01136761 & 0.04709440 & 0.02122984 & Sfrp1/Slit2  & 2\\\\\n",
       "\tGO:0110053 & GO:0110053 & regulation of actin filament organization                & 2/17 & 279/28943 & 0.01144575 & 0.04720061 & 0.02127772 & Eln/Slit2    & 2\\\\\n",
       "\tGO:0003214 & GO:0003214 & cardiac left ventricle morphogenesis                     & 1/17 & 20/28943  & 0.01168572 & 0.04753604 & 0.02142893 & Tgfb2        & 1\\\\\n",
       "\tGO:0003215 & GO:0003215 & cardiac right ventricle morphogenesis                    & 1/17 & 20/28943  & 0.01168572 & 0.04753604 & 0.02142893 & Tgfb2        & 1\\\\\n",
       "\tGO:0043116 & GO:0043116 & negative regulation of vascular permeability             & 1/17 & 20/28943  & 0.01168572 & 0.04753604 & 0.02142893 & Slit2        & 1\\\\\n",
       "\tGO:0001502 & GO:0001502 & cartilage condensation                                   & 1/17 & 21/28943  & 0.01226662 & 0.04836708 & 0.02180355 & Tgfb2        & 1\\\\\n",
       "\tGO:0046851 & GO:0046851 & negative regulation of bone remodeling                   & 1/17 & 21/28943  & 0.01226662 & 0.04836708 & 0.02180355 & Sfrp1        & 1\\\\\n",
       "\tGO:0051797 & GO:0051797 & regulation of hair follicle development                  & 1/17 & 21/28943  & 0.01226662 & 0.04836708 & 0.02180355 & Tgfb2        & 1\\\\\n",
       "\tGO:0061469 & GO:0061469 & regulation of type B pancreatic cell proliferation       & 1/17 & 21/28943  & 0.01226662 & 0.04836708 & 0.02180355 & Sfrp1        & 1\\\\\n",
       "\tGO:0070230 & GO:0070230 & positive regulation of lymphocyte apoptotic process      & 1/17 & 21/28943  & 0.01226662 & 0.04836708 & 0.02180355 & Tgfb2        & 1\\\\\n",
       "\tGO:0071676 & GO:0071676 & negative regulation of mononuclear cell migration        & 1/17 & 21/28943  & 0.01226662 & 0.04836708 & 0.02180355 & Slit2        & 1\\\\\n",
       "\tGO:0072378 & GO:0072378 & blood coagulation, fibrin clot formation                 & 1/17 & 21/28943  & 0.01226662 & 0.04836708 & 0.02180355 & Fbln1        & 1\\\\\n",
       "\tGO:0014706 & GO:0014706 & striated muscle tissue development                       & 2/17 & 291/28943 & 0.01240208 & 0.04868765 & 0.02194807 & Tgfb2/Ncam1  & 2\\\\\n",
       "\tGO:0003180 & GO:0003180 & aortic valve morphogenesis                               & 1/17 & 22/28943  & 0.01284720 & 0.04953360 & 0.02232941 & Slit2        & 1\\\\\n",
       "\tGO:0031290 & GO:0031290 & retinal ganglion cell axon guidance                      & 1/17 & 22/28943  & 0.01284720 & 0.04953360 & 0.02232941 & Slit2        & 1\\\\\n",
       "\tGO:0035634 & GO:0035634 & response to stilbenoid                                   & 1/17 & 22/28943  & 0.01284720 & 0.04953360 & 0.02232941 & Hba-a1       & 1\\\\\n",
       "\tGO:0044851 & GO:0044851 & hair cycle phase                                         & 1/17 & 22/28943  & 0.01284720 & 0.04953360 & 0.02232941 & Tgfb2        & 1\\\\\n",
       "\tGO:0001818 & GO:0001818 & negative regulation of cytokine production               & 2/17 & 297/28943 & 0.01289306 & 0.04953360 & 0.02232941 & Tgfb2/Fbln1  & 2\\\\\n",
       "\tGO:0045165 & GO:0045165 & cell fate commitment                                     & 2/17 & 298/28943 & 0.01297572 & 0.04963902 & 0.02237693 & Tgfb2/Sfrp1  & 2\\\\\n",
       "\tGO:0071695 & GO:0071695 & anatomical structure maturation                          & 2/17 & 299/28943 & 0.01305861 & 0.04974443 & 0.02242446 & Tgfb2/Cdkn1c & 2\\\\\n",
       "\\end{tabular}\n"
      ],
      "text/markdown": [
       "\n",
       "A data.frame: 236 × 9\n",
       "\n",
       "| <!--/--> | ID &lt;chr&gt; | Description &lt;chr&gt; | GeneRatio &lt;chr&gt; | BgRatio &lt;chr&gt; | pvalue &lt;dbl&gt; | p.adjust &lt;dbl&gt; | qvalue &lt;dbl&gt; | geneID &lt;chr&gt; | Count &lt;int&gt; |\n",
       "|---|---|---|---|---|---|---|---|---|---|\n",
       "| GO:0010563 | GO:0010563 | negative regulation of phosphorus metabolic process                      | 5/17 | 453/28943 | 4.867574e-06 | 0.002187975 | 0.0009863242 | Tgfb2/Fbln1/Cdkn1c/Sfrp1/Slit2 | 5 |\n",
       "| GO:0045936 | GO:0045936 | negative regulation of phosphate metabolic process                       | 5/17 | 453/28943 | 4.867574e-06 | 0.002187975 | 0.0009863242 | Tgfb2/Fbln1/Cdkn1c/Sfrp1/Slit2 | 5 |\n",
       "| GO:0007411 | GO:0007411 | axon guidance                                                            | 4/17 | 259/28943 | 1.360536e-05 | 0.003104462 | 0.0013994705 | Alcam/Tgfb2/Ncam1/Slit2        | 4 |\n",
       "| GO:0097485 | GO:0097485 | neuron projection guidance                                               | 4/17 | 260/28943 | 1.381296e-05 | 0.003104462 | 0.0013994705 | Alcam/Tgfb2/Ncam1/Slit2        | 4 |\n",
       "| GO:0001822 | GO:0001822 | kidney development                                                       | 4/17 | 334/28943 | 3.681459e-05 | 0.004837483 | 0.0021807049 | Tgfb2/Cdkn1c/Sfrp1/Slit2       | 4 |\n",
       "| GO:0001933 | GO:0001933 | negative regulation of protein phosphorylation                           | 4/17 | 346/28943 | 4.224052e-05 | 0.004837483 | 0.0021807049 | Fbln1/Cdkn1c/Sfrp1/Slit2       | 4 |\n",
       "| GO:0072001 | GO:0072001 | renal system development                                                 | 4/17 | 348/28943 | 4.319880e-05 | 0.004837483 | 0.0021807049 | Tgfb2/Cdkn1c/Sfrp1/Slit2       | 4 |\n",
       "| GO:0003184 | GO:0003184 | pulmonary valve morphogenesis                                            | 2/17 | 17/28943  | 4.393238e-05 | 0.004837483 | 0.0021807049 | Tgfb2/Slit2                    | 2 |\n",
       "| GO:0071514 | GO:0071514 | genomic imprinting                                                       | 2/17 | 19/28943  | 5.520034e-05 | 0.004837483 | 0.0021807049 | Meg3/Cdkn1c                    | 2 |\n",
       "| GO:0007517 | GO:0007517 | muscle organ development                                                 | 4/17 | 371/28943 | 5.540003e-05 | 0.004837483 | 0.0021807049 | Meg3/Eln/Tgfb2/Chd2            | 4 |\n",
       "| GO:0003177 | GO:0003177 | pulmonary valve development                                              | 2/17 | 21/28943  | 6.774307e-05 | 0.004837483 | 0.0021807049 | Tgfb2/Slit2                    | 2 |\n",
       "| GO:0001655 | GO:0001655 | urogenital system development                                            | 4/17 | 391/28943 | 6.791176e-05 | 0.004837483 | 0.0021807049 | Tgfb2/Cdkn1c/Sfrp1/Slit2       | 4 |\n",
       "| GO:0042326 | GO:0042326 | negative regulation of phosphorylation                                   | 4/17 | 394/28943 | 6.995248e-05 | 0.004837483 | 0.0021807049 | Fbln1/Cdkn1c/Sfrp1/Slit2       | 4 |\n",
       "| GO:0007178 | GO:0007178 | transmembrane receptor protein serine/threonine kinase signaling pathway | 4/17 | 407/28943 | 7.931735e-05 | 0.005093307 | 0.0022960285 | Meg3/Tgfb2/Cdkn1c/Sfrp1        | 4 |\n",
       "| GO:0032970 | GO:0032970 | regulation of actin filament-based process                               | 4/17 | 416/28943 | 8.631585e-05 | 0.005173197 | 0.0023320422 | Eln/Tgfb2/Slit2/Acta2          | 4 |\n",
       "| GO:0060065 | GO:0060065 | uterus development                                                       | 2/17 | 26/28943  | 1.046595e-04 | 0.005880557 | 0.0026509158 | Tgfb2/Cdkn1c                   | 2 |\n",
       "| GO:0006929 | GO:0006929 | substrate-dependent cell migration                                       | 2/17 | 30/28943  | 1.398893e-04 | 0.007230257 | 0.0032593511 | Fbln1/Slit2                    | 2 |\n",
       "| GO:0048732 | GO:0048732 | gland development                                                        | 4/17 | 483/28943 | 1.534115e-04 | 0.007230257 | 0.0032593511 | Meg3/Cdkn1c/Sfrp1/Slit2        | 4 |\n",
       "| GO:0007409 | GO:0007409 | axonogenesis                                                             | 4/17 | 493/28943 | 1.659571e-04 | 0.007230257 | 0.0032593511 | Alcam/Tgfb2/Ncam1/Slit2        | 4 |\n",
       "| GO:0060537 | GO:0060537 | muscle tissue development                                                | 4/17 | 494/28943 | 1.672513e-04 | 0.007230257 | 0.0032593511 | Meg3/Eln/Tgfb2/Ncam1           | 4 |\n",
       "| GO:1905314 | GO:1905314 | semi-lunar valve development                                             | 2/17 | 33/28943  | 1.696208e-04 | 0.007230257 | 0.0032593511 | Tgfb2/Slit2                    | 2 |\n",
       "| GO:0050680 | GO:0050680 | negative regulation of epithelial cell proliferation                     | 3/17 | 190/28943 | 1.769362e-04 | 0.007230257 | 0.0032593511 | Tgfb2/Cdkn1c/Sfrp1             | 3 |\n",
       "| GO:0008045 | GO:0008045 | motor neuron axon guidance                                               | 2/17 | 36/28943  | 2.021789e-04 | 0.007400047 | 0.0033358914 | Alcam/Slit2                    | 2 |\n",
       "| GO:0010719 | GO:0010719 | negative regulation of epithelial to mesenchymal transition              | 2/17 | 36/28943  | 2.021789e-04 | 0.007400047 | 0.0033358914 | Tgfb2/Sfrp1                    | 2 |\n",
       "| GO:0030308 | GO:0030308 | negative regulation of cell growth                                       | 3/17 | 200/28943 | 2.057855e-04 | 0.007400047 | 0.0033358914 | Tgfb2/Sfrp1/Slit2              | 3 |\n",
       "| GO:0048771 | GO:0048771 | tissue remodeling                                                        | 3/17 | 203/28943 | 2.149992e-04 | 0.007434012 | 0.0033512025 | Eln/Tgfb2/Sfrp1                | 3 |\n",
       "| GO:0071634 | GO:0071634 | regulation of transforming growth factor beta production                 | 2/17 | 38/28943  | 2.254502e-04 | 0.007506657 | 0.0033839503 | Tgfb2/Fbln1                    | 2 |\n",
       "| GO:0071604 | GO:0071604 | transforming growth factor beta production                               | 2/17 | 40/28943  | 2.499712e-04 | 0.008025860 | 0.0036180037 | Tgfb2/Fbln1                    | 2 |\n",
       "| GO:0060218 | GO:0060218 | hematopoietic stem cell differentiation                                  | 2/17 | 42/28943  | 2.757392e-04 | 0.008547915 | 0.0038533425 | Chd2/Sfrp1                     | 2 |\n",
       "| GO:0003179 | GO:0003179 | heart valve morphogenesis                                                | 2/17 | 47/28943  | 3.455979e-04 | 0.010356418 | 0.0046686037 | Tgfb2/Slit2                    | 2 |\n",
       "| ⋮ | ⋮ | ⋮ | ⋮ | ⋮ | ⋮ | ⋮ | ⋮ | ⋮ | ⋮ |\n",
       "| GO:0042249 | GO:0042249 | establishment of planar polarity of embryonic epithelium | 1/17 | 18/28943  | 0.01052296 | 0.04526384 | 0.02040463 | Sfrp1        | 1 |\n",
       "| GO:0061430 | GO:0061430 | bone trabecula morphogenesis                             | 1/17 | 18/28943  | 0.01052296 | 0.04526384 | 0.02040463 | Sfrp1        | 1 |\n",
       "| GO:1904424 | GO:1904424 | regulation of GTP binding                                | 1/17 | 18/28943  | 0.01052296 | 0.04526384 | 0.02040463 | Tgfb2        | 1 |\n",
       "| GO:0048738 | GO:0048738 | cardiac muscle tissue development                        | 2/17 | 271/28943 | 0.01082737 | 0.04621735 | 0.02083447 | Tgfb2/Ncam1  | 2 |\n",
       "| GO:0051258 | GO:0051258 | protein polymerization                                   | 2/17 | 274/28943 | 0.01105746 | 0.04621735 | 0.02083447 | Eln/Slit2    | 2 |\n",
       "| GO:0002689 | GO:0002689 | negative regulation of leukocyte chemotaxis              | 1/17 | 19/28943  | 0.01110450 | 0.04621735 | 0.02083447 | Slit2        | 1 |\n",
       "| GO:0015669 | GO:0015669 | gas transport                                            | 1/17 | 19/28943  | 0.01110450 | 0.04621735 | 0.02083447 | Hba-a1       | 1 |\n",
       "| GO:0032570 | GO:0032570 | response to progesterone                                 | 1/17 | 19/28943  | 0.01110450 | 0.04621735 | 0.02083447 | Tgfb2        | 1 |\n",
       "| GO:0072537 | GO:0072537 | fibroblast activation                                    | 1/17 | 19/28943  | 0.01110450 | 0.04621735 | 0.02083447 | Acta2        | 1 |\n",
       "| GO:1905209 | GO:1905209 | positive regulation of cardiocyte differentiation        | 1/17 | 19/28943  | 0.01110450 | 0.04621735 | 0.02083447 | Tgfb2        | 1 |\n",
       "| GO:0060560 | GO:0060560 | developmental growth involved in morphogenesis           | 2/17 | 278/28943 | 0.01136761 | 0.04709440 | 0.02122984 | Sfrp1/Slit2  | 2 |\n",
       "| GO:0110053 | GO:0110053 | regulation of actin filament organization                | 2/17 | 279/28943 | 0.01144575 | 0.04720061 | 0.02127772 | Eln/Slit2    | 2 |\n",
       "| GO:0003214 | GO:0003214 | cardiac left ventricle morphogenesis                     | 1/17 | 20/28943  | 0.01168572 | 0.04753604 | 0.02142893 | Tgfb2        | 1 |\n",
       "| GO:0003215 | GO:0003215 | cardiac right ventricle morphogenesis                    | 1/17 | 20/28943  | 0.01168572 | 0.04753604 | 0.02142893 | Tgfb2        | 1 |\n",
       "| GO:0043116 | GO:0043116 | negative regulation of vascular permeability             | 1/17 | 20/28943  | 0.01168572 | 0.04753604 | 0.02142893 | Slit2        | 1 |\n",
       "| GO:0001502 | GO:0001502 | cartilage condensation                                   | 1/17 | 21/28943  | 0.01226662 | 0.04836708 | 0.02180355 | Tgfb2        | 1 |\n",
       "| GO:0046851 | GO:0046851 | negative regulation of bone remodeling                   | 1/17 | 21/28943  | 0.01226662 | 0.04836708 | 0.02180355 | Sfrp1        | 1 |\n",
       "| GO:0051797 | GO:0051797 | regulation of hair follicle development                  | 1/17 | 21/28943  | 0.01226662 | 0.04836708 | 0.02180355 | Tgfb2        | 1 |\n",
       "| GO:0061469 | GO:0061469 | regulation of type B pancreatic cell proliferation       | 1/17 | 21/28943  | 0.01226662 | 0.04836708 | 0.02180355 | Sfrp1        | 1 |\n",
       "| GO:0070230 | GO:0070230 | positive regulation of lymphocyte apoptotic process      | 1/17 | 21/28943  | 0.01226662 | 0.04836708 | 0.02180355 | Tgfb2        | 1 |\n",
       "| GO:0071676 | GO:0071676 | negative regulation of mononuclear cell migration        | 1/17 | 21/28943  | 0.01226662 | 0.04836708 | 0.02180355 | Slit2        | 1 |\n",
       "| GO:0072378 | GO:0072378 | blood coagulation, fibrin clot formation                 | 1/17 | 21/28943  | 0.01226662 | 0.04836708 | 0.02180355 | Fbln1        | 1 |\n",
       "| GO:0014706 | GO:0014706 | striated muscle tissue development                       | 2/17 | 291/28943 | 0.01240208 | 0.04868765 | 0.02194807 | Tgfb2/Ncam1  | 2 |\n",
       "| GO:0003180 | GO:0003180 | aortic valve morphogenesis                               | 1/17 | 22/28943  | 0.01284720 | 0.04953360 | 0.02232941 | Slit2        | 1 |\n",
       "| GO:0031290 | GO:0031290 | retinal ganglion cell axon guidance                      | 1/17 | 22/28943  | 0.01284720 | 0.04953360 | 0.02232941 | Slit2        | 1 |\n",
       "| GO:0035634 | GO:0035634 | response to stilbenoid                                   | 1/17 | 22/28943  | 0.01284720 | 0.04953360 | 0.02232941 | Hba-a1       | 1 |\n",
       "| GO:0044851 | GO:0044851 | hair cycle phase                                         | 1/17 | 22/28943  | 0.01284720 | 0.04953360 | 0.02232941 | Tgfb2        | 1 |\n",
       "| GO:0001818 | GO:0001818 | negative regulation of cytokine production               | 2/17 | 297/28943 | 0.01289306 | 0.04953360 | 0.02232941 | Tgfb2/Fbln1  | 2 |\n",
       "| GO:0045165 | GO:0045165 | cell fate commitment                                     | 2/17 | 298/28943 | 0.01297572 | 0.04963902 | 0.02237693 | Tgfb2/Sfrp1  | 2 |\n",
       "| GO:0071695 | GO:0071695 | anatomical structure maturation                          | 2/17 | 299/28943 | 0.01305861 | 0.04974443 | 0.02242446 | Tgfb2/Cdkn1c | 2 |\n",
       "\n"
      ],
      "text/plain": [
       "           ID        \n",
       "GO:0010563 GO:0010563\n",
       "GO:0045936 GO:0045936\n",
       "GO:0007411 GO:0007411\n",
       "GO:0097485 GO:0097485\n",
       "GO:0001822 GO:0001822\n",
       "GO:0001933 GO:0001933\n",
       "GO:0072001 GO:0072001\n",
       "GO:0003184 GO:0003184\n",
       "GO:0071514 GO:0071514\n",
       "GO:0007517 GO:0007517\n",
       "GO:0003177 GO:0003177\n",
       "GO:0001655 GO:0001655\n",
       "GO:0042326 GO:0042326\n",
       "GO:0007178 GO:0007178\n",
       "GO:0032970 GO:0032970\n",
       "GO:0060065 GO:0060065\n",
       "GO:0006929 GO:0006929\n",
       "GO:0048732 GO:0048732\n",
       "GO:0007409 GO:0007409\n",
       "GO:0060537 GO:0060537\n",
       "GO:1905314 GO:1905314\n",
       "GO:0050680 GO:0050680\n",
       "GO:0008045 GO:0008045\n",
       "GO:0010719 GO:0010719\n",
       "GO:0030308 GO:0030308\n",
       "GO:0048771 GO:0048771\n",
       "GO:0071634 GO:0071634\n",
       "GO:0071604 GO:0071604\n",
       "GO:0060218 GO:0060218\n",
       "GO:0003179 GO:0003179\n",
       "⋮          ⋮         \n",
       "GO:0042249 GO:0042249\n",
       "GO:0061430 GO:0061430\n",
       "GO:1904424 GO:1904424\n",
       "GO:0048738 GO:0048738\n",
       "GO:0051258 GO:0051258\n",
       "GO:0002689 GO:0002689\n",
       "GO:0015669 GO:0015669\n",
       "GO:0032570 GO:0032570\n",
       "GO:0072537 GO:0072537\n",
       "GO:1905209 GO:1905209\n",
       "GO:0060560 GO:0060560\n",
       "GO:0110053 GO:0110053\n",
       "GO:0003214 GO:0003214\n",
       "GO:0003215 GO:0003215\n",
       "GO:0043116 GO:0043116\n",
       "GO:0001502 GO:0001502\n",
       "GO:0046851 GO:0046851\n",
       "GO:0051797 GO:0051797\n",
       "GO:0061469 GO:0061469\n",
       "GO:0070230 GO:0070230\n",
       "GO:0071676 GO:0071676\n",
       "GO:0072378 GO:0072378\n",
       "GO:0014706 GO:0014706\n",
       "GO:0003180 GO:0003180\n",
       "GO:0031290 GO:0031290\n",
       "GO:0035634 GO:0035634\n",
       "GO:0044851 GO:0044851\n",
       "GO:0001818 GO:0001818\n",
       "GO:0045165 GO:0045165\n",
       "GO:0071695 GO:0071695\n",
       "           Description                                                             \n",
       "GO:0010563 negative regulation of phosphorus metabolic process                     \n",
       "GO:0045936 negative regulation of phosphate metabolic process                      \n",
       "GO:0007411 axon guidance                                                           \n",
       "GO:0097485 neuron projection guidance                                              \n",
       "GO:0001822 kidney development                                                      \n",
       "GO:0001933 negative regulation of protein phosphorylation                          \n",
       "GO:0072001 renal system development                                                \n",
       "GO:0003184 pulmonary valve morphogenesis                                           \n",
       "GO:0071514 genomic imprinting                                                      \n",
       "GO:0007517 muscle organ development                                                \n",
       "GO:0003177 pulmonary valve development                                             \n",
       "GO:0001655 urogenital system development                                           \n",
       "GO:0042326 negative regulation of phosphorylation                                  \n",
       "GO:0007178 transmembrane receptor protein serine/threonine kinase signaling pathway\n",
       "GO:0032970 regulation of actin filament-based process                              \n",
       "GO:0060065 uterus development                                                      \n",
       "GO:0006929 substrate-dependent cell migration                                      \n",
       "GO:0048732 gland development                                                       \n",
       "GO:0007409 axonogenesis                                                            \n",
       "GO:0060537 muscle tissue development                                               \n",
       "GO:1905314 semi-lunar valve development                                            \n",
       "GO:0050680 negative regulation of epithelial cell proliferation                    \n",
       "GO:0008045 motor neuron axon guidance                                              \n",
       "GO:0010719 negative regulation of epithelial to mesenchymal transition             \n",
       "GO:0030308 negative regulation of cell growth                                      \n",
       "GO:0048771 tissue remodeling                                                       \n",
       "GO:0071634 regulation of transforming growth factor beta production                \n",
       "GO:0071604 transforming growth factor beta production                              \n",
       "GO:0060218 hematopoietic stem cell differentiation                                 \n",
       "GO:0003179 heart valve morphogenesis                                               \n",
       "⋮          ⋮                                                                       \n",
       "GO:0042249 establishment of planar polarity of embryonic epithelium                \n",
       "GO:0061430 bone trabecula morphogenesis                                            \n",
       "GO:1904424 regulation of GTP binding                                               \n",
       "GO:0048738 cardiac muscle tissue development                                       \n",
       "GO:0051258 protein polymerization                                                  \n",
       "GO:0002689 negative regulation of leukocyte chemotaxis                             \n",
       "GO:0015669 gas transport                                                           \n",
       "GO:0032570 response to progesterone                                                \n",
       "GO:0072537 fibroblast activation                                                   \n",
       "GO:1905209 positive regulation of cardiocyte differentiation                       \n",
       "GO:0060560 developmental growth involved in morphogenesis                          \n",
       "GO:0110053 regulation of actin filament organization                               \n",
       "GO:0003214 cardiac left ventricle morphogenesis                                    \n",
       "GO:0003215 cardiac right ventricle morphogenesis                                   \n",
       "GO:0043116 negative regulation of vascular permeability                            \n",
       "GO:0001502 cartilage condensation                                                  \n",
       "GO:0046851 negative regulation of bone remodeling                                  \n",
       "GO:0051797 regulation of hair follicle development                                 \n",
       "GO:0061469 regulation of type B pancreatic cell proliferation                      \n",
       "GO:0070230 positive regulation of lymphocyte apoptotic process                     \n",
       "GO:0071676 negative regulation of mononuclear cell migration                       \n",
       "GO:0072378 blood coagulation, fibrin clot formation                                \n",
       "GO:0014706 striated muscle tissue development                                      \n",
       "GO:0003180 aortic valve morphogenesis                                              \n",
       "GO:0031290 retinal ganglion cell axon guidance                                     \n",
       "GO:0035634 response to stilbenoid                                                  \n",
       "GO:0044851 hair cycle phase                                                        \n",
       "GO:0001818 negative regulation of cytokine production                              \n",
       "GO:0045165 cell fate commitment                                                    \n",
       "GO:0071695 anatomical structure maturation                                         \n",
       "           GeneRatio BgRatio   pvalue       p.adjust    qvalue      \n",
       "GO:0010563 5/17      453/28943 4.867574e-06 0.002187975 0.0009863242\n",
       "GO:0045936 5/17      453/28943 4.867574e-06 0.002187975 0.0009863242\n",
       "GO:0007411 4/17      259/28943 1.360536e-05 0.003104462 0.0013994705\n",
       "GO:0097485 4/17      260/28943 1.381296e-05 0.003104462 0.0013994705\n",
       "GO:0001822 4/17      334/28943 3.681459e-05 0.004837483 0.0021807049\n",
       "GO:0001933 4/17      346/28943 4.224052e-05 0.004837483 0.0021807049\n",
       "GO:0072001 4/17      348/28943 4.319880e-05 0.004837483 0.0021807049\n",
       "GO:0003184 2/17      17/28943  4.393238e-05 0.004837483 0.0021807049\n",
       "GO:0071514 2/17      19/28943  5.520034e-05 0.004837483 0.0021807049\n",
       "GO:0007517 4/17      371/28943 5.540003e-05 0.004837483 0.0021807049\n",
       "GO:0003177 2/17      21/28943  6.774307e-05 0.004837483 0.0021807049\n",
       "GO:0001655 4/17      391/28943 6.791176e-05 0.004837483 0.0021807049\n",
       "GO:0042326 4/17      394/28943 6.995248e-05 0.004837483 0.0021807049\n",
       "GO:0007178 4/17      407/28943 7.931735e-05 0.005093307 0.0022960285\n",
       "GO:0032970 4/17      416/28943 8.631585e-05 0.005173197 0.0023320422\n",
       "GO:0060065 2/17      26/28943  1.046595e-04 0.005880557 0.0026509158\n",
       "GO:0006929 2/17      30/28943  1.398893e-04 0.007230257 0.0032593511\n",
       "GO:0048732 4/17      483/28943 1.534115e-04 0.007230257 0.0032593511\n",
       "GO:0007409 4/17      493/28943 1.659571e-04 0.007230257 0.0032593511\n",
       "GO:0060537 4/17      494/28943 1.672513e-04 0.007230257 0.0032593511\n",
       "GO:1905314 2/17      33/28943  1.696208e-04 0.007230257 0.0032593511\n",
       "GO:0050680 3/17      190/28943 1.769362e-04 0.007230257 0.0032593511\n",
       "GO:0008045 2/17      36/28943  2.021789e-04 0.007400047 0.0033358914\n",
       "GO:0010719 2/17      36/28943  2.021789e-04 0.007400047 0.0033358914\n",
       "GO:0030308 3/17      200/28943 2.057855e-04 0.007400047 0.0033358914\n",
       "GO:0048771 3/17      203/28943 2.149992e-04 0.007434012 0.0033512025\n",
       "GO:0071634 2/17      38/28943  2.254502e-04 0.007506657 0.0033839503\n",
       "GO:0071604 2/17      40/28943  2.499712e-04 0.008025860 0.0036180037\n",
       "GO:0060218 2/17      42/28943  2.757392e-04 0.008547915 0.0038533425\n",
       "GO:0003179 2/17      47/28943  3.455979e-04 0.010356418 0.0046686037\n",
       "⋮          ⋮         ⋮         ⋮            ⋮           ⋮           \n",
       "GO:0042249 1/17      18/28943  0.01052296   0.04526384  0.02040463  \n",
       "GO:0061430 1/17      18/28943  0.01052296   0.04526384  0.02040463  \n",
       "GO:1904424 1/17      18/28943  0.01052296   0.04526384  0.02040463  \n",
       "GO:0048738 2/17      271/28943 0.01082737   0.04621735  0.02083447  \n",
       "GO:0051258 2/17      274/28943 0.01105746   0.04621735  0.02083447  \n",
       "GO:0002689 1/17      19/28943  0.01110450   0.04621735  0.02083447  \n",
       "GO:0015669 1/17      19/28943  0.01110450   0.04621735  0.02083447  \n",
       "GO:0032570 1/17      19/28943  0.01110450   0.04621735  0.02083447  \n",
       "GO:0072537 1/17      19/28943  0.01110450   0.04621735  0.02083447  \n",
       "GO:1905209 1/17      19/28943  0.01110450   0.04621735  0.02083447  \n",
       "GO:0060560 2/17      278/28943 0.01136761   0.04709440  0.02122984  \n",
       "GO:0110053 2/17      279/28943 0.01144575   0.04720061  0.02127772  \n",
       "GO:0003214 1/17      20/28943  0.01168572   0.04753604  0.02142893  \n",
       "GO:0003215 1/17      20/28943  0.01168572   0.04753604  0.02142893  \n",
       "GO:0043116 1/17      20/28943  0.01168572   0.04753604  0.02142893  \n",
       "GO:0001502 1/17      21/28943  0.01226662   0.04836708  0.02180355  \n",
       "GO:0046851 1/17      21/28943  0.01226662   0.04836708  0.02180355  \n",
       "GO:0051797 1/17      21/28943  0.01226662   0.04836708  0.02180355  \n",
       "GO:0061469 1/17      21/28943  0.01226662   0.04836708  0.02180355  \n",
       "GO:0070230 1/17      21/28943  0.01226662   0.04836708  0.02180355  \n",
       "GO:0071676 1/17      21/28943  0.01226662   0.04836708  0.02180355  \n",
       "GO:0072378 1/17      21/28943  0.01226662   0.04836708  0.02180355  \n",
       "GO:0014706 2/17      291/28943 0.01240208   0.04868765  0.02194807  \n",
       "GO:0003180 1/17      22/28943  0.01284720   0.04953360  0.02232941  \n",
       "GO:0031290 1/17      22/28943  0.01284720   0.04953360  0.02232941  \n",
       "GO:0035634 1/17      22/28943  0.01284720   0.04953360  0.02232941  \n",
       "GO:0044851 1/17      22/28943  0.01284720   0.04953360  0.02232941  \n",
       "GO:0001818 2/17      297/28943 0.01289306   0.04953360  0.02232941  \n",
       "GO:0045165 2/17      298/28943 0.01297572   0.04963902  0.02237693  \n",
       "GO:0071695 2/17      299/28943 0.01305861   0.04974443  0.02242446  \n",
       "           geneID                         Count\n",
       "GO:0010563 Tgfb2/Fbln1/Cdkn1c/Sfrp1/Slit2 5    \n",
       "GO:0045936 Tgfb2/Fbln1/Cdkn1c/Sfrp1/Slit2 5    \n",
       "GO:0007411 Alcam/Tgfb2/Ncam1/Slit2        4    \n",
       "GO:0097485 Alcam/Tgfb2/Ncam1/Slit2        4    \n",
       "GO:0001822 Tgfb2/Cdkn1c/Sfrp1/Slit2       4    \n",
       "GO:0001933 Fbln1/Cdkn1c/Sfrp1/Slit2       4    \n",
       "GO:0072001 Tgfb2/Cdkn1c/Sfrp1/Slit2       4    \n",
       "GO:0003184 Tgfb2/Slit2                    2    \n",
       "GO:0071514 Meg3/Cdkn1c                    2    \n",
       "GO:0007517 Meg3/Eln/Tgfb2/Chd2            4    \n",
       "GO:0003177 Tgfb2/Slit2                    2    \n",
       "GO:0001655 Tgfb2/Cdkn1c/Sfrp1/Slit2       4    \n",
       "GO:0042326 Fbln1/Cdkn1c/Sfrp1/Slit2       4    \n",
       "GO:0007178 Meg3/Tgfb2/Cdkn1c/Sfrp1        4    \n",
       "GO:0032970 Eln/Tgfb2/Slit2/Acta2          4    \n",
       "GO:0060065 Tgfb2/Cdkn1c                   2    \n",
       "GO:0006929 Fbln1/Slit2                    2    \n",
       "GO:0048732 Meg3/Cdkn1c/Sfrp1/Slit2        4    \n",
       "GO:0007409 Alcam/Tgfb2/Ncam1/Slit2        4    \n",
       "GO:0060537 Meg3/Eln/Tgfb2/Ncam1           4    \n",
       "GO:1905314 Tgfb2/Slit2                    2    \n",
       "GO:0050680 Tgfb2/Cdkn1c/Sfrp1             3    \n",
       "GO:0008045 Alcam/Slit2                    2    \n",
       "GO:0010719 Tgfb2/Sfrp1                    2    \n",
       "GO:0030308 Tgfb2/Sfrp1/Slit2              3    \n",
       "GO:0048771 Eln/Tgfb2/Sfrp1                3    \n",
       "GO:0071634 Tgfb2/Fbln1                    2    \n",
       "GO:0071604 Tgfb2/Fbln1                    2    \n",
       "GO:0060218 Chd2/Sfrp1                     2    \n",
       "GO:0003179 Tgfb2/Slit2                    2    \n",
       "⋮          ⋮                              ⋮    \n",
       "GO:0042249 Sfrp1                          1    \n",
       "GO:0061430 Sfrp1                          1    \n",
       "GO:1904424 Tgfb2                          1    \n",
       "GO:0048738 Tgfb2/Ncam1                    2    \n",
       "GO:0051258 Eln/Slit2                      2    \n",
       "GO:0002689 Slit2                          1    \n",
       "GO:0015669 Hba-a1                         1    \n",
       "GO:0032570 Tgfb2                          1    \n",
       "GO:0072537 Acta2                          1    \n",
       "GO:1905209 Tgfb2                          1    \n",
       "GO:0060560 Sfrp1/Slit2                    2    \n",
       "GO:0110053 Eln/Slit2                      2    \n",
       "GO:0003214 Tgfb2                          1    \n",
       "GO:0003215 Tgfb2                          1    \n",
       "GO:0043116 Slit2                          1    \n",
       "GO:0001502 Tgfb2                          1    \n",
       "GO:0046851 Sfrp1                          1    \n",
       "GO:0051797 Tgfb2                          1    \n",
       "GO:0061469 Sfrp1                          1    \n",
       "GO:0070230 Tgfb2                          1    \n",
       "GO:0071676 Slit2                          1    \n",
       "GO:0072378 Fbln1                          1    \n",
       "GO:0014706 Tgfb2/Ncam1                    2    \n",
       "GO:0003180 Slit2                          1    \n",
       "GO:0031290 Slit2                          1    \n",
       "GO:0035634 Hba-a1                         1    \n",
       "GO:0044851 Tgfb2                          1    \n",
       "GO:0001818 Tgfb2/Fbln1                    2    \n",
       "GO:0045165 Tgfb2/Sfrp1                    2    \n",
       "GO:0071695 Tgfb2/Cdkn1c                   2    "
      ]
     },
     "metadata": {},
     "output_type": "display_data"
    }
   ],
   "source": [
    "#BP MF CC\n",
    "GO_results <- enrichGO(gene = TF.hits.down$gene, \n",
    "                       OrgDb = \"org.Mm.eg.db\", keyType = \"SYMBOL\", ont = \"BP\")\n",
    "as.data.frame(GO_results)"
   ]
  },
  {
   "cell_type": "code",
   "execution_count": 33,
   "id": "47f48154",
   "metadata": {},
   "outputs": [
    {
     "data": {
      "text/html": [
       "<strong>pdf:</strong> 2"
      ],
      "text/latex": [
       "\\textbf{pdf:} 2"
      ],
      "text/markdown": [
       "**pdf:** 2"
      ],
      "text/plain": [
       "pdf \n",
       "  2 "
      ]
     },
     "metadata": {},
     "output_type": "display_data"
    },
    {
     "data": {
      "image/png": "[encoded data removed]",
      "text/plain": [
       "plot without title"
      ]
     },
     "metadata": {
      "image/png": {
       "height": 420,
       "width": 420
      }
     },
     "output_type": "display_data"
    }
   ],
   "source": [
    "fit <- plot(barplot(GO_results, showCategory = 10, font.size=8))\n",
    "png(\"data/TF/P5vsP1_DEG_Foxl2_down_BP.png\", res = 600, width = 2400, height = 1800)\n",
    "print(fit)\n",
    "dev.off()"
   ]
  },
  {
   "cell_type": "code",
   "execution_count": 34,
   "id": "082bb8a8",
   "metadata": {},
   "outputs": [
    {
     "data": {
      "text/html": [
       "<table class=\"dataframe\">\n",
       "<caption>A data.frame: 10 × 8</caption>\n",
       "<thead>\n",
       "\t<tr><th></th><th scope=col>p_val</th><th scope=col>avg_log2FC</th><th scope=col>pct.1</th><th scope=col>pct.2</th><th scope=col>p_val_adj</th><th scope=col>cluster</th><th scope=col>dir</th><th scope=col>gene</th></tr>\n",
       "\t<tr><th></th><th scope=col>&lt;dbl&gt;</th><th scope=col>&lt;dbl&gt;</th><th scope=col>&lt;dbl&gt;</th><th scope=col>&lt;dbl&gt;</th><th scope=col>&lt;dbl&gt;</th><th scope=col>&lt;chr&gt;</th><th scope=col>&lt;chr&gt;</th><th scope=col>&lt;chr&gt;</th></tr>\n",
       "</thead>\n",
       "<tbody>\n",
       "\t<tr><th scope=row>Cox7a2l</th><td>2.765188e-133</td><td>-0.2808167</td><td>0.875</td><td>0.967</td><td>6.788260e-129</td><td>P5</td><td>down</td><td>Cox7a2l</td></tr>\n",
       "\t<tr><th scope=row>Meg3</th><td>9.836509e-132</td><td>-0.3025115</td><td>0.975</td><td>0.996</td><td>2.414765e-127</td><td>P5</td><td>down</td><td>Meg3   </td></tr>\n",
       "\t<tr><th scope=row>Hba-a1</th><td>5.901884e-116</td><td>-0.2715348</td><td>0.918</td><td>0.980</td><td>1.448853e-111</td><td>P5</td><td>down</td><td>Hba-a1 </td></tr>\n",
       "\t<tr><th scope=row>Alcam</th><td> 2.960251e-96</td><td>-0.4142805</td><td>0.225</td><td>0.548</td><td> 7.267120e-92</td><td>P5</td><td>down</td><td>Alcam  </td></tr>\n",
       "\t<tr><th scope=row>Npc2</th><td> 1.909844e-92</td><td>-0.2555322</td><td>0.757</td><td>0.918</td><td> 4.688476e-88</td><td>P5</td><td>down</td><td>Npc2   </td></tr>\n",
       "\t<tr><th scope=row>Pdgfrl</th><td> 9.736947e-76</td><td>-0.3418937</td><td>0.315</td><td>0.610</td><td> 2.390323e-71</td><td>P5</td><td>down</td><td>Pdgfrl </td></tr>\n",
       "\t<tr><th scope=row>Eln</th><td> 1.065743e-69</td><td>-0.3535311</td><td>0.521</td><td>0.735</td><td> 2.616293e-65</td><td>P5</td><td>down</td><td>Eln    </td></tr>\n",
       "\t<tr><th scope=row>Zfp787</th><td> 5.784741e-68</td><td>-0.2604527</td><td>0.152</td><td>0.409</td><td> 1.420096e-63</td><td>P5</td><td>down</td><td>Zfp787 </td></tr>\n",
       "\t<tr><th scope=row>Tgfb2</th><td> 6.976342e-66</td><td>-0.2923383</td><td>0.323</td><td>0.602</td><td> 1.712622e-61</td><td>P5</td><td>down</td><td>Tgfb2  </td></tr>\n",
       "\t<tr><th scope=row>Chd2</th><td> 2.437492e-61</td><td>-0.2745389</td><td>0.275</td><td>0.538</td><td> 5.983798e-57</td><td>P5</td><td>down</td><td>Chd2   </td></tr>\n",
       "</tbody>\n",
       "</table>\n"
      ],
      "text/latex": [
       "A data.frame: 10 × 8\n",
       "\\begin{tabular}{r|llllllll}\n",
       "  & p\\_val & avg\\_log2FC & pct.1 & pct.2 & p\\_val\\_adj & cluster & dir & gene\\\\\n",
       "  & <dbl> & <dbl> & <dbl> & <dbl> & <dbl> & <chr> & <chr> & <chr>\\\\\n",
       "\\hline\n",
       "\tCox7a2l & 2.765188e-133 & -0.2808167 & 0.875 & 0.967 & 6.788260e-129 & P5 & down & Cox7a2l\\\\\n",
       "\tMeg3 & 9.836509e-132 & -0.3025115 & 0.975 & 0.996 & 2.414765e-127 & P5 & down & Meg3   \\\\\n",
       "\tHba-a1 & 5.901884e-116 & -0.2715348 & 0.918 & 0.980 & 1.448853e-111 & P5 & down & Hba-a1 \\\\\n",
       "\tAlcam &  2.960251e-96 & -0.4142805 & 0.225 & 0.548 &  7.267120e-92 & P5 & down & Alcam  \\\\\n",
       "\tNpc2 &  1.909844e-92 & -0.2555322 & 0.757 & 0.918 &  4.688476e-88 & P5 & down & Npc2   \\\\\n",
       "\tPdgfrl &  9.736947e-76 & -0.3418937 & 0.315 & 0.610 &  2.390323e-71 & P5 & down & Pdgfrl \\\\\n",
       "\tEln &  1.065743e-69 & -0.3535311 & 0.521 & 0.735 &  2.616293e-65 & P5 & down & Eln    \\\\\n",
       "\tZfp787 &  5.784741e-68 & -0.2604527 & 0.152 & 0.409 &  1.420096e-63 & P5 & down & Zfp787 \\\\\n",
       "\tTgfb2 &  6.976342e-66 & -0.2923383 & 0.323 & 0.602 &  1.712622e-61 & P5 & down & Tgfb2  \\\\\n",
       "\tChd2 &  2.437492e-61 & -0.2745389 & 0.275 & 0.538 &  5.983798e-57 & P5 & down & Chd2   \\\\\n",
       "\\end{tabular}\n"
      ],
      "text/markdown": [
       "\n",
       "A data.frame: 10 × 8\n",
       "\n",
       "| <!--/--> | p_val &lt;dbl&gt; | avg_log2FC &lt;dbl&gt; | pct.1 &lt;dbl&gt; | pct.2 &lt;dbl&gt; | p_val_adj &lt;dbl&gt; | cluster &lt;chr&gt; | dir &lt;chr&gt; | gene &lt;chr&gt; |\n",
       "|---|---|---|---|---|---|---|---|---|\n",
       "| Cox7a2l | 2.765188e-133 | -0.2808167 | 0.875 | 0.967 | 6.788260e-129 | P5 | down | Cox7a2l |\n",
       "| Meg3 | 9.836509e-132 | -0.3025115 | 0.975 | 0.996 | 2.414765e-127 | P5 | down | Meg3    |\n",
       "| Hba-a1 | 5.901884e-116 | -0.2715348 | 0.918 | 0.980 | 1.448853e-111 | P5 | down | Hba-a1  |\n",
       "| Alcam |  2.960251e-96 | -0.4142805 | 0.225 | 0.548 |  7.267120e-92 | P5 | down | Alcam   |\n",
       "| Npc2 |  1.909844e-92 | -0.2555322 | 0.757 | 0.918 |  4.688476e-88 | P5 | down | Npc2    |\n",
       "| Pdgfrl |  9.736947e-76 | -0.3418937 | 0.315 | 0.610 |  2.390323e-71 | P5 | down | Pdgfrl  |\n",
       "| Eln |  1.065743e-69 | -0.3535311 | 0.521 | 0.735 |  2.616293e-65 | P5 | down | Eln     |\n",
       "| Zfp787 |  5.784741e-68 | -0.2604527 | 0.152 | 0.409 |  1.420096e-63 | P5 | down | Zfp787  |\n",
       "| Tgfb2 |  6.976342e-66 | -0.2923383 | 0.323 | 0.602 |  1.712622e-61 | P5 | down | Tgfb2   |\n",
       "| Chd2 |  2.437492e-61 | -0.2745389 | 0.275 | 0.538 |  5.983798e-57 | P5 | down | Chd2    |\n",
       "\n"
      ],
      "text/plain": [
       "        p_val         avg_log2FC pct.1 pct.2 p_val_adj     cluster dir  gene   \n",
       "Cox7a2l 2.765188e-133 -0.2808167 0.875 0.967 6.788260e-129 P5      down Cox7a2l\n",
       "Meg3    9.836509e-132 -0.3025115 0.975 0.996 2.414765e-127 P5      down Meg3   \n",
       "Hba-a1  5.901884e-116 -0.2715348 0.918 0.980 1.448853e-111 P5      down Hba-a1 \n",
       "Alcam    2.960251e-96 -0.4142805 0.225 0.548  7.267120e-92 P5      down Alcam  \n",
       "Npc2     1.909844e-92 -0.2555322 0.757 0.918  4.688476e-88 P5      down Npc2   \n",
       "Pdgfrl   9.736947e-76 -0.3418937 0.315 0.610  2.390323e-71 P5      down Pdgfrl \n",
       "Eln      1.065743e-69 -0.3535311 0.521 0.735  2.616293e-65 P5      down Eln    \n",
       "Zfp787   5.784741e-68 -0.2604527 0.152 0.409  1.420096e-63 P5      down Zfp787 \n",
       "Tgfb2    6.976342e-66 -0.2923383 0.323 0.602  1.712622e-61 P5      down Tgfb2  \n",
       "Chd2     2.437492e-61 -0.2745389 0.275 0.538  5.983798e-57 P5      down Chd2   "
      ]
     },
     "metadata": {},
     "output_type": "display_data"
    },
    {
     "data": {
      "text/html": [
       "<style>\n",
       ".list-inline {list-style: none; margin:0; padding: 0}\n",
       ".list-inline>li {display: inline-block}\n",
       ".list-inline>li:not(:last-child)::after {content: \"\\00b7\"; padding: 0 .5ex}\n",
       "</style>\n",
       "<ol class=list-inline><li>17</li><li>8</li></ol>\n"
      ],
      "text/latex": [
       "\\begin{enumerate*}\n",
       "\\item 17\n",
       "\\item 8\n",
       "\\end{enumerate*}\n"
      ],
      "text/markdown": [
       "1. 17\n",
       "2. 8\n",
       "\n",
       "\n"
      ],
      "text/plain": [
       "[1] 17  8"
      ]
     },
     "metadata": {},
     "output_type": "display_data"
    }
   ],
   "source": [
    "head(TF.hits.down, n=10)\n",
    "dim(TF.hits.down)"
   ]
  },
  {
   "cell_type": "code",
   "execution_count": null,
   "id": "9a7aeddd",
   "metadata": {},
   "outputs": [],
   "source": []
  }
 ],
 "metadata": {
  "kernelspec": {
   "display_name": "R",
   "language": "R",
   "name": "ir"
  },
  "language_info": {
   "codemirror_mode": "r",
   "file_extension": ".r",
   "mimetype": "text/x-r-source",
   "name": "R",
   "pygments_lexer": "r",
   "version": "4.2.3"
  }
 },
 "nbformat": 4,
 "nbformat_minor": 5
}
